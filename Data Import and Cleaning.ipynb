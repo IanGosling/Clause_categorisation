{
 "cells": [
  {
   "metadata": {},
   "cell_type": "markdown",
   "source": "# Set up Libraries",
   "id": "b90eced7d080c6d8"
  },
  {
   "metadata": {
    "ExecuteTime": {
     "end_time": "2024-09-17T16:18:18.709386Z",
     "start_time": "2024-09-17T16:18:18.706173Z"
    }
   },
   "cell_type": "code",
   "source": [
    "import os\n",
    "import pandas as pd\n",
    "from sklearn.model_selection import train_test_split\n",
    "from gensim.parsing.preprocessing import preprocess_documents"
   ],
   "id": "9c5cee26221e6c94",
   "outputs": [],
   "execution_count": 77
  },
  {
   "metadata": {},
   "cell_type": "markdown",
   "source": "### Step 1 - Create list of files in directory and import them",
   "id": "36da9a5b98f5eecc"
  },
  {
   "metadata": {
    "ExecuteTime": {
     "end_time": "2024-09-17T16:33:31.635886Z",
     "start_time": "2024-09-17T16:33:31.570315Z"
    }
   },
   "cell_type": "code",
   "source": [
    "def read_files_into_dataframe(directory):\n",
    "    files = os.listdir(directory)\n",
    "    df = pd.DataFrame()\n",
    "    for file in files:\n",
    "        file_path = os.path.join(directory, file)\n",
    "        new_data = pd.read_csv(file_path)\n",
    "        df = pd.concat([df, new_data])\n",
    "        print(file)\n",
    "    return df\n",
    "\n",
    "directory = 'Clauses'\n",
    "data = read_files_into_dataframe(directory)\n",
    "print(data.head(20))"
   ],
   "id": "68915946fead62f7",
   "outputs": [
    {
     "name": "stdout",
     "output_type": "stream",
     "text": [
      "indemnification-and-contribution.csv\n",
      "indemnification.csv\n",
      "confidentiality.csv\n",
      "indemnification-by-the-company.csv\n",
      "contribution.csv\n",
      "participations.csv\n",
      "arbitration.csv\n",
      "confidential-information.csv\n",
      "capitalization.csv\n",
      "payment-of-expenses.csv\n",
      "                                          clause_text                       clause_type\n",
      "0   Indemnification and Contribution. (a) The Comp...  indemnification-and-contribution\n",
      "1   Indemnification and Contribution. (a) The Comp...  indemnification-and-contribution\n",
      "2   Indemnification and Contribution. (a) The Comp...  indemnification-and-contribution\n",
      "3   Indemnification and Contribution. (a) The Comp...  indemnification-and-contribution\n",
      "4   Indemnification and Contribution. A. The Issue...  indemnification-and-contribution\n",
      "5   Indemnification and Contribution. (a) The Comp...  indemnification-and-contribution\n",
      "6   Indemnification and Contribution. (a) In the e...  indemnification-and-contribution\n",
      "7   Indemnification and Contribution. (a) The Comp...  indemnification-and-contribution\n",
      "8   Indemnification and Contribution. (a) The Comp...  indemnification-and-contribution\n",
      "9   Indemnification and Contribution. (a) In the e...  indemnification-and-contribution\n",
      "10  Indemnification and Contribution. (a) The Comp...  indemnification-and-contribution\n",
      "11  Indemnification and Contribution. (a) The Comp...  indemnification-and-contribution\n",
      "12  Indemnification and Contribution. (a) The Comp...  indemnification-and-contribution\n",
      "13  Indemnification and Contribution. (a) Each of ...  indemnification-and-contribution\n",
      "14  Indemnification and Contribution. (a) The Comp...  indemnification-and-contribution\n",
      "15  Indemnification and Contribution. (a) Each of ...  indemnification-and-contribution\n",
      "16  Indemnification and Contribution. (a) The Comp...  indemnification-and-contribution\n",
      "17  Indemnification and Contribution. (a) The Comp...  indemnification-and-contribution\n",
      "18  Indemnification and Contribution. Subject to t...  indemnification-and-contribution\n",
      "19  Indemnification and Contribution. (a) Indemnif...  indemnification-and-contribution\n"
     ]
    }
   ],
   "execution_count": 95
  },
  {
   "metadata": {},
   "cell_type": "markdown",
   "source": "",
   "id": "b217ef52217be089"
  },
  {
   "metadata": {},
   "cell_type": "markdown",
   "source": "### Step 2 - Remove the name of the clause from the Clause Text by removing all text up to and including the first period ",
   "id": "30244b609c317666"
  },
  {
   "metadata": {
    "ExecuteTime": {
     "end_time": "2024-09-17T16:33:33.806039Z",
     "start_time": "2024-09-17T16:33:33.796121Z"
    }
   },
   "cell_type": "code",
   "source": [
    "# create a new column without the text up to the first period\n",
    "data['modified_clause_text'] = data['clause_text'].str.replace(\"^[^.]*\\.\", \"\", regex=True)"
   ],
   "id": "a2f60260423a884a",
   "outputs": [],
   "execution_count": 96
  },
  {
   "metadata": {
    "ExecuteTime": {
     "end_time": "2024-09-17T16:33:34.462157Z",
     "start_time": "2024-09-17T16:33:34.368667Z"
    }
   },
   "cell_type": "code",
   "source": [
    "# export to allow eyeball check\n",
    "data.to_csv('exported_dataframe.csv', index=False)"
   ],
   "id": "a42847f081433e59",
   "outputs": [],
   "execution_count": 97
  },
  {
   "metadata": {
    "ExecuteTime": {
     "end_time": "2024-09-17T16:33:34.942212Z",
     "start_time": "2024-09-17T16:33:34.939872Z"
    }
   },
   "cell_type": "code",
   "source": [
    "# drop the clause text column\n",
    "data.drop('clause_text', axis=1, inplace=True)"
   ],
   "id": "85f2bce3b8863801",
   "outputs": [],
   "execution_count": 98
  },
  {
   "metadata": {
    "ExecuteTime": {
     "end_time": "2024-09-17T16:33:35.583364Z",
     "start_time": "2024-09-17T16:33:35.579923Z"
    }
   },
   "cell_type": "code",
   "source": [
    "# Get basic data description by category\n",
    "unique_values = data['clause_type'].unique()\n",
    "print(unique_values)"
   ],
   "id": "b2cbc29ec2b4cacf",
   "outputs": [
    {
     "name": "stdout",
     "output_type": "stream",
     "text": [
      "['indemnification-and-contribution' 'indemnification' 'confidentiality'\n",
      " 'indemnification-by-the-company' 'contribution' 'participations'\n",
      " 'arbitration' 'confidential-information' 'capitalization'\n",
      " 'payment-of-expenses']\n"
     ]
    }
   ],
   "execution_count": 99
  },
  {
   "metadata": {},
   "cell_type": "markdown",
   "source": "### Step 3 - Explore the Dataset",
   "id": "9ee77ee0d6991c6e"
  },
  {
   "metadata": {
    "ExecuteTime": {
     "end_time": "2024-09-17T16:33:36.985269Z",
     "start_time": "2024-09-17T16:33:36.982187Z"
    }
   },
   "cell_type": "code",
   "source": [
    "# Count number of records\n",
    "print(len(data))"
   ],
   "id": "316a8ff0592653ab",
   "outputs": [
    {
     "name": "stdout",
     "output_type": "stream",
     "text": [
      "2150\n"
     ]
    }
   ],
   "execution_count": 100
  },
  {
   "metadata": {
    "ExecuteTime": {
     "end_time": "2024-09-17T16:33:37.667815Z",
     "start_time": "2024-09-17T16:33:37.621038Z"
    }
   },
   "cell_type": "code",
   "source": [
    "#  Get average number of words in modified_clause_text\n",
    "# Assuming that 'data' is the DataFrame and 'modified_clause_text' is the column name\n",
    "average_word_count = data['modified_clause_text'].str.split().str.len().mean()\n",
    "rounded_average_word_count = round(average_word_count)\n",
    "print(f\"Rounded average word count: {rounded_average_word_count}\")"
   ],
   "id": "16284ee698ad0486",
   "outputs": [
    {
     "name": "stdout",
     "output_type": "stream",
     "text": [
      "Rounded average word count: 243\n"
     ]
    }
   ],
   "execution_count": 101
  },
  {
   "metadata": {
    "ExecuteTime": {
     "end_time": "2024-09-17T16:33:38.420220Z",
     "start_time": "2024-09-17T16:33:38.376343Z"
    }
   },
   "cell_type": "code",
   "source": [
    "# Get some descriptive stats by category\n",
    "labels = data['clause_type'].unique()\n",
    "\n",
    "# First, create a new column 'word_count' which represents the word count of each record in 'modified_clause_text' column\n",
    "data['word_count'] = data['modified_clause_text'].str.split().str.len()\n",
    "\n",
    "results = []  \n",
    "# Iterate over each label\n",
    "for label in labels:\n",
    "    # Filter the records for the current label\n",
    "    label_data = data[data['clause_type'] == label]\n",
    "\n",
    "    # Calculate stats for current label\n",
    "    record_count = len(label_data)\n",
    "    min_word_count = label_data['word_count'].min()\n",
    "    max_word_count = label_data['word_count'].max()\n",
    "    avg_word_count = round(label_data['word_count'].mean())\n",
    "\n",
    "    # Append the stats for current label to the results list\n",
    "    results.append({'Label': label,\n",
    "                    'Record Count': record_count,\n",
    "                    'Min Word Count': min_word_count,\n",
    "                    'Max Word Count': max_word_count,\n",
    "                    'Avg Word Count': avg_word_count})\n",
    "\n",
    "# Convert the results list to a DataFrame\n",
    "results_df = pd.DataFrame(results)\n",
    "\n",
    "# Set display options for pandas\n",
    "pd.set_option('display.max_columns', None)\n",
    "pd.set_option('display.expand_frame_repr', False)\n",
    "pd.options.display.float_format = '{:.2f}'.format\n",
    "\n",
    "# Display the DataFrame\n",
    "print(results_df.to_string(index=False))\n",
    "\n"
   ],
   "id": "eb9dc5bc75bb965",
   "outputs": [
    {
     "name": "stdout",
     "output_type": "stream",
     "text": [
      "                           Label  Record Count  Min Word Count  Max Word Count  Avg Word Count\n",
      "indemnification-and-contribution           180               5             415             303\n",
      "                 indemnification           210               4             418             247\n",
      "                 confidentiality           220               6             416             242\n",
      "  indemnification-by-the-company           230               4             430             218\n",
      "                    contribution           180              50             424             327\n",
      "                  participations           210              29             428             253\n",
      "                     arbitration           240               2             408             212\n",
      "        confidential-information           240               3             410             195\n",
      "                  capitalization           200              13             422             275\n",
      "             payment-of-expenses           240               5             412             200\n"
     ]
    }
   ],
   "execution_count": 102
  },
  {
   "metadata": {},
   "cell_type": "markdown",
   "source": "### Step 4 - Preprocess Text",
   "id": "82a3b6117340b549"
  },
  {
   "metadata": {
    "ExecuteTime": {
     "end_time": "2024-09-17T16:33:41.030432Z",
     "start_time": "2024-09-17T16:33:40.162793Z"
    }
   },
   "cell_type": "code",
   "source": [
    "# Removing Special Characters, low casing, removing punctuation, lemmatization and removing stop words \n",
    "data[\"preprocessed_text\"] = data[\"modified_clause_text\"].map(lambda x: preprocess_documents([x])[0])\n",
    "print(data.head(10))\n"
   ],
   "id": "20ffe42e0b7da97a",
   "outputs": [
    {
     "name": "stdout",
     "output_type": "stream",
     "text": [
      "                        clause_type                               modified_clause_text  word_count                                  preprocessed_text\n",
      "0  indemnification-and-contribution   (a) The Company agrees to indemnify and hold ...         307  [compani, agre, indemnifi, hold, harmless, und...\n",
      "1  indemnification-and-contribution   (a) The Company agrees to indemnify and hold ...         350  [compani, agre, indemnifi, hold, harmless, und...\n",
      "2  indemnification-and-contribution   (a) The Company agrees to indemnify and hold ...         348  [compani, agre, indemnifi, hold, harmless, und...\n",
      "3  indemnification-and-contribution   (a) The Company agrees to indemnify, defend a...         405  [compani, agre, indemnifi, defend, hold, harml...\n",
      "4  indemnification-and-contribution   A. The Issuer and the Guarantors jointly and ...         410  [issuer, guarantor, jointli, sever, agre, inde...\n",
      "5  indemnification-and-contribution   (a) The Company and each Guarantor, jointly a...         386  [compani, guarantor, jointli, sever, agre, ind...\n",
      "6  indemnification-and-contribution   (a) In the event of a registration of any of ...         326  [event, registr, registr, secur, secur, act, p...\n",
      "7  indemnification-and-contribution   (a) The Company will indemnify and hold harml...         275  [compani, indemnifi, hold, harmless, underwrit...\n",
      "8  indemnification-and-contribution   (a) The Company agrees to indemnify, defend a...         404  [compani, agre, indemnifi, defend, hold, harml...\n",
      "9  indemnification-and-contribution   (a) In the event of a registration of any Reg...         410  [event, registr, registr, secur, act, pursuant...\n"
     ]
    }
   ],
   "execution_count": 103
  },
  {
   "metadata": {},
   "cell_type": "code",
   "source": [
    "# Removing 'modified_clause_text' and 'word_count' to reduce file size \n",
    "data.drop('modified_clause_text', axis=1, inplace=True)\n",
    "data.drop('word_count', axis=1, inplace=True)"
   ],
   "id": "cb546e2f7d8823db",
   "outputs": [],
   "execution_count": null
  },
  {
   "metadata": {},
   "cell_type": "markdown",
   "source": "### Step 5 - Split Data into Training and Test",
   "id": "bd5c878145c3b4a0"
  },
  {
   "metadata": {
    "ExecuteTime": {
     "end_time": "2024-09-17T16:34:22.650069Z",
     "start_time": "2024-09-17T16:34:22.630773Z"
    }
   },
   "cell_type": "code",
   "source": [
    "# Assuming 'data' is your DataFrame\n",
    "train_data, test_data = train_test_split(data, test_size=0.25, random_state=42)"
   ],
   "id": "6ef780df79f95c0",
   "outputs": [],
   "execution_count": 107
  },
  {
   "metadata": {},
   "cell_type": "markdown",
   "source": "### Step 6 - Save the Train and Test Data for use by the Notebooks for each Model",
   "id": "82565785e32e92bb"
  },
  {
   "metadata": {
    "ExecuteTime": {
     "end_time": "2024-09-17T16:34:24.157272Z",
     "start_time": "2024-09-17T16:34:24.095505Z"
    }
   },
   "cell_type": "code",
   "source": [
    "# Save training set to CSV\n",
    "train_data.to_csv(\"train_data.csv\", index=False)\n",
    "\n",
    "# Save test set to CSV\n",
    "test_data.to_csv(\"test_data.csv\", index=False)\n"
   ],
   "id": "6a34df77384e3a96",
   "outputs": [],
   "execution_count": 108
  }
 ],
 "metadata": {
  "kernelspec": {
   "display_name": "Python 3",
   "language": "python",
   "name": "python3"
  },
  "language_info": {
   "codemirror_mode": {
    "name": "ipython",
    "version": 2
   },
   "file_extension": ".py",
   "mimetype": "text/x-python",
   "name": "python",
   "nbconvert_exporter": "python",
   "pygments_lexer": "ipython2",
   "version": "2.7.6"
  }
 },
 "nbformat": 4,
 "nbformat_minor": 5
}
