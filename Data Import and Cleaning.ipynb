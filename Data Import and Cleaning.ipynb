{
 "cells": [
  {
   "metadata": {},
   "cell_type": "markdown",
   "source": "# Set up Libraries",
   "id": "b90eced7d080c6d8"
  },
  {
   "metadata": {},
   "cell_type": "code",
   "outputs": [],
   "execution_count": null,
   "source": [
    "import numpy as np\n",
    "import os\n",
    "import pandas as pd"
   ],
   "id": "9c5cee26221e6c94"
  },
  {
   "metadata": {},
   "cell_type": "markdown",
   "source": "# Step 1 - Create list of files in directory and import them",
   "id": "36da9a5b98f5eecc"
  },
  {
   "metadata": {
    "ExecuteTime": {
     "end_time": "2024-09-03T15:19:29.655862Z",
     "start_time": "2024-09-03T15:19:29.601866Z"
    }
   },
   "cell_type": "code",
   "source": [
    "def read_files_into_dataframe(directory):\n",
    "    files = os.listdir(directory)\n",
    "    df = pd.DataFrame()\n",
    "    for file in files:\n",
    "        file_path = os.path.join(directory, file)\n",
    "        new_data = pd.read_csv(file_path)\n",
    "        df = pd.concat([df, new_data])\n",
    "        print(file)\n",
    "    return df\n",
    "\n",
    "directory = 'Clauses'\n",
    "dataframe = read_files_into_dataframe(directory)\n",
    "print(dataframe.head(20))"
   ],
   "id": "68915946fead62f7",
   "outputs": [
    {
     "name": "stdout",
     "output_type": "stream",
     "text": [
      "indemnification-and-contribution.csv\n",
      "indemnification.csv\n",
      "confidentiality.csv\n",
      "indemnification-by-the-company.csv\n",
      "contribution.csv\n",
      "participations.csv\n",
      "arbitration.csv\n",
      "confidential-information.csv\n",
      "capitalization.csv\n",
      "payment-of-expenses.csv\n",
      "                                          clause_text  \\\n",
      "0   Indemnification and Contribution. (a) The Comp...   \n",
      "1   Indemnification and Contribution. (a) The Comp...   \n",
      "2   Indemnification and Contribution. (a) The Comp...   \n",
      "3   Indemnification and Contribution. (a) The Comp...   \n",
      "4   Indemnification and Contribution. A. The Issue...   \n",
      "5   Indemnification and Contribution. (a) The Comp...   \n",
      "6   Indemnification and Contribution. (a) In the e...   \n",
      "7   Indemnification and Contribution. (a) The Comp...   \n",
      "8   Indemnification and Contribution. (a) The Comp...   \n",
      "9   Indemnification and Contribution. (a) In the e...   \n",
      "10  Indemnification and Contribution. (a) The Comp...   \n",
      "11  Indemnification and Contribution. (a) The Comp...   \n",
      "12  Indemnification and Contribution. (a) The Comp...   \n",
      "13  Indemnification and Contribution. (a) Each of ...   \n",
      "14  Indemnification and Contribution. (a) The Comp...   \n",
      "15  Indemnification and Contribution. (a) Each of ...   \n",
      "16  Indemnification and Contribution. (a) The Comp...   \n",
      "17  Indemnification and Contribution. (a) The Comp...   \n",
      "18  Indemnification and Contribution. Subject to t...   \n",
      "19  Indemnification and Contribution. (a) Indemnif...   \n",
      "\n",
      "                         clause_type  \n",
      "0   indemnification-and-contribution  \n",
      "1   indemnification-and-contribution  \n",
      "2   indemnification-and-contribution  \n",
      "3   indemnification-and-contribution  \n",
      "4   indemnification-and-contribution  \n",
      "5   indemnification-and-contribution  \n",
      "6   indemnification-and-contribution  \n",
      "7   indemnification-and-contribution  \n",
      "8   indemnification-and-contribution  \n",
      "9   indemnification-and-contribution  \n",
      "10  indemnification-and-contribution  \n",
      "11  indemnification-and-contribution  \n",
      "12  indemnification-and-contribution  \n",
      "13  indemnification-and-contribution  \n",
      "14  indemnification-and-contribution  \n",
      "15  indemnification-and-contribution  \n",
      "16  indemnification-and-contribution  \n",
      "17  indemnification-and-contribution  \n",
      "18  indemnification-and-contribution  \n",
      "19  indemnification-and-contribution  \n"
     ]
    }
   ],
   "execution_count": 19
  },
  {
   "metadata": {},
   "cell_type": "code",
   "outputs": [],
   "execution_count": null,
   "source": "Step ",
   "id": "4b1d17f5e0ca2e6d"
  }
 ],
 "metadata": {
  "kernelspec": {
   "display_name": "Python 3",
   "language": "python",
   "name": "python3"
  },
  "language_info": {
   "codemirror_mode": {
    "name": "ipython",
    "version": 2
   },
   "file_extension": ".py",
   "mimetype": "text/x-python",
   "name": "python",
   "nbconvert_exporter": "python",
   "pygments_lexer": "ipython2",
   "version": "2.7.6"
  }
 },
 "nbformat": 4,
 "nbformat_minor": 5
}
