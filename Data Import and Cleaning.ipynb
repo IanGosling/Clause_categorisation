{
 "cells": [
  {
   "metadata": {},
   "cell_type": "markdown",
   "source": "# Set up Libraries",
   "id": "b90eced7d080c6d8"
  },
  {
   "metadata": {},
   "cell_type": "code",
   "outputs": [],
   "execution_count": null,
   "source": [
    "import numpy as np\n",
    "import os\n",
    "import pandas as pd"
   ],
   "id": "9c5cee26221e6c94"
  },
  {
   "metadata": {},
   "cell_type": "markdown",
   "source": "### Step 1 - Create list of files in directory and import them",
   "id": "36da9a5b98f5eecc"
  },
  {
   "metadata": {
    "ExecuteTime": {
     "end_time": "2024-09-03T16:06:47.438677Z",
     "start_time": "2024-09-03T16:06:47.382813Z"
    }
   },
   "cell_type": "code",
   "source": [
    "def read_files_into_dataframe(directory):\n",
    "    files = os.listdir(directory)\n",
    "    df = pd.DataFrame()\n",
    "    for file in files:\n",
    "        file_path = os.path.join(directory, file)\n",
    "        new_data = pd.read_csv(file_path)\n",
    "        df = pd.concat([df, new_data])\n",
    "        print(file)\n",
    "    return df\n",
    "\n",
    "directory = 'Clauses'\n",
    "data = read_files_into_dataframe(directory)\n",
    "print(data.head(20))"
   ],
   "id": "68915946fead62f7",
   "outputs": [
    {
     "name": "stdout",
     "output_type": "stream",
     "text": [
      "indemnification-and-contribution.csv\n",
      "indemnification.csv\n",
      "confidentiality.csv\n",
      "indemnification-by-the-company.csv\n",
      "contribution.csv\n",
      "participations.csv\n",
      "arbitration.csv\n",
      "confidential-information.csv\n",
      "capitalization.csv\n",
      "payment-of-expenses.csv\n",
      "                                          clause_text  \\\n",
      "0   Indemnification and Contribution. (a) The Comp...   \n",
      "1   Indemnification and Contribution. (a) The Comp...   \n",
      "2   Indemnification and Contribution. (a) The Comp...   \n",
      "3   Indemnification and Contribution. (a) The Comp...   \n",
      "4   Indemnification and Contribution. A. The Issue...   \n",
      "5   Indemnification and Contribution. (a) The Comp...   \n",
      "6   Indemnification and Contribution. (a) In the e...   \n",
      "7   Indemnification and Contribution. (a) The Comp...   \n",
      "8   Indemnification and Contribution. (a) The Comp...   \n",
      "9   Indemnification and Contribution. (a) In the e...   \n",
      "10  Indemnification and Contribution. (a) The Comp...   \n",
      "11  Indemnification and Contribution. (a) The Comp...   \n",
      "12  Indemnification and Contribution. (a) The Comp...   \n",
      "13  Indemnification and Contribution. (a) Each of ...   \n",
      "14  Indemnification and Contribution. (a) The Comp...   \n",
      "15  Indemnification and Contribution. (a) Each of ...   \n",
      "16  Indemnification and Contribution. (a) The Comp...   \n",
      "17  Indemnification and Contribution. (a) The Comp...   \n",
      "18  Indemnification and Contribution. Subject to t...   \n",
      "19  Indemnification and Contribution. (a) Indemnif...   \n",
      "\n",
      "                         clause_type  \n",
      "0   indemnification-and-contribution  \n",
      "1   indemnification-and-contribution  \n",
      "2   indemnification-and-contribution  \n",
      "3   indemnification-and-contribution  \n",
      "4   indemnification-and-contribution  \n",
      "5   indemnification-and-contribution  \n",
      "6   indemnification-and-contribution  \n",
      "7   indemnification-and-contribution  \n",
      "8   indemnification-and-contribution  \n",
      "9   indemnification-and-contribution  \n",
      "10  indemnification-and-contribution  \n",
      "11  indemnification-and-contribution  \n",
      "12  indemnification-and-contribution  \n",
      "13  indemnification-and-contribution  \n",
      "14  indemnification-and-contribution  \n",
      "15  indemnification-and-contribution  \n",
      "16  indemnification-and-contribution  \n",
      "17  indemnification-and-contribution  \n",
      "18  indemnification-and-contribution  \n",
      "19  indemnification-and-contribution  \n"
     ]
    }
   ],
   "execution_count": 34
  },
  {
   "metadata": {
    "ExecuteTime": {
     "end_time": "2024-09-03T16:06:53.115060Z",
     "start_time": "2024-09-03T16:06:53.111896Z"
    }
   },
   "cell_type": "code",
   "source": "print(len(data))",
   "id": "d8ee171f9f8964a",
   "outputs": [
    {
     "name": "stdout",
     "output_type": "stream",
     "text": [
      "2150\n"
     ]
    }
   ],
   "execution_count": 35
  },
  {
   "metadata": {},
   "cell_type": "markdown",
   "source": "### Step 2 - Remove the name of the clause from the Clause Text by removing all text up to and including the first period ",
   "id": "30244b609c317666"
  },
  {
   "metadata": {
    "ExecuteTime": {
     "end_time": "2024-09-03T16:10:46.065710Z",
     "start_time": "2024-09-03T16:10:46.056240Z"
    }
   },
   "cell_type": "code",
   "source": "data['modified_clause_text'] = data['clause_text'].str.replace(\"^[^.]*\\.\", \"\", regex=True)",
   "id": "a2f60260423a884a",
   "outputs": [],
   "execution_count": 36
  },
  {
   "metadata": {
    "ExecuteTime": {
     "end_time": "2024-09-03T16:11:09.197780Z",
     "start_time": "2024-09-03T16:11:09.116864Z"
    }
   },
   "cell_type": "code",
   "source": "data.to_csv('exported_dataframe.csv', index=False)",
   "id": "a42847f081433e59",
   "outputs": [],
   "execution_count": 37
  },
  {
   "metadata": {},
   "cell_type": "code",
   "outputs": [],
   "execution_count": null,
   "source": "",
   "id": "85f2bce3b8863801"
  }
 ],
 "metadata": {
  "kernelspec": {
   "display_name": "Python 3",
   "language": "python",
   "name": "python3"
  },
  "language_info": {
   "codemirror_mode": {
    "name": "ipython",
    "version": 2
   },
   "file_extension": ".py",
   "mimetype": "text/x-python",
   "name": "python",
   "nbconvert_exporter": "python",
   "pygments_lexer": "ipython2",
   "version": "2.7.6"
  }
 },
 "nbformat": 4,
 "nbformat_minor": 5
}
