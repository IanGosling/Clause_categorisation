{
 "cells": [
  {
   "cell_type": "code",
   "id": "initial_id",
   "metadata": {
    "collapsed": true,
    "ExecuteTime": {
     "end_time": "2024-09-16T19:08:04.987142Z",
     "start_time": "2024-09-16T19:08:04.984255Z"
    }
   },
   "source": [
    "import pandas as pd\n",
    "from gensim import utils\n",
    "from gensim.models.doc2vec import TaggedDocument\n",
    "from gensim.models import Doc2Vec\n",
    "from sklearn.tree import DecisionTreeClassifier\n",
    "from sklearn.metrics import accuracy_score\n",
    "import optuna\n",
    "from sklearn.model_selection import cross_val_score"
   ],
   "outputs": [],
   "execution_count": 58
  },
  {
   "metadata": {},
   "cell_type": "markdown",
   "source": "### Step 1 - Import Train and Test Data",
   "id": "b1016da932c75232"
  },
  {
   "metadata": {
    "ExecuteTime": {
     "end_time": "2024-09-16T10:18:02.312312Z",
     "start_time": "2024-09-16T10:18:02.243267Z"
    }
   },
   "cell_type": "code",
   "source": [
    "# Load training set from CSV\n",
    "train_data = pd.read_csv(\"train_data.csv\")\n",
    "# Load test set from CSV\n",
    "test_data = pd.read_csv(\"test_data.csv\")"
   ],
   "id": "e15a93e1bf4e534b",
   "outputs": [],
   "execution_count": 2
  },
  {
   "metadata": {},
   "cell_type": "markdown",
   "source": "### Step 2 - Pre-process Text",
   "id": "de12068eeeb2dd66"
  },
  {
   "metadata": {
    "ExecuteTime": {
     "end_time": "2024-09-16T10:35:42.807654Z",
     "start_time": "2024-09-16T10:35:42.474063Z"
    }
   },
   "cell_type": "code",
   "source": [
    "# Apply simple pre-processing function to train data\n",
    "train_data['train_tokens'] = train_data['modified_clause_text'].apply(utils.simple_preprocess)\n",
    "# Apply simple pre-processing function to test data\n",
    "test_data['test_tokens'] = test_data['modified_clause_text'].apply(utils.simple_preprocess)"
   ],
   "id": "54b22468a7337c8c",
   "outputs": [],
   "execution_count": 6
  },
  {
   "metadata": {},
   "cell_type": "markdown",
   "source": "### Step 3 - Tag the Documents",
   "id": "a61d7d4023a3d11c"
  },
  {
   "metadata": {
    "ExecuteTime": {
     "end_time": "2024-09-16T10:58:12.672821Z",
     "start_time": "2024-09-16T10:58:12.654019Z"
    }
   },
   "cell_type": "code",
   "source": [
    "# Produce unique identifier for Doc2Vec to work on document using index as unique tag\n",
    "tagged_data = [TaggedDocument(words=_d, tags=[str(i)]) for i, _d in enumerate(train_data['train_tokens'])]"
   ],
   "id": "d25dca9de1ae5756",
   "outputs": [],
   "execution_count": 13
  },
  {
   "metadata": {},
   "cell_type": "markdown",
   "source": "### Step 4 - Function to Train the Doc2Vec model and Extract Vectors for Train and Test sets",
   "id": "c4f613b434ca035c"
  },
  {
   "metadata": {
    "ExecuteTime": {
     "end_time": "2024-09-16T16:13:25.363820Z",
     "start_time": "2024-09-16T16:13:25.357938Z"
    }
   },
   "cell_type": "code",
   "source": [
    "# Initialize the Doc2Vec model using PV-DM (which is like CBOW) \n",
    "\n",
    "def trainD2VModel(tagged_docs, vectorsize, windowsize, mincount, worker_no, dm, epochs_no):\n",
    "\n",
    "    model = Doc2Vec(\n",
    "    vector_size=vectorsize,   # Dimensionality of the vectors\n",
    "    window=windowsize,          # Context window size\n",
    "    min_count=mincount,       # Ignores all words with total frequency lower than this\n",
    "    workers=worker_no,         # Number of parallel threads\n",
    "    dm=1               # PV-DM (CBOW-like) mode\n",
    "    )\n",
    "\n",
    "    # Build the vocabulary from the tagged data\n",
    "    model.build_vocab(tagged_data)\n",
    "        \n",
    "    # Train the model\n",
    "    model.train(tagged_data, total_examples=model.corpus_count, epochs=epochs_no)\n",
    "\n",
    "    return model\n",
    "\n",
    "def vectors_and_labels(tagged_data, test_docs, model):\n",
    "    X_train = [model.dv[i] for i in range(len(tagged_data))]\n",
    "    y_train = train_data[\"clause_type\"]\n",
    "    X_test = [model.infer_vector(doc) for doc in test_docs]\n",
    "    y_test = test_data[\"clause_type\"]\n",
    "\n",
    "    return X_train, y_train, X_test, y_test\n"
   ],
   "id": "49eb674d8ea4a2b1",
   "outputs": [],
   "execution_count": 44
  },
  {
   "metadata": {},
   "cell_type": "markdown",
   "source": "### Step 5 - Run functions and train Classifier\n",
   "id": "ac9b80815fd8f632"
  },
  {
   "metadata": {
    "ExecuteTime": {
     "end_time": "2024-09-16T19:43:41.034285Z",
     "start_time": "2024-09-16T19:43:40.008412Z"
    }
   },
   "cell_type": "code",
   "source": [
    "tagged_docs = train_data['train_tokens']    \n",
    "test_docs = test_data['test_tokens']\n",
    "\n",
    "model = trainD2VModel(tagged_docs,  vectorsize=100, windowsize=5, mincount=2, worker_no=4, dm=1, epochs_no=5)\n",
    "X_train, y_train, X_test, y_test = vectors_and_labels(tagged_data,test_docs, model)\n",
    "clf = DecisionTreeClassifier(max_depth=4)\n",
    "clf.fit(X_train, y_train)"
   ],
   "id": "201a522500b33a6",
   "outputs": [
    {
     "data": {
      "text/plain": [
       "DecisionTreeClassifier(max_depth=4)"
      ],
      "text/html": [
       "<style>#sk-container-id-13 {color: black;}#sk-container-id-13 pre{padding: 0;}#sk-container-id-13 div.sk-toggleable {background-color: white;}#sk-container-id-13 label.sk-toggleable__label {cursor: pointer;display: block;width: 100%;margin-bottom: 0;padding: 0.3em;box-sizing: border-box;text-align: center;}#sk-container-id-13 label.sk-toggleable__label-arrow:before {content: \"▸\";float: left;margin-right: 0.25em;color: #696969;}#sk-container-id-13 label.sk-toggleable__label-arrow:hover:before {color: black;}#sk-container-id-13 div.sk-estimator:hover label.sk-toggleable__label-arrow:before {color: black;}#sk-container-id-13 div.sk-toggleable__content {max-height: 0;max-width: 0;overflow: hidden;text-align: left;background-color: #f0f8ff;}#sk-container-id-13 div.sk-toggleable__content pre {margin: 0.2em;color: black;border-radius: 0.25em;background-color: #f0f8ff;}#sk-container-id-13 input.sk-toggleable__control:checked~div.sk-toggleable__content {max-height: 200px;max-width: 100%;overflow: auto;}#sk-container-id-13 input.sk-toggleable__control:checked~label.sk-toggleable__label-arrow:before {content: \"▾\";}#sk-container-id-13 div.sk-estimator input.sk-toggleable__control:checked~label.sk-toggleable__label {background-color: #d4ebff;}#sk-container-id-13 div.sk-label input.sk-toggleable__control:checked~label.sk-toggleable__label {background-color: #d4ebff;}#sk-container-id-13 input.sk-hidden--visually {border: 0;clip: rect(1px 1px 1px 1px);clip: rect(1px, 1px, 1px, 1px);height: 1px;margin: -1px;overflow: hidden;padding: 0;position: absolute;width: 1px;}#sk-container-id-13 div.sk-estimator {font-family: monospace;background-color: #f0f8ff;border: 1px dotted black;border-radius: 0.25em;box-sizing: border-box;margin-bottom: 0.5em;}#sk-container-id-13 div.sk-estimator:hover {background-color: #d4ebff;}#sk-container-id-13 div.sk-parallel-item::after {content: \"\";width: 100%;border-bottom: 1px solid gray;flex-grow: 1;}#sk-container-id-13 div.sk-label:hover label.sk-toggleable__label {background-color: #d4ebff;}#sk-container-id-13 div.sk-serial::before {content: \"\";position: absolute;border-left: 1px solid gray;box-sizing: border-box;top: 0;bottom: 0;left: 50%;z-index: 0;}#sk-container-id-13 div.sk-serial {display: flex;flex-direction: column;align-items: center;background-color: white;padding-right: 0.2em;padding-left: 0.2em;position: relative;}#sk-container-id-13 div.sk-item {position: relative;z-index: 1;}#sk-container-id-13 div.sk-parallel {display: flex;align-items: stretch;justify-content: center;background-color: white;position: relative;}#sk-container-id-13 div.sk-item::before, #sk-container-id-13 div.sk-parallel-item::before {content: \"\";position: absolute;border-left: 1px solid gray;box-sizing: border-box;top: 0;bottom: 0;left: 50%;z-index: -1;}#sk-container-id-13 div.sk-parallel-item {display: flex;flex-direction: column;z-index: 1;position: relative;background-color: white;}#sk-container-id-13 div.sk-parallel-item:first-child::after {align-self: flex-end;width: 50%;}#sk-container-id-13 div.sk-parallel-item:last-child::after {align-self: flex-start;width: 50%;}#sk-container-id-13 div.sk-parallel-item:only-child::after {width: 0;}#sk-container-id-13 div.sk-dashed-wrapped {border: 1px dashed gray;margin: 0 0.4em 0.5em 0.4em;box-sizing: border-box;padding-bottom: 0.4em;background-color: white;}#sk-container-id-13 div.sk-label label {font-family: monospace;font-weight: bold;display: inline-block;line-height: 1.2em;}#sk-container-id-13 div.sk-label-container {text-align: center;}#sk-container-id-13 div.sk-container {/* jupyter's `normalize.less` sets `[hidden] { display: none; }` but bootstrap.min.css set `[hidden] { display: none !important; }` so we also need the `!important` here to be able to override the default hidden behavior on the sphinx rendered scikit-learn.org. See: https://github.com/scikit-learn/scikit-learn/issues/21755 */display: inline-block !important;position: relative;}#sk-container-id-13 div.sk-text-repr-fallback {display: none;}</style><div id=\"sk-container-id-13\" class=\"sk-top-container\"><div class=\"sk-text-repr-fallback\"><pre>DecisionTreeClassifier(max_depth=4)</pre><b>In a Jupyter environment, please rerun this cell to show the HTML representation or trust the notebook. <br />On GitHub, the HTML representation is unable to render, please try loading this page with nbviewer.org.</b></div><div class=\"sk-container\" hidden><div class=\"sk-item\"><div class=\"sk-estimator sk-toggleable\"><input class=\"sk-toggleable__control sk-hidden--visually\" id=\"sk-estimator-id-13\" type=\"checkbox\" checked><label for=\"sk-estimator-id-13\" class=\"sk-toggleable__label sk-toggleable__label-arrow\">DecisionTreeClassifier</label><div class=\"sk-toggleable__content\"><pre>DecisionTreeClassifier(max_depth=4)</pre></div></div></div></div></div>"
      ]
     },
     "execution_count": 67,
     "metadata": {},
     "output_type": "execute_result"
    }
   ],
   "execution_count": 67
  },
  {
   "metadata": {},
   "cell_type": "markdown",
   "source": "### Step 6 - Predict labels based on classifier and calc accuracy",
   "id": "fffe681b07bdacb1"
  },
  {
   "metadata": {
    "ExecuteTime": {
     "end_time": "2024-09-16T19:43:43.473926Z",
     "start_time": "2024-09-16T19:43:43.465384Z"
    }
   },
   "cell_type": "code",
   "source": [
    "# Make predictions\n",
    "y_pred = clf.predict(X_test)\n",
    "# Evaluate the classifier\n",
    "accuracy = accuracy_score(y_test, y_pred)\n",
    "print(f\"Accuracy: {accuracy}\")\n"
   ],
   "id": "bf8b38e5e6ef2f80",
   "outputs": [
    {
     "name": "stdout",
     "output_type": "stream",
     "text": [
      "Accuracy: 0.38847583643122674\n"
     ]
    }
   ],
   "execution_count": 68
  },
  {
   "metadata": {},
   "cell_type": "markdown",
   "source": "### Step 7 - Hyperparameter Optimisation  ",
   "id": "6fc1faaea4c81268"
  },
  {
   "metadata": {},
   "cell_type": "code",
   "outputs": [],
   "execution_count": null,
   "source": [
    "def objective(trial):\n",
    "        # Define hyperparameters to tune\n",
    "        #Doc2Vec Hyperparameters\n",
    "        vectorsize = trial.suggest_int('vector size',20,200)\n",
    "        windowsize = trial.suggest_int('window size',2,10)\n",
    "        mincount = trial.suggest_int('min_count',2,10)\n",
    "        worker_no =trial.suggest_int('min_count',2,10)\n",
    "        dm = trial.suggest_int('dm',0,1)\n",
    "        epochs = trial.suggest_int('epochs no',10,100)\n",
    "        \n",
    "        # Decision Tree Hyperparameters      \n",
    "        criterion  = trial.suggest_categorical('criterion', ['gini', 'entropy','log_loss'])\n",
    "        splitter  = trial.suggest_categorical('splitter', ['best', 'random'])\n",
    "        max_depth = trial.suggest_int('max depth',2,20)\n",
    "        min_samples_split = trial.suggest_int('min samples split',2,20)\n",
    "        min_samples_leaf = trial.suggest_int('min samples leaf',2,20)\n",
    "        min_weight_fraction_leaf = trial.suggest_float('min weight fraction leaf',0.0, 2.0)\n",
    "        max_features = trial.suggest_categorical('max_features', ['sqrt', 'log2', None])\n",
    "        max_leaf_nodes =trial.suggest_int('max leaf nodes',None,100), \n",
    "        min_impurity_decrease =trial.suggest_float('min impurity decrease',0.0, 0.001) \n",
    "        class_weight=trial.suggest_categorical('class weight', ['balanced', None]) \n",
    "        ccp_alpha=trial.suggest_float('ccp alpha',0.0,0.01)\n",
    "                \n",
    "        # Create pipeline\n",
    "        pipeline = Pipeline([\n",
    "            ('train Dpoc2Vec', trainD2VModel(tagged_docs = tagged_docs, vectorsize = vectorsize, windowsize = windowsize, mincount = mincount, worker_no = worker_no, dm = dm, epochs_no = epochs)),\n",
    "            ('Vectoriser', vectors_and_labels(tagged_data = tagged_data, test_docs= test_docs, model = model)),\n",
    "            ('DTree Classifier', DecisionTreeClassifier(criterion=criterion, splitter=splitter, max_depth=max_depth, min_samples_split=min_samples_split, min_samples_leaf=min_samples_leaf, min_weight_fraction_leaf=min_weight_fraction_leaf, max_features=max_features, max_leaf_nodes=max_leaf_nodes, min_impurity_decrease=min_impurity_decrease, class_weight=class_weight, ccp_alpha=ccp_alpha)),\n",
    "        ])\n",
    "        \n",
    "        cv_scores = cross_val_score(pipeline, X_train, y_train, cv=5, scoring='accuracy')\n",
    "        score = cv_scores.mean()  # use mean accuracy as the score\n",
    "    \n",
    "    return score\n",
    "\n",
    "# Create a study to optimize the objective function\n",
    "study = optuna.create_study(direction='maximize')\n",
    "study.optimize(objective, n_trials=300)\n",
    "\n",
    "print(\"Best trial:\", study.best_trial.params,\"Accuracy score:\", study.best_trial.value)"
   ],
   "id": "452e7f0898dfe6a3"
  }
 ],
 "metadata": {
  "kernelspec": {
   "display_name": "Python 3",
   "language": "python",
   "name": "python3"
  },
  "language_info": {
   "codemirror_mode": {
    "name": "ipython",
    "version": 2
   },
   "file_extension": ".py",
   "mimetype": "text/x-python",
   "name": "python",
   "nbconvert_exporter": "python",
   "pygments_lexer": "ipython2",
   "version": "2.7.6"
  }
 },
 "nbformat": 4,
 "nbformat_minor": 5
}
