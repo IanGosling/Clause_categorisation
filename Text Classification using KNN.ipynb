{
 "cells": [
  {
   "cell_type": "code",
   "id": "initial_id",
   "metadata": {
    "collapsed": true,
    "ExecuteTime": {
     "end_time": "2024-09-12T16:14:25.223888Z",
     "start_time": "2024-09-12T16:14:25.206994Z"
    }
   },
   "source": [
    "import pandas as pd\n",
    "import optuna\n",
    "from sklearn.feature_extraction.text import TfidfVectorizer\n",
    "from sklearn.neighbors import KNeighborsClassifier\n",
    "from sklearn.metrics import accuracy_score\n",
    "from sklearn.pipeline import Pipeline\n",
    "import warnings\n",
    "from sklearn.model_selection import cross_val_score"
   ],
   "outputs": [],
   "execution_count": 56
  },
  {
   "metadata": {},
   "cell_type": "markdown",
   "source": "### Step 1 - Import Train and Test Data",
   "id": "5fb7f965235c6b77"
  },
  {
   "metadata": {
    "ExecuteTime": {
     "end_time": "2024-09-11T16:51:24.754730Z",
     "start_time": "2024-09-11T16:51:24.702428Z"
    }
   },
   "cell_type": "code",
   "source": [
    "# Load training set from CSV\n",
    "train_data = pd.read_csv(\"train_data.csv\")\n",
    "\n",
    "# Load test set from CSV\n",
    "test_data = pd.read_csv(\"test_data.csv\")"
   ],
   "id": "45db2ac6b8a1542d",
   "outputs": [],
   "execution_count": 4
  },
  {
   "metadata": {},
   "cell_type": "markdown",
   "source": "### Step 2 - Create data from training and testing \n",
   "id": "67a63abad324ebf2"
  },
  {
   "metadata": {
    "ExecuteTime": {
     "end_time": "2024-09-11T17:02:18.991904Z",
     "start_time": "2024-09-11T17:02:18.988638Z"
    }
   },
   "cell_type": "code",
   "source": [
    "X_train = train_data[\"modified_clause_text\"]\n",
    "y_train = train_data[\"clause_type\"]\n",
    "X_test = test_data[\"modified_clause_text\"]\n",
    "y_test = test_data[\"clause_type\"]"
   ],
   "id": "e54fc135bd61e096",
   "outputs": [],
   "execution_count": 8
  },
  {
   "metadata": {},
   "cell_type": "markdown",
   "source": "### Step 3 - Apply Tfidf Vectorization",
   "id": "24328b8fb9e3d91f"
  },
  {
   "metadata": {
    "ExecuteTime": {
     "end_time": "2024-09-11T17:02:19.466433Z",
     "start_time": "2024-09-11T17:02:19.318561Z"
    }
   },
   "cell_type": "code",
   "source": [
    "vectorizer = TfidfVectorizer()\n",
    "\n",
    "# Fit and transform the training data\n",
    "X_train_tfidf = vectorizer.fit_transform(X_train)\n",
    "\n",
    "# Transform the test data (use only transform, no fit)\n",
    "X_test_tfidf = vectorizer.transform(X_test)"
   ],
   "id": "13d86d386a05064d",
   "outputs": [],
   "execution_count": 9
  },
  {
   "metadata": {},
   "cell_type": "markdown",
   "source": "### Step 4 - Train the KNN Classifier",
   "id": "7b53e04c0b187295"
  },
  {
   "metadata": {
    "ExecuteTime": {
     "end_time": "2024-09-11T17:56:28.040238Z",
     "start_time": "2024-09-11T17:56:28.027072Z"
    }
   },
   "cell_type": "code",
   "source": [
    "knn = KNeighborsClassifier(n_neighbors=3)  # Use 3 nearest neighbors\n",
    "knn.fit(X_train_tfidf, y_train)"
   ],
   "id": "4afeb9edd016900f",
   "outputs": [
    {
     "data": {
      "text/plain": [
       "KNeighborsClassifier(n_neighbors=3)"
      ],
      "text/html": [
       "<style>#sk-container-id-16 {color: black;}#sk-container-id-16 pre{padding: 0;}#sk-container-id-16 div.sk-toggleable {background-color: white;}#sk-container-id-16 label.sk-toggleable__label {cursor: pointer;display: block;width: 100%;margin-bottom: 0;padding: 0.3em;box-sizing: border-box;text-align: center;}#sk-container-id-16 label.sk-toggleable__label-arrow:before {content: \"▸\";float: left;margin-right: 0.25em;color: #696969;}#sk-container-id-16 label.sk-toggleable__label-arrow:hover:before {color: black;}#sk-container-id-16 div.sk-estimator:hover label.sk-toggleable__label-arrow:before {color: black;}#sk-container-id-16 div.sk-toggleable__content {max-height: 0;max-width: 0;overflow: hidden;text-align: left;background-color: #f0f8ff;}#sk-container-id-16 div.sk-toggleable__content pre {margin: 0.2em;color: black;border-radius: 0.25em;background-color: #f0f8ff;}#sk-container-id-16 input.sk-toggleable__control:checked~div.sk-toggleable__content {max-height: 200px;max-width: 100%;overflow: auto;}#sk-container-id-16 input.sk-toggleable__control:checked~label.sk-toggleable__label-arrow:before {content: \"▾\";}#sk-container-id-16 div.sk-estimator input.sk-toggleable__control:checked~label.sk-toggleable__label {background-color: #d4ebff;}#sk-container-id-16 div.sk-label input.sk-toggleable__control:checked~label.sk-toggleable__label {background-color: #d4ebff;}#sk-container-id-16 input.sk-hidden--visually {border: 0;clip: rect(1px 1px 1px 1px);clip: rect(1px, 1px, 1px, 1px);height: 1px;margin: -1px;overflow: hidden;padding: 0;position: absolute;width: 1px;}#sk-container-id-16 div.sk-estimator {font-family: monospace;background-color: #f0f8ff;border: 1px dotted black;border-radius: 0.25em;box-sizing: border-box;margin-bottom: 0.5em;}#sk-container-id-16 div.sk-estimator:hover {background-color: #d4ebff;}#sk-container-id-16 div.sk-parallel-item::after {content: \"\";width: 100%;border-bottom: 1px solid gray;flex-grow: 1;}#sk-container-id-16 div.sk-label:hover label.sk-toggleable__label {background-color: #d4ebff;}#sk-container-id-16 div.sk-serial::before {content: \"\";position: absolute;border-left: 1px solid gray;box-sizing: border-box;top: 0;bottom: 0;left: 50%;z-index: 0;}#sk-container-id-16 div.sk-serial {display: flex;flex-direction: column;align-items: center;background-color: white;padding-right: 0.2em;padding-left: 0.2em;position: relative;}#sk-container-id-16 div.sk-item {position: relative;z-index: 1;}#sk-container-id-16 div.sk-parallel {display: flex;align-items: stretch;justify-content: center;background-color: white;position: relative;}#sk-container-id-16 div.sk-item::before, #sk-container-id-16 div.sk-parallel-item::before {content: \"\";position: absolute;border-left: 1px solid gray;box-sizing: border-box;top: 0;bottom: 0;left: 50%;z-index: -1;}#sk-container-id-16 div.sk-parallel-item {display: flex;flex-direction: column;z-index: 1;position: relative;background-color: white;}#sk-container-id-16 div.sk-parallel-item:first-child::after {align-self: flex-end;width: 50%;}#sk-container-id-16 div.sk-parallel-item:last-child::after {align-self: flex-start;width: 50%;}#sk-container-id-16 div.sk-parallel-item:only-child::after {width: 0;}#sk-container-id-16 div.sk-dashed-wrapped {border: 1px dashed gray;margin: 0 0.4em 0.5em 0.4em;box-sizing: border-box;padding-bottom: 0.4em;background-color: white;}#sk-container-id-16 div.sk-label label {font-family: monospace;font-weight: bold;display: inline-block;line-height: 1.2em;}#sk-container-id-16 div.sk-label-container {text-align: center;}#sk-container-id-16 div.sk-container {/* jupyter's `normalize.less` sets `[hidden] { display: none; }` but bootstrap.min.css set `[hidden] { display: none !important; }` so we also need the `!important` here to be able to override the default hidden behavior on the sphinx rendered scikit-learn.org. See: https://github.com/scikit-learn/scikit-learn/issues/21755 */display: inline-block !important;position: relative;}#sk-container-id-16 div.sk-text-repr-fallback {display: none;}</style><div id=\"sk-container-id-16\" class=\"sk-top-container\"><div class=\"sk-text-repr-fallback\"><pre>KNeighborsClassifier(n_neighbors=3)</pre><b>In a Jupyter environment, please rerun this cell to show the HTML representation or trust the notebook. <br />On GitHub, the HTML representation is unable to render, please try loading this page with nbviewer.org.</b></div><div class=\"sk-container\" hidden><div class=\"sk-item\"><div class=\"sk-estimator sk-toggleable\"><input class=\"sk-toggleable__control sk-hidden--visually\" id=\"sk-estimator-id-16\" type=\"checkbox\" checked><label for=\"sk-estimator-id-16\" class=\"sk-toggleable__label sk-toggleable__label-arrow\">KNeighborsClassifier</label><div class=\"sk-toggleable__content\"><pre>KNeighborsClassifier(n_neighbors=3)</pre></div></div></div></div></div>"
      ]
     },
     "execution_count": 45,
     "metadata": {},
     "output_type": "execute_result"
    }
   ],
   "execution_count": 45
  },
  {
   "metadata": {},
   "cell_type": "markdown",
   "source": "### Step 5 - Make the predictions and calculate the accuracy",
   "id": "72267835bd237046"
  },
  {
   "metadata": {
    "ExecuteTime": {
     "end_time": "2024-09-11T17:56:30.953496Z",
     "start_time": "2024-09-11T17:56:30.163754Z"
    }
   },
   "cell_type": "code",
   "source": [
    "y_pred = knn.predict(X_test_tfidf)\n",
    "\n",
    "accuracy = accuracy_score(y_test, y_pred)\n",
    "print(f\"Accuracy: {accuracy:.2f}\")"
   ],
   "id": "1fe801f1009ef52e",
   "outputs": [
    {
     "name": "stdout",
     "output_type": "stream",
     "text": [
      "Accuracy: 0.80\n"
     ]
    }
   ],
   "execution_count": 46
  },
  {
   "metadata": {},
   "cell_type": "markdown",
   "source": "### Step 6 - Hyperparameter Optimisation",
   "id": "b9002212affb6410"
  },
  {
   "metadata": {
    "ExecuteTime": {
     "end_time": "2024-09-12T17:03:59.118794Z",
     "start_time": "2024-09-12T16:46:49.230112Z"
    }
   },
   "cell_type": "code",
   "source": [
    "def objective(trial):\n",
    "    ## getting repetitive warnings on running the code so switched these off\n",
    "    with warnings.catch_warnings():\n",
    "        warnings.filterwarnings('ignore')\n",
    "    \n",
    "        # Define hyperparameters to tune\n",
    "        max_df = trial.suggest_float('max_df', 0.5, 1.0)\n",
    "        min_df = trial.suggest_float('min_df', 0.0, 0.49)\n",
    "        max_features = trial.suggest_int('max_features', 10, 1000)\n",
    "        stop_words = trial.suggest_categorical('stop_words', ['english', None])\n",
    "        ngram_range = trial.suggest_categorical('ngram_range', [(1, 1), (1, 2), (1, 3), (1, 4)])\n",
    "        n_neighbors = trial.suggest_int('n_neighbors', 1, 10)\n",
    "        weights = trial.suggest_categorical('weights', ['uniform', 'distance'])\n",
    "\n",
    "        # Create pipeline\n",
    "        pipeline = Pipeline([\n",
    "            ('tfidf', TfidfVectorizer(max_df=max_df, min_df=min_df, ngram_range=ngram_range, max_features=max_features, stop_words=stop_words)),\n",
    "            ('knn', KNeighborsClassifier(n_neighbors=n_neighbors, weights=weights)),\n",
    "        ])\n",
    "        \n",
    "        cv_scores = cross_val_score(pipeline, X_train, y_train, cv=5, scoring='accuracy')\n",
    "        score = cv_scores.mean()  # use mean accuracy as the score\n",
    "    return score\n",
    "\n",
    "# Create a study to optimize the objective function\n",
    "study = optuna.create_study(direction='maximize')\n",
    "study.optimize(objective, n_trials=300)\n",
    "\n",
    "print(\"Best trial:\", study.best_trial.params,\"Accuracy score:\", study.best_trial.value)"
   ],
   "id": "68c1a9e6ea7d2edc",
   "outputs": [
    {
     "name": "stderr",
     "output_type": "stream",
     "text": [
      "[I 2024-09-12 17:46:49,238] A new study created in memory with name: no-name-edb0d53f-19c4-4370-a7bf-2cd06ddb3872\n",
      "[I 2024-09-12 17:46:52,228] Trial 0 finished with value: 0.7034997980885718 and parameters: {'max_df': 0.8272866953767839, 'min_df': 0.30134777774278526, 'max_features': 734, 'stop_words': 'english', 'ngram_range': (1, 4), 'n_neighbors': 3, 'weights': 'uniform'}. Best is trial 0 with value: 0.7034997980885718.\n",
      "[I 2024-09-12 17:46:55,247] Trial 1 finished with value: 0.7450397092475434 and parameters: {'max_df': 0.5345290399111268, 'min_df': 0.2562154906001638, 'max_features': 438, 'stop_words': 'english', 'ngram_range': (1, 4), 'n_neighbors': 6, 'weights': 'distance'}. Best is trial 1 with value: 0.7450397092475434.\n",
      "[I 2024-09-12 17:46:57,238] Trial 2 finished with value: 0.78597773205392 and parameters: {'max_df': 0.9131215320552319, 'min_df': 0.14666367289865978, 'max_features': 68, 'stop_words': 'english', 'ngram_range': (1, 3), 'n_neighbors': 6, 'weights': 'uniform'}. Best is trial 2 with value: 0.78597773205392.\n",
      "[I 2024-09-12 17:47:03,749] Trial 3 finished with value: 0.8120377670519009 and parameters: {'max_df': 0.5801637404872388, 'min_df': 0.11288874972254982, 'max_features': 760, 'stop_words': None, 'ngram_range': (1, 4), 'n_neighbors': 9, 'weights': 'uniform'}. Best is trial 3 with value: 0.8120377670519009.\n",
      "[I 2024-09-12 17:47:04,739] Trial 4 finished with value: 0.8188681422225642 and parameters: {'max_df': 0.8120017745946955, 'min_df': 0.19587978728516214, 'max_features': 929, 'stop_words': None, 'ngram_range': (1, 1), 'n_neighbors': 7, 'weights': 'uniform'}. Best is trial 4 with value: 0.8188681422225642.\n",
      "[I 2024-09-12 17:47:05,461] Trial 5 finished with value: 0.7915601023017903 and parameters: {'max_df': 0.9975767282259809, 'min_df': 0.17592561578281274, 'max_features': 686, 'stop_words': 'english', 'ngram_range': (1, 1), 'n_neighbors': 3, 'weights': 'uniform'}. Best is trial 4 with value: 0.8188681422225642.\n",
      "[I 2024-09-12 17:47:06,526] Trial 6 finished with value: 0.8182470242101418 and parameters: {'max_df': 0.7768153295659774, 'min_df': 0.1688147105532957, 'max_features': 214, 'stop_words': None, 'ngram_range': (1, 1), 'n_neighbors': 7, 'weights': 'uniform'}. Best is trial 4 with value: 0.8188681422225642.\n",
      "[I 2024-09-12 17:47:07,150] Trial 7 finished with value: 0.5173759206199643 and parameters: {'max_df': 0.5775064770769529, 'min_df': 0.479271075241344, 'max_features': 721, 'stop_words': None, 'ngram_range': (1, 1), 'n_neighbors': 9, 'weights': 'distance'}. Best is trial 4 with value: 0.8188681422225642.\n",
      "[I 2024-09-12 17:47:10,044] Trial 8 finished with value: 0.6259177355152588 and parameters: {'max_df': 0.5982156199282089, 'min_df': 0.31991685518813945, 'max_features': 537, 'stop_words': 'english', 'ngram_range': (1, 4), 'n_neighbors': 1, 'weights': 'distance'}. Best is trial 4 with value: 0.8188681422225642.\n",
      "[I 2024-09-12 17:47:11,588] Trial 9 finished with value: 0.7456627502259485 and parameters: {'max_df': 0.8761654005398841, 'min_df': 0.05269775675315509, 'max_features': 35, 'stop_words': None, 'ngram_range': (1, 2), 'n_neighbors': 6, 'weights': 'uniform'}. Best is trial 4 with value: 0.8188681422225642.\n",
      "[I 2024-09-12 17:47:13,066] Trial 10 finished with value: 0.6743149433686518 and parameters: {'max_df': 0.675314788500839, 'min_df': 0.416708367034798, 'max_features': 979, 'stop_words': None, 'ngram_range': (1, 2), 'n_neighbors': 10, 'weights': 'distance'}. Best is trial 4 with value: 0.8188681422225642.\n",
      "[I 2024-09-12 17:47:14,563] Trial 11 finished with value: 0.8145126242716767 and parameters: {'max_df': 0.7613340466595289, 'min_df': 0.0022355067852294075, 'max_features': 311, 'stop_words': None, 'ngram_range': (1, 1), 'n_neighbors': 8, 'weights': 'uniform'}. Best is trial 4 with value: 0.8188681422225642.\n",
      "[I 2024-09-12 17:47:15,545] Trial 12 finished with value: 0.8114224179374266 and parameters: {'max_df': 0.7383734416933739, 'min_df': 0.20287597365690066, 'max_features': 246, 'stop_words': None, 'ngram_range': (1, 1), 'n_neighbors': 7, 'weights': 'uniform'}. Best is trial 4 with value: 0.8188681422225642.\n",
      "[I 2024-09-12 17:47:16,938] Trial 13 finished with value: 0.8157606291944696 and parameters: {'max_df': 0.7769923268628447, 'min_df': 0.10248864641790731, 'max_features': 1000, 'stop_words': None, 'ngram_range': (1, 1), 'n_neighbors': 4, 'weights': 'uniform'}. Best is trial 4 with value: 0.8188681422225642.\n",
      "[I 2024-09-12 17:47:20,020] Trial 14 finished with value: 0.7983885545064708 and parameters: {'max_df': 0.6838953347551218, 'min_df': 0.24210005021933434, 'max_features': 231, 'stop_words': None, 'ngram_range': (1, 3), 'n_neighbors': 8, 'weights': 'uniform'}. Best is trial 4 with value: 0.8188681422225642.\n",
      "[I 2024-09-12 17:47:20,784] Trial 15 finished with value: 0.7524873564986636 and parameters: {'max_df': 0.8433705864774157, 'min_df': 0.36345208882964686, 'max_features': 457, 'stop_words': None, 'ngram_range': (1, 1), 'n_neighbors': 5, 'weights': 'uniform'}. Best is trial 4 with value: 0.8188681422225642.\n",
      "[I 2024-09-12 17:47:21,787] Trial 16 finished with value: 0.8120339211199354 and parameters: {'max_df': 0.9448783532612985, 'min_df': 0.21927061470411208, 'max_features': 851, 'stop_words': None, 'ngram_range': (1, 1), 'n_neighbors': 7, 'weights': 'uniform'}. Best is trial 4 with value: 0.8188681422225642.\n",
      "[I 2024-09-12 17:47:23,119] Trial 17 finished with value: 0.8169970963213661 and parameters: {'max_df': 0.6849322183406374, 'min_df': 0.0799329614696479, 'max_features': 602, 'stop_words': None, 'ngram_range': (1, 1), 'n_neighbors': 5, 'weights': 'uniform'}. Best is trial 4 with value: 0.8188681422225642.\n",
      "[I 2024-09-12 17:47:27,091] Trial 18 finished with value: 0.8176182143337885 and parameters: {'max_df': 0.8098030760186665, 'min_df': 0.15515273332508317, 'max_features': 356, 'stop_words': None, 'ngram_range': (1, 3), 'n_neighbors': 7, 'weights': 'distance'}. Best is trial 4 with value: 0.8188681422225642.\n",
      "[I 2024-09-12 17:47:28,717] Trial 19 finished with value: 0.7717170163259811 and parameters: {'max_df': 0.7146210189297575, 'min_df': 0.30143003870579443, 'max_features': 869, 'stop_words': None, 'ngram_range': (1, 2), 'n_neighbors': 10, 'weights': 'uniform'}. Best is trial 4 with value: 0.8188681422225642.\n",
      "[I 2024-09-12 17:47:29,783] Trial 20 finished with value: 0.8219621944887795 and parameters: {'max_df': 0.8821237293218767, 'min_df': 0.04900860072016602, 'max_features': 132, 'stop_words': None, 'ngram_range': (1, 1), 'n_neighbors': 8, 'weights': 'uniform'}. Best is trial 20 with value: 0.8219621944887795.\n",
      "[I 2024-09-12 17:47:30,856] Trial 21 finished with value: 0.818237409380228 and parameters: {'max_df': 0.8829880653617223, 'min_df': 0.0010067932204398528, 'max_features': 134, 'stop_words': None, 'ngram_range': (1, 1), 'n_neighbors': 8, 'weights': 'uniform'}. Best is trial 20 with value: 0.8219621944887795.\n",
      "[I 2024-09-12 17:47:32,032] Trial 22 finished with value: 0.8194815683710555 and parameters: {'max_df': 0.9412077112218945, 'min_df': 0.055437588783677993, 'max_features': 155, 'stop_words': None, 'ngram_range': (1, 1), 'n_neighbors': 9, 'weights': 'uniform'}. Best is trial 20 with value: 0.8219621944887795.\n",
      "[I 2024-09-12 17:47:33,168] Trial 23 finished with value: 0.8201084552814262 and parameters: {'max_df': 0.965808343620377, 'min_df': 0.05017435529212692, 'max_features': 134, 'stop_words': None, 'ngram_range': (1, 1), 'n_neighbors': 9, 'weights': 'uniform'}. Best is trial 20 with value: 0.8219621944887795.\n",
      "[I 2024-09-12 17:47:34,305] Trial 24 finished with value: 0.8182470242101418 and parameters: {'max_df': 0.9762752606974198, 'min_df': 0.046585834810001586, 'max_features': 132, 'stop_words': None, 'ngram_range': (1, 1), 'n_neighbors': 9, 'weights': 'uniform'}. Best is trial 20 with value: 0.8219621944887795.\n",
      "[I 2024-09-12 17:47:35,015] Trial 25 finished with value: 0.6941849508682192 and parameters: {'max_df': 0.9223105761405734, 'min_df': 0.044078315574650445, 'max_features': 19, 'stop_words': None, 'ngram_range': (1, 1), 'n_neighbors': 10, 'weights': 'uniform'}. Best is trial 20 with value: 0.8219621944887795.\n",
      "[I 2024-09-12 17:47:35,828] Trial 26 finished with value: 0.8182412553121935 and parameters: {'max_df': 0.9614659429588788, 'min_df': 0.10815070135934257, 'max_features': 139, 'stop_words': 'english', 'ngram_range': (1, 1), 'n_neighbors': 9, 'weights': 'distance'}. Best is trial 20 with value: 0.8219621944887795.\n",
      "[I 2024-09-12 17:47:40,112] Trial 27 finished with value: 0.8306540007307271 and parameters: {'max_df': 0.8833149000560362, 'min_df': 0.0793887747636012, 'max_features': 348, 'stop_words': None, 'ngram_range': (1, 3), 'n_neighbors': 8, 'weights': 'uniform'}. Best is trial 27 with value: 0.8306540007307271.\n",
      "[I 2024-09-12 17:47:44,321] Trial 28 finished with value: 0.8188681422225642 and parameters: {'max_df': 0.876404119014501, 'min_df': 0.13071389045698167, 'max_features': 317, 'stop_words': None, 'ngram_range': (1, 3), 'n_neighbors': 8, 'weights': 'uniform'}. Best is trial 27 with value: 0.8306540007307271.\n",
      "[I 2024-09-12 17:47:46,832] Trial 29 finished with value: 0.790931292425437 and parameters: {'max_df': 0.844993709186702, 'min_df': 0.08097969475136046, 'max_features': 400, 'stop_words': 'english', 'ngram_range': (1, 3), 'n_neighbors': 1, 'weights': 'uniform'}. Best is trial 27 with value: 0.8306540007307271.\n",
      "[I 2024-09-12 17:47:50,778] Trial 30 finished with value: 0.8157529373305386 and parameters: {'max_df': 0.8975798750481645, 'min_df': 0.024234045834504496, 'max_features': 282, 'stop_words': None, 'ngram_range': (1, 3), 'n_neighbors': 10, 'weights': 'uniform'}. Best is trial 27 with value: 0.8306540007307271.\n",
      "[I 2024-09-12 17:47:54,275] Trial 31 finished with value: 0.8219718093186932 and parameters: {'max_df': 0.9278256172129471, 'min_df': 0.06850685507748601, 'max_features': 185, 'stop_words': None, 'ngram_range': (1, 3), 'n_neighbors': 9, 'weights': 'uniform'}. Best is trial 27 with value: 0.8306540007307271.\n",
      "[I 2024-09-12 17:47:58,229] Trial 32 finished with value: 0.8145299309655213 and parameters: {'max_df': 0.9981181510820236, 'min_df': 0.0799950119259843, 'max_features': 190, 'stop_words': None, 'ngram_range': (1, 3), 'n_neighbors': 8, 'weights': 'uniform'}. Best is trial 27 with value: 0.8306540007307271.\n",
      "[I 2024-09-12 17:48:02,228] Trial 33 finished with value: 0.8033440378439705 and parameters: {'max_df': 0.9216376379234232, 'min_df': 0.024488073784331002, 'max_features': 92, 'stop_words': None, 'ngram_range': (1, 3), 'n_neighbors': 9, 'weights': 'uniform'}. Best is trial 27 with value: 0.8306540007307271.\n",
      "[I 2024-09-12 17:48:05,930] Trial 34 finished with value: 0.8002499855777551 and parameters: {'max_df': 0.8617606923949213, 'min_df': 0.13460978865826528, 'max_features': 361, 'stop_words': 'english', 'ngram_range': (1, 4), 'n_neighbors': 8, 'weights': 'uniform'}. Best is trial 27 with value: 0.8306540007307271.\n",
      "[I 2024-09-12 17:48:09,006] Trial 35 finished with value: 0.7965271234351865 and parameters: {'max_df': 0.9067748491132553, 'min_df': 0.08216977182292712, 'max_features': 86, 'stop_words': None, 'ngram_range': (1, 3), 'n_neighbors': 6, 'weights': 'uniform'}. Best is trial 27 with value: 0.8306540007307271.\n",
      "[I 2024-09-12 17:48:12,972] Trial 36 finished with value: 0.8238274714920294 and parameters: {'max_df': 0.8149023261755867, 'min_df': 0.10462085798399728, 'max_features': 254, 'stop_words': None, 'ngram_range': (1, 3), 'n_neighbors': 9, 'weights': 'distance'}. Best is trial 27 with value: 0.8306540007307271.\n",
      "[I 2024-09-12 17:48:15,439] Trial 37 finished with value: 0.8151318193181163 and parameters: {'max_df': 0.8485976942599379, 'min_df': 0.11526070112540399, 'max_features': 406, 'stop_words': 'english', 'ngram_range': (1, 3), 'n_neighbors': 10, 'weights': 'distance'}. Best is trial 27 with value: 0.8306540007307271.\n",
      "[I 2024-09-12 17:48:19,126] Trial 38 finished with value: 0.8132800030767455 and parameters: {'max_df': 0.812510905915162, 'min_df': 0.1810865601380851, 'max_features': 484, 'stop_words': None, 'ngram_range': (1, 3), 'n_neighbors': 8, 'weights': 'distance'}. Best is trial 27 with value: 0.8306540007307271.\n",
      "[I 2024-09-12 17:48:23,172] Trial 39 finished with value: 0.8188585273926504 and parameters: {'max_df': 0.8225788963932643, 'min_df': 0.1467661462974251, 'max_features': 281, 'stop_words': None, 'ngram_range': (1, 3), 'n_neighbors': 7, 'weights': 'distance'}. Best is trial 27 with value: 0.8306540007307271.\n",
      "[I 2024-09-12 17:48:26,420] Trial 40 finished with value: 0.7822491010134031 and parameters: {'max_df': 0.790315363189118, 'min_df': 0.02614038946663312, 'max_features': 189, 'stop_words': 'english', 'ngram_range': (1, 4), 'n_neighbors': 2, 'weights': 'distance'}. Best is trial 27 with value: 0.8306540007307271.\n",
      "[I 2024-09-12 17:48:29,559] Trial 41 finished with value: 0.808926408091841 and parameters: {'max_df': 0.9726851704905831, 'min_df': 0.0665239544169589, 'max_features': 67, 'stop_words': None, 'ngram_range': (1, 3), 'n_neighbors': 9, 'weights': 'distance'}. Best is trial 27 with value: 0.8306540007307271.\n",
      "[I 2024-09-12 17:48:32,208] Trial 42 finished with value: 0.8250620156529431 and parameters: {'max_df': 0.9400908078229155, 'min_df': 0.10174793086349065, 'max_features': 256, 'stop_words': None, 'ngram_range': (1, 2), 'n_neighbors': 9, 'weights': 'uniform'}. Best is trial 27 with value: 0.8306540007307271.\n",
      "[I 2024-09-12 17:48:34,737] Trial 43 finished with value: 0.8294040728419514 and parameters: {'max_df': 0.9348717322164353, 'min_df': 0.09850944730454332, 'max_features': 240, 'stop_words': None, 'ngram_range': (1, 2), 'n_neighbors': 9, 'weights': 'distance'}. Best is trial 27 with value: 0.8306540007307271.\n",
      "[I 2024-09-12 17:48:38,216] Trial 44 finished with value: 0.8306386170028652 and parameters: {'max_df': 0.9358221741323887, 'min_df': 0.1012240459961819, 'max_features': 556, 'stop_words': None, 'ngram_range': (1, 2), 'n_neighbors': 10, 'weights': 'distance'}. Best is trial 27 with value: 0.8306540007307271.\n",
      "[I 2024-09-12 17:48:41,578] Trial 45 finished with value: 0.8269215237582447 and parameters: {'max_df': 0.9487176319667603, 'min_df': 0.10841988471974352, 'max_features': 662, 'stop_words': None, 'ngram_range': (1, 2), 'n_neighbors': 10, 'weights': 'distance'}. Best is trial 27 with value: 0.8306540007307271.\n",
      "[I 2024-09-12 17:48:44,095] Trial 46 finished with value: 0.8188642962905985 and parameters: {'max_df': 0.9546553016213151, 'min_df': 0.1624224494412914, 'max_features': 621, 'stop_words': None, 'ngram_range': (1, 2), 'n_neighbors': 10, 'weights': 'distance'}. Best is trial 27 with value: 0.8306540007307271.\n",
      "[I 2024-09-12 17:48:47,177] Trial 47 finished with value: 0.8250658615849085 and parameters: {'max_df': 0.9883331898866617, 'min_df': 0.1269101204118454, 'max_features': 580, 'stop_words': None, 'ngram_range': (1, 2), 'n_neighbors': 10, 'weights': 'distance'}. Best is trial 27 with value: 0.8306540007307271.\n",
      "[I 2024-09-12 17:48:49,488] Trial 48 finished with value: 0.820733419225814 and parameters: {'max_df': 0.9843870949695315, 'min_df': 0.19125378887127387, 'max_features': 543, 'stop_words': None, 'ngram_range': (1, 2), 'n_neighbors': 10, 'weights': 'distance'}. Best is trial 27 with value: 0.8306540007307271.\n",
      "[I 2024-09-12 17:48:52,540] Trial 49 finished with value: 0.8219660404207451 and parameters: {'max_df': 0.9999489520742267, 'min_df': 0.13097113522098905, 'max_features': 677, 'stop_words': None, 'ngram_range': (1, 2), 'n_neighbors': 10, 'weights': 'distance'}. Best is trial 27 with value: 0.8306540007307271.\n",
      "[I 2024-09-12 17:48:54,376] Trial 50 finished with value: 0.8002422937138242 and parameters: {'max_df': 0.9103781370617617, 'min_df': 0.2657647942795404, 'max_features': 773, 'stop_words': None, 'ngram_range': (1, 2), 'n_neighbors': 10, 'weights': 'distance'}. Best is trial 27 with value: 0.8306540007307271.\n",
      "[I 2024-09-12 17:48:58,184] Trial 51 finished with value: 0.8324981251081667 and parameters: {'max_df': 0.9398216469815692, 'min_df': 0.0954814040362143, 'max_features': 557, 'stop_words': None, 'ngram_range': (1, 2), 'n_neighbors': 10, 'weights': 'distance'}. Best is trial 51 with value: 0.8324981251081667.\n",
      "[I 2024-09-12 17:49:01,144] Trial 52 finished with value: 0.827550333634598 and parameters: {'max_df': 0.8966264226555647, 'min_df': 0.12371195538137482, 'max_features': 561, 'stop_words': None, 'ngram_range': (1, 2), 'n_neighbors': 10, 'weights': 'distance'}. Best is trial 51 with value: 0.8324981251081667.\n",
      "[I 2024-09-12 17:49:04,638] Trial 53 finished with value: 0.8263023287118051 and parameters: {'max_df': 0.9018107267186098, 'min_df': 0.09947578023273419, 'max_features': 646, 'stop_words': None, 'ngram_range': (1, 2), 'n_neighbors': 10, 'weights': 'distance'}. Best is trial 51 with value: 0.8324981251081667.\n",
      "[I 2024-09-12 17:49:06,689] Trial 54 finished with value: 0.8157606291944696 and parameters: {'max_df': 0.931308573400309, 'min_df': 0.2162348424313675, 'max_features': 528, 'stop_words': None, 'ngram_range': (1, 2), 'n_neighbors': 10, 'weights': 'distance'}. Best is trial 51 with value: 0.8324981251081667.\n",
      "[I 2024-09-12 17:49:08,115] Trial 55 finished with value: 0.5583062515624098 and parameters: {'max_df': 0.61752805180741, 'min_df': 0.4870442018248128, 'max_features': 488, 'stop_words': None, 'ngram_range': (1, 2), 'n_neighbors': 9, 'weights': 'distance'}. Best is trial 51 with value: 0.8324981251081667.\n",
      "[I 2024-09-12 17:49:10,692] Trial 56 finished with value: 0.8269234467242275 and parameters: {'max_df': 0.946070990901068, 'min_df': 0.15867668748139613, 'max_features': 578, 'stop_words': None, 'ngram_range': (1, 2), 'n_neighbors': 4, 'weights': 'distance'}. Best is trial 51 with value: 0.8324981251081667.\n",
      "[I 2024-09-12 17:49:13,085] Trial 57 finished with value: 0.8238159336961329 and parameters: {'max_df': 0.8894810359480456, 'min_df': 0.16748172343025686, 'max_features': 554, 'stop_words': None, 'ngram_range': (1, 2), 'n_neighbors': 3, 'weights': 'distance'}. Best is trial 51 with value: 0.8324981251081667.\n",
      "[I 2024-09-12 17:49:15,211] Trial 58 finished with value: 0.8138895832932714 and parameters: {'max_df': 0.8636958206517578, 'min_df': 0.23932199561010808, 'max_features': 720, 'stop_words': None, 'ngram_range': (1, 2), 'n_neighbors': 4, 'weights': 'distance'}. Best is trial 51 with value: 0.8324981251081667.\n",
      "[I 2024-09-12 17:49:16,824] Trial 59 finished with value: 0.8089264080918408 and parameters: {'max_df': 0.9688231559095236, 'min_df': 0.1480654588885854, 'max_features': 434, 'stop_words': 'english', 'ngram_range': (1, 2), 'n_neighbors': 4, 'weights': 'distance'}. Best is trial 51 with value: 0.8324981251081667.\n",
      "[I 2024-09-12 17:49:20,671] Trial 60 finished with value: 0.8318866219256581 and parameters: {'max_df': 0.9234718813317316, 'min_df': 0.09426900971419774, 'max_features': 573, 'stop_words': None, 'ngram_range': (1, 2), 'n_neighbors': 6, 'weights': 'distance'}. Best is trial 51 with value: 0.8324981251081667.\n",
      "[I 2024-09-12 17:49:24,346] Trial 61 finished with value: 0.8325077399380805 and parameters: {'max_df': 0.9116460950083385, 'min_df': 0.09397663038267655, 'max_features': 581, 'stop_words': None, 'ngram_range': (1, 2), 'n_neighbors': 6, 'weights': 'distance'}. Best is trial 61 with value: 0.8325077399380805.\n",
      "[I 2024-09-12 17:49:28,255] Trial 62 finished with value: 0.8325077399380805 and parameters: {'max_df': 0.9177804411704793, 'min_df': 0.08995056029567955, 'max_features': 515, 'stop_words': None, 'ngram_range': (1, 2), 'n_neighbors': 6, 'weights': 'distance'}. Best is trial 61 with value: 0.8325077399380805.\n",
      "[I 2024-09-12 17:49:31,897] Trial 63 finished with value: 0.8325077399380805 and parameters: {'max_df': 0.9199866927887693, 'min_df': 0.09450693486193756, 'max_features': 515, 'stop_words': None, 'ngram_range': (1, 2), 'n_neighbors': 6, 'weights': 'distance'}. Best is trial 61 with value: 0.8325077399380805.\n",
      "[I 2024-09-12 17:49:33,505] Trial 64 finished with value: 0.7009557140934177 and parameters: {'max_df': 0.8649545845212627, 'min_df': 0.45856006347165146, 'max_features': 618, 'stop_words': None, 'ngram_range': (1, 2), 'n_neighbors': 6, 'weights': 'distance'}. Best is trial 61 with value: 0.8325077399380805.\n",
      "[I 2024-09-12 17:49:37,237] Trial 65 finished with value: 0.8263100205757361 and parameters: {'max_df': 0.9135888263719645, 'min_df': 0.06608755984352027, 'max_features': 507, 'stop_words': None, 'ngram_range': (1, 2), 'n_neighbors': 5, 'weights': 'distance'}. Best is trial 61 with value: 0.8325077399380805.\n",
      "[I 2024-09-12 17:49:44,506] Trial 66 finished with value: 0.8287925696594428 and parameters: {'max_df': 0.9588619749047521, 'min_df': 0.09055258363964719, 'max_features': 468, 'stop_words': None, 'ngram_range': (1, 4), 'n_neighbors': 6, 'weights': 'distance'}. Best is trial 61 with value: 0.8325077399380805.\n",
      "[I 2024-09-12 17:49:47,985] Trial 67 finished with value: 0.8231813549218314 and parameters: {'max_df': 0.8357305247124435, 'min_df': 0.03241437320006822, 'max_features': 512, 'stop_words': None, 'ngram_range': (1, 2), 'n_neighbors': 5, 'weights': 'distance'}. Best is trial 61 with value: 0.8325077399380805.\n",
      "[I 2024-09-12 17:49:51,337] Trial 68 finished with value: 0.8201026863834778 and parameters: {'max_df': 0.8794026771475054, 'min_df': 0.011465742716673541, 'max_features': 427, 'stop_words': None, 'ngram_range': (1, 2), 'n_neighbors': 7, 'weights': 'distance'}. Best is trial 61 with value: 0.8325077399380805.\n",
      "[I 2024-09-12 17:49:54,951] Trial 69 finished with value: 0.8318943137895891 and parameters: {'max_df': 0.505525944107881, 'min_df': 0.06508747772867687, 'max_features': 714, 'stop_words': None, 'ngram_range': (1, 2), 'n_neighbors': 6, 'weights': 'distance'}. Best is trial 61 with value: 0.8325077399380805.\n",
      "[I 2024-09-12 17:49:56,382] Trial 70 finished with value: 0.6842547545333924 and parameters: {'max_df': 0.504933681890581, 'min_df': 0.35045599874256983, 'max_features': 785, 'stop_words': None, 'ngram_range': (1, 2), 'n_neighbors': 6, 'weights': 'distance'}. Best is trial 61 with value: 0.8325077399380805.\n",
      "[I 2024-09-12 17:50:00,006] Trial 71 finished with value: 0.8331153971886238 and parameters: {'max_df': 0.5794075296046568, 'min_df': 0.06440350404517192, 'max_features': 607, 'stop_words': None, 'ngram_range': (1, 2), 'n_neighbors': 6, 'weights': 'distance'}. Best is trial 71 with value: 0.8331153971886238.\n",
      "[I 2024-09-12 17:50:03,778] Trial 72 finished with value: 0.8356152529661751 and parameters: {'max_df': 0.5418203832410833, 'min_df': 0.06377219623971017, 'max_features': 712, 'stop_words': None, 'ngram_range': (1, 2), 'n_neighbors': 6, 'weights': 'distance'}. Best is trial 72 with value: 0.8356152529661751.\n",
      "[I 2024-09-12 17:50:07,380] Trial 73 finished with value: 0.8237986270022883 and parameters: {'max_df': 0.5297323911792797, 'min_df': 0.037039314001853646, 'max_features': 714, 'stop_words': None, 'ngram_range': (1, 2), 'n_neighbors': 5, 'weights': 'distance'}. Best is trial 72 with value: 0.8356152529661751.\n",
      "[I 2024-09-12 17:50:11,218] Trial 74 finished with value: 0.8318866219256581 and parameters: {'max_df': 0.5492614773252988, 'min_df': 0.05179927142883077, 'max_features': 753, 'stop_words': None, 'ngram_range': (1, 2), 'n_neighbors': 6, 'weights': 'distance'}. Best is trial 72 with value: 0.8356152529661751.\n",
      "[I 2024-09-12 17:50:15,396] Trial 75 finished with value: 0.8368478741611061 and parameters: {'max_df': 0.5786712301742074, 'min_df': 0.0658048139536973, 'max_features': 797, 'stop_words': None, 'ngram_range': (1, 2), 'n_neighbors': 7, 'weights': 'distance'}. Best is trial 75 with value: 0.8368478741611061.\n",
      "[I 2024-09-12 17:50:17,228] Trial 76 finished with value: 0.8250600926869603 and parameters: {'max_df': 0.6218818479290067, 'min_df': 0.06191497729573668, 'max_features': 929, 'stop_words': 'english', 'ngram_range': (1, 2), 'n_neighbors': 7, 'weights': 'distance'}. Best is trial 75 with value: 0.8368478741611061.\n",
      "[I 2024-09-12 17:50:20,935] Trial 77 finished with value: 0.8325058169720977 and parameters: {'max_df': 0.5753273707109496, 'min_df': 0.07500981611013433, 'max_features': 831, 'stop_words': None, 'ngram_range': (1, 2), 'n_neighbors': 7, 'weights': 'distance'}. Best is trial 75 with value: 0.8368478741611061.\n",
      "[I 2024-09-12 17:50:25,105] Trial 78 finished with value: 0.8250524008230296 and parameters: {'max_df': 0.5813947952414713, 'min_df': 0.007609189491404517, 'max_features': 837, 'stop_words': None, 'ngram_range': (1, 2), 'n_neighbors': 7, 'weights': 'distance'}. Best is trial 75 with value: 0.8368478741611061.\n",
      "[I 2024-09-12 17:50:32,589] Trial 79 finished with value: 0.8318866219256581 and parameters: {'max_df': 0.561581896927053, 'min_df': 0.0862849791272265, 'max_features': 831, 'stop_words': None, 'ngram_range': (1, 4), 'n_neighbors': 5, 'weights': 'distance'}. Best is trial 75 with value: 0.8368478741611061.\n",
      "[I 2024-09-12 17:50:37,130] Trial 80 finished with value: 0.8306463088667961 and parameters: {'max_df': 0.6580858267487608, 'min_df': 0.04034398039860024, 'max_features': 897, 'stop_words': None, 'ngram_range': (1, 2), 'n_neighbors': 7, 'weights': 'distance'}. Best is trial 75 with value: 0.8368478741611061.\n",
      "[I 2024-09-12 17:50:40,665] Trial 81 finished with value: 0.8201007634174952 and parameters: {'max_df': 0.5022991638277527, 'min_df': 0.07271005400562372, 'max_features': 809, 'stop_words': None, 'ngram_range': (1, 2), 'n_neighbors': 6, 'weights': 'distance'}. Best is trial 75 with value: 0.8368478741611061.\n",
      "[I 2024-09-12 17:50:43,182] Trial 82 finished with value: 0.8176220602657539 and parameters: {'max_df': 0.5187543561383562, 'min_df': 0.11725174467189411, 'max_features': 742, 'stop_words': None, 'ngram_range': (1, 2), 'n_neighbors': 6, 'weights': 'distance'}. Best is trial 75 with value: 0.8368478741611061.\n",
      "[I 2024-09-12 17:50:46,887] Trial 83 finished with value: 0.8325000480741496 and parameters: {'max_df': 0.5531810140482213, 'min_df': 0.05886286283923319, 'max_features': 694, 'stop_words': None, 'ngram_range': (1, 2), 'n_neighbors': 6, 'weights': 'distance'}. Best is trial 75 with value: 0.8368478741611061.\n",
      "[I 2024-09-12 17:50:50,466] Trial 84 finished with value: 0.8281541449531759 and parameters: {'max_df': 0.5649570790154246, 'min_df': 0.05758421019716131, 'max_features': 639, 'stop_words': None, 'ngram_range': (1, 2), 'n_neighbors': 7, 'weights': 'distance'}. Best is trial 75 with value: 0.8368478741611061.\n",
      "[I 2024-09-12 17:50:53,905] Trial 85 finished with value: 0.8175951387419955 and parameters: {'max_df': 0.599457798027167, 'min_df': 0.019159310418441045, 'max_features': 600, 'stop_words': None, 'ngram_range': (1, 2), 'n_neighbors': 5, 'weights': 'distance'}. Best is trial 75 with value: 0.8368478741611061.\n",
      "[I 2024-09-12 17:50:57,207] Trial 86 finished with value: 0.8331307809164855 and parameters: {'max_df': 0.5469276720205417, 'min_df': 0.0865979921078004, 'max_features': 684, 'stop_words': None, 'ngram_range': (1, 2), 'n_neighbors': 6, 'weights': 'distance'}. Best is trial 75 with value: 0.8368478741611061.\n",
      "[I 2024-09-12 17:50:58,851] Trial 87 finished with value: 0.8114051112435821 and parameters: {'max_df': 0.5466606125690521, 'min_df': 0.07680932926555087, 'max_features': 692, 'stop_words': 'english', 'ngram_range': (1, 2), 'n_neighbors': 6, 'weights': 'distance'}. Best is trial 75 with value: 0.8368478741611061.\n",
      "[I 2024-09-12 17:51:01,280] Trial 88 finished with value: 0.8263234813376151 and parameters: {'max_df': 0.5972955523713939, 'min_df': 0.13975430302492345, 'max_features': 792, 'stop_words': None, 'ngram_range': (1, 2), 'n_neighbors': 7, 'weights': 'distance'}. Best is trial 75 with value: 0.8368478741611061.\n",
      "[I 2024-09-12 17:51:04,832] Trial 89 finished with value: 0.832490433244236 and parameters: {'max_df': 0.534037163844446, 'min_df': 0.0469229688650373, 'max_features': 684, 'stop_words': None, 'ngram_range': (1, 2), 'n_neighbors': 5, 'weights': 'distance'}. Best is trial 75 with value: 0.8368478741611061.\n",
      "[I 2024-09-12 17:51:07,599] Trial 90 finished with value: 0.8213583831702017 and parameters: {'max_df': 0.5811490619819786, 'min_df': 0.11470156969369882, 'max_features': 894, 'stop_words': None, 'ngram_range': (1, 2), 'n_neighbors': 6, 'weights': 'distance'}. Best is trial 75 with value: 0.8368478741611061.\n",
      "[I 2024-09-12 17:51:10,879] Trial 91 finished with value: 0.8356094840682268 and parameters: {'max_df': 0.5531744357015445, 'min_df': 0.0854183162629419, 'max_features': 599, 'stop_words': None, 'ngram_range': (1, 2), 'n_neighbors': 6, 'weights': 'distance'}. Best is trial 75 with value: 0.8368478741611061.\n",
      "[I 2024-09-12 17:51:14,533] Trial 92 finished with value: 0.8331173201546065 and parameters: {'max_df': 0.5653450963813008, 'min_df': 0.05433800525280836, 'max_features': 654, 'stop_words': None, 'ngram_range': (1, 2), 'n_neighbors': 6, 'weights': 'distance'}. Best is trial 75 with value: 0.8368478741611061.\n",
      "[I 2024-09-12 17:51:17,832] Trial 93 finished with value: 0.8331230890525546 and parameters: {'max_df': 0.5721270557788473, 'min_df': 0.08699005563046608, 'max_features': 597, 'stop_words': None, 'ngram_range': (1, 2), 'n_neighbors': 7, 'weights': 'distance'}. Best is trial 75 with value: 0.8368478741611061.\n",
      "[I 2024-09-12 17:51:20,994] Trial 94 finished with value: 0.8238197796280984 and parameters: {'max_df': 0.5233559807523391, 'min_df': 0.0850065260873365, 'max_features': 596, 'stop_words': None, 'ngram_range': (1, 2), 'n_neighbors': 6, 'weights': 'distance'}. Best is trial 75 with value: 0.8368478741611061.\n",
      "[I 2024-09-12 17:51:28,282] Trial 95 finished with value: 0.8207180354979519 and parameters: {'max_df': 0.731937321763382, 'min_df': 0.0335080700615889, 'max_features': 633, 'stop_words': None, 'ngram_range': (1, 4), 'n_neighbors': 7, 'weights': 'distance'}. Best is trial 75 with value: 0.8368478741611061.\n",
      "[I 2024-09-12 17:51:31,639] Trial 96 finished with value: 0.8380862642539852 and parameters: {'max_df': 0.6418564538619247, 'min_df': 0.08803782766695338, 'max_features': 658, 'stop_words': None, 'ngram_range': (1, 2), 'n_neighbors': 6, 'weights': 'distance'}. Best is trial 96 with value: 0.8380862642539852.\n",
      "[I 2024-09-12 17:51:34,368] Trial 97 finished with value: 0.8319000826875372 and parameters: {'max_df': 0.6517310150858543, 'min_df': 0.11965414107181557, 'max_features': 653, 'stop_words': None, 'ngram_range': (1, 2), 'n_neighbors': 7, 'weights': 'distance'}. Best is trial 96 with value: 0.8380862642539852.\n",
      "[I 2024-09-12 17:51:38,055] Trial 98 finished with value: 0.8318750841297616 and parameters: {'max_df': 0.6091162752475403, 'min_df': 0.05001535064504803, 'max_features': 662, 'stop_words': None, 'ngram_range': (1, 2), 'n_neighbors': 5, 'weights': 'distance'}. Best is trial 96 with value: 0.8380862642539852.\n",
      "[I 2024-09-12 17:51:41,680] Trial 99 finished with value: 0.8349941349537527 and parameters: {'max_df': 0.6345020525240113, 'min_df': 0.07072254265784117, 'max_features': 618, 'stop_words': None, 'ngram_range': (1, 2), 'n_neighbors': 6, 'weights': 'distance'}. Best is trial 96 with value: 0.8380862642539852.\n",
      "[I 2024-09-12 17:51:45,268] Trial 100 finished with value: 0.836232525046632 and parameters: {'max_df': 0.6304521187701414, 'min_df': 0.07018417032842024, 'max_features': 611, 'stop_words': None, 'ngram_range': (1, 2), 'n_neighbors': 6, 'weights': 'distance'}. Best is trial 96 with value: 0.8380862642539852.\n",
      "[I 2024-09-12 17:51:48,905] Trial 101 finished with value: 0.8356094840682269 and parameters: {'max_df': 0.6338962637454872, 'min_df': 0.07442417424019387, 'max_features': 613, 'stop_words': None, 'ngram_range': (1, 2), 'n_neighbors': 6, 'weights': 'distance'}. Best is trial 96 with value: 0.8380862642539852.\n",
      "[I 2024-09-12 17:51:52,565] Trial 102 finished with value: 0.8306501547987615 and parameters: {'max_df': 0.6393642093087454, 'min_df': 0.07150912717402254, 'max_features': 621, 'stop_words': None, 'ngram_range': (1, 2), 'n_neighbors': 6, 'weights': 'distance'}. Best is trial 96 with value: 0.8380862642539852.\n",
      "[I 2024-09-12 17:51:56,077] Trial 103 finished with value: 0.8169759436955559 and parameters: {'max_df': 0.6333334485501845, 'min_df': 0.021451407198757377, 'max_features': 604, 'stop_words': None, 'ngram_range': (1, 2), 'n_neighbors': 5, 'weights': 'distance'}. Best is trial 96 with value: 0.8380862642539852.\n",
      "[I 2024-09-12 17:51:59,945] Trial 104 finished with value: 0.8331211660865719 and parameters: {'max_df': 0.6927194310199181, 'min_df': 0.042614972125848784, 'max_features': 680, 'stop_words': None, 'ngram_range': (1, 2), 'n_neighbors': 6, 'weights': 'distance'}. Best is trial 96 with value: 0.8380862642539852.\n",
      "[I 2024-09-12 17:52:03,964] Trial 105 finished with value: 0.8306386170028652 and parameters: {'max_df': 0.6635893368501999, 'min_df': 0.04552908463527747, 'max_features': 667, 'stop_words': None, 'ngram_range': (1, 2), 'n_neighbors': 7, 'weights': 'distance'}. Best is trial 96 with value: 0.8380862642539852.\n",
      "[I 2024-09-12 17:52:05,414] Trial 106 finished with value: 0.8169855585254698 and parameters: {'max_df': 0.676834666574078, 'min_df': 0.10711146206863684, 'max_features': 695, 'stop_words': 'english', 'ngram_range': (1, 2), 'n_neighbors': 6, 'weights': 'distance'}. Best is trial 96 with value: 0.8380862642539852.\n",
      "[I 2024-09-12 17:52:09,395] Trial 107 finished with value: 0.8256715958694691 and parameters: {'max_df': 0.6414637485432059, 'min_df': 0.036464943215742285, 'max_features': 735, 'stop_words': None, 'ngram_range': (1, 2), 'n_neighbors': 7, 'weights': 'distance'}. Best is trial 96 with value: 0.8380862642539852.\n",
      "[I 2024-09-12 17:52:11,067] Trial 108 finished with value: 0.8207161125319693 and parameters: {'max_df': 0.5916995082367086, 'min_df': 0.012717373904529178, 'max_features': 645, 'stop_words': None, 'ngram_range': (1, 1), 'n_neighbors': 5, 'weights': 'distance'}. Best is trial 96 with value: 0.8380862642539852.\n",
      "[I 2024-09-12 17:52:14,769] Trial 109 finished with value: 0.8337422840989943 and parameters: {'max_df': 0.6939010870702349, 'min_df': 0.08020407085630345, 'max_features': 767, 'stop_words': None, 'ngram_range': (1, 2), 'n_neighbors': 6, 'weights': 'distance'}. Best is trial 96 with value: 0.8380862642539852.\n",
      "[I 2024-09-12 17:52:18,478] Trial 110 finished with value: 0.8306386170028652 and parameters: {'max_df': 0.7134581159946326, 'min_df': 0.08199006534354686, 'max_features': 769, 'stop_words': None, 'ngram_range': (1, 2), 'n_neighbors': 5, 'weights': 'distance'}. Best is trial 96 with value: 0.8380862642539852.\n",
      "[I 2024-09-12 17:52:22,202] Trial 111 finished with value: 0.8331173201546065 and parameters: {'max_df': 0.6953636627171655, 'min_df': 0.05788300843837621, 'max_features': 629, 'stop_words': None, 'ngram_range': (1, 2), 'n_neighbors': 6, 'weights': 'distance'}. Best is trial 96 with value: 0.8380862642539852.\n",
      "[I 2024-09-12 17:52:26,105] Trial 112 finished with value: 0.8306482318327788 and parameters: {'max_df': 0.6249789529560364, 'min_df': 0.0720924315246853, 'max_features': 716, 'stop_words': None, 'ngram_range': (1, 2), 'n_neighbors': 6, 'weights': 'distance'}. Best is trial 96 with value: 0.8380862642539852.\n",
      "[I 2024-09-12 17:52:29,831] Trial 113 finished with value: 0.8250389400611503 and parameters: {'max_df': 0.6086896860937402, 'min_df': 0.029570008119239776, 'max_features': 676, 'stop_words': None, 'ngram_range': (1, 2), 'n_neighbors': 6, 'weights': 'distance'}. Best is trial 96 with value: 0.8380862642539852.\n",
      "[I 2024-09-12 17:52:32,544] Trial 114 finished with value: 0.8287887237274774 and parameters: {'max_df': 0.5420648330884028, 'min_df': 0.108819542697951, 'max_features': 744, 'stop_words': None, 'ngram_range': (1, 2), 'n_neighbors': 6, 'weights': 'distance'}. Best is trial 96 with value: 0.8380862642539852.\n",
      "[I 2024-09-12 17:52:35,982] Trial 115 finished with value: 0.8312635809472531 and parameters: {'max_df': 0.5684621016267226, 'min_df': 0.0821497624024835, 'max_features': 706, 'stop_words': None, 'ngram_range': (1, 2), 'n_neighbors': 7, 'weights': 'distance'}. Best is trial 96 with value: 0.8380862642539852.\n",
      "[I 2024-09-12 17:52:39,371] Trial 116 finished with value: 0.8281599138511242 and parameters: {'max_df': 0.6991036634859856, 'min_df': 0.043426665062305386, 'max_features': 538, 'stop_words': None, 'ngram_range': (1, 2), 'n_neighbors': 6, 'weights': 'distance'}. Best is trial 96 with value: 0.8380862642539852.\n",
      "[I 2024-09-12 17:52:46,556] Trial 117 finished with value: 0.8275561025325462 and parameters: {'max_df': 0.5890972853970887, 'min_df': 0.05442234856883041, 'max_features': 661, 'stop_words': None, 'ngram_range': (1, 4), 'n_neighbors': 8, 'weights': 'distance'}. Best is trial 96 with value: 0.8380862642539852.\n",
      "[I 2024-09-12 17:52:50,569] Trial 118 finished with value: 0.8312712728111841 and parameters: {'max_df': 0.609855184548856, 'min_df': 0.06868928721440005, 'max_features': 803, 'stop_words': None, 'ngram_range': (1, 2), 'n_neighbors': 6, 'weights': 'distance'}. Best is trial 96 with value: 0.8380862642539852.\n",
      "[I 2024-09-12 17:52:53,746] Trial 119 finished with value: 0.8349883660558044 and parameters: {'max_df': 0.5578476692627206, 'min_df': 0.08947455261071983, 'max_features': 589, 'stop_words': None, 'ngram_range': (1, 2), 'n_neighbors': 7, 'weights': 'distance'}. Best is trial 96 with value: 0.8380862642539852.\n",
      "[I 2024-09-12 17:52:57,051] Trial 120 finished with value: 0.823821702594081 and parameters: {'max_df': 0.7627312771908771, 'min_df': 0.10055583525530379, 'max_features': 588, 'stop_words': None, 'ngram_range': (1, 2), 'n_neighbors': 7, 'weights': 'distance'}. Best is trial 96 with value: 0.8380862642539852.\n",
      "[I 2024-09-12 17:53:00,391] Trial 121 finished with value: 0.8349883660558044 and parameters: {'max_df': 0.5585989341932256, 'min_df': 0.08966201033244985, 'max_features': 617, 'stop_words': None, 'ngram_range': (1, 2), 'n_neighbors': 7, 'weights': 'distance'}. Best is trial 96 with value: 0.8380862642539852.\n",
      "[I 2024-09-12 17:53:03,891] Trial 122 finished with value: 0.8368478741611061 and parameters: {'max_df': 0.668758940499416, 'min_df': 0.08770078087715442, 'max_features': 565, 'stop_words': None, 'ngram_range': (1, 2), 'n_neighbors': 8, 'weights': 'distance'}. Best is trial 96 with value: 0.8380862642539852.\n",
      "[I 2024-09-12 17:53:07,412] Trial 123 finished with value: 0.8349902890217873 and parameters: {'max_df': 0.6617742043931504, 'min_df': 0.08798299878228857, 'max_features': 564, 'stop_words': None, 'ngram_range': (1, 2), 'n_neighbors': 8, 'weights': 'distance'}. Best is trial 96 with value: 0.8380862642539852.\n",
      "[I 2024-09-12 17:53:09,967] Trial 124 finished with value: 0.827558025498529 and parameters: {'max_df': 0.6517796465737985, 'min_df': 0.13039745115860146, 'max_features': 570, 'stop_words': None, 'ngram_range': (1, 2), 'n_neighbors': 8, 'weights': 'distance'}. Best is trial 96 with value: 0.8380862642539852.\n",
      "[I 2024-09-12 17:53:13,326] Trial 125 finished with value: 0.8368555660250371 and parameters: {'max_df': 0.6653102688830588, 'min_df': 0.08934031268456008, 'max_features': 553, 'stop_words': None, 'ngram_range': (1, 2), 'n_neighbors': 8, 'weights': 'distance'}. Best is trial 96 with value: 0.8380862642539852.\n",
      "[I 2024-09-12 17:53:16,242] Trial 126 finished with value: 0.8281733746130031 and parameters: {'max_df': 0.6658371708634948, 'min_df': 0.10926835311552043, 'max_features': 546, 'stop_words': None, 'ngram_range': (1, 2), 'n_neighbors': 8, 'weights': 'distance'}. Best is trial 96 with value: 0.8380862642539852.\n",
      "[I 2024-09-12 17:53:17,724] Trial 127 finished with value: 0.8132665423148664 and parameters: {'max_df': 0.6776053738299455, 'min_df': 0.09628340789088799, 'max_features': 486, 'stop_words': 'english', 'ngram_range': (1, 2), 'n_neighbors': 8, 'weights': 'distance'}. Best is trial 96 with value: 0.8380862642539852.\n",
      "[I 2024-09-12 17:53:18,479] Trial 128 finished with value: 0.8058323558256255 and parameters: {'max_df': 0.6380819612915547, 'min_df': 0.27191261117074605, 'max_features': 536, 'stop_words': None, 'ngram_range': (1, 1), 'n_neighbors': 8, 'weights': 'distance'}. Best is trial 96 with value: 0.8380862642539852.\n",
      "[I 2024-09-12 17:53:22,185] Trial 129 finished with value: 0.8368478741611061 and parameters: {'max_df': 0.6296509681240685, 'min_df': 0.07319103080724272, 'max_features': 613, 'stop_words': None, 'ngram_range': (1, 2), 'n_neighbors': 8, 'weights': 'distance'}. Best is trial 96 with value: 0.8380862642539852.\n",
      "[I 2024-09-12 17:53:25,646] Trial 130 finished with value: 0.8294079187739168 and parameters: {'max_df': 0.627209158523932, 'min_df': 0.06483512665019428, 'max_features': 566, 'stop_words': None, 'ngram_range': (1, 2), 'n_neighbors': 8, 'weights': 'distance'}. Best is trial 96 with value: 0.8380862642539852.\n",
      "[I 2024-09-12 17:53:29,434] Trial 131 finished with value: 0.8393304232448129 and parameters: {'max_df': 0.6476988395852745, 'min_df': 0.07509404153752383, 'max_features': 615, 'stop_words': None, 'ngram_range': (1, 2), 'n_neighbors': 8, 'weights': 'distance'}. Best is trial 131 with value: 0.8393304232448129.\n",
      "[I 2024-09-12 17:53:33,204] Trial 132 finished with value: 0.8362267561486838 and parameters: {'max_df': 0.6521247786177632, 'min_df': 0.07348658684310683, 'max_features': 623, 'stop_words': None, 'ngram_range': (1, 2), 'n_neighbors': 8, 'weights': 'distance'}. Best is trial 131 with value: 0.8393304232448129.\n",
      "[I 2024-09-12 17:53:36,867] Trial 133 finished with value: 0.8306424629348307 and parameters: {'max_df': 0.647660812941883, 'min_df': 0.07100603042301239, 'max_features': 584, 'stop_words': None, 'ngram_range': (1, 2), 'n_neighbors': 8, 'weights': 'distance'}. Best is trial 131 with value: 0.8393304232448129.\n",
      "[I 2024-09-12 17:53:40,595] Trial 134 finished with value: 0.837472838105494 and parameters: {'max_df': 0.6661453277058932, 'min_df': 0.07661729386732757, 'max_features': 632, 'stop_words': None, 'ngram_range': (1, 2), 'n_neighbors': 8, 'weights': 'distance'}. Best is trial 131 with value: 0.8393304232448129.\n",
      "[I 2024-09-12 17:53:44,327] Trial 135 finished with value: 0.832503894006115 and parameters: {'max_df': 0.6641652888179101, 'min_df': 0.06158025766604537, 'max_features': 638, 'stop_words': None, 'ngram_range': (1, 2), 'n_neighbors': 8, 'weights': 'distance'}. Best is trial 131 with value: 0.8393304232448129.\n",
      "[I 2024-09-12 17:53:48,018] Trial 136 finished with value: 0.837472838105494 and parameters: {'max_df': 0.654463570897441, 'min_df': 0.07566802759020147, 'max_features': 625, 'stop_words': None, 'ngram_range': (1, 2), 'n_neighbors': 8, 'weights': 'distance'}. Best is trial 131 with value: 0.8393304232448129.\n",
      "[I 2024-09-12 17:53:49,489] Trial 137 finished with value: 0.7301444147453031 and parameters: {'max_df': 0.6315924486357382, 'min_df': 0.39057495154816585, 'max_features': 617, 'stop_words': None, 'ngram_range': (1, 2), 'n_neighbors': 8, 'weights': 'distance'}. Best is trial 131 with value: 0.8393304232448129.\n",
      "[I 2024-09-12 17:53:53,186] Trial 138 finished with value: 0.834984520123839 and parameters: {'max_df': 0.6476088676925207, 'min_df': 0.07548305991489285, 'max_features': 635, 'stop_words': None, 'ngram_range': (1, 2), 'n_neighbors': 9, 'weights': 'distance'}. Best is trial 131 with value: 0.8393304232448129.\n",
      "[I 2024-09-12 17:53:55,840] Trial 139 finished with value: 0.826317712439667 and parameters: {'max_df': 0.616994797971219, 'min_df': 0.12033972641873295, 'max_features': 607, 'stop_words': None, 'ngram_range': (1, 2), 'n_neighbors': 8, 'weights': 'distance'}. Best is trial 131 with value: 0.8393304232448129.\n",
      "[I 2024-09-12 17:54:02,954] Trial 140 finished with value: 0.832503894006115 and parameters: {'max_df': 0.6777110145719124, 'min_df': 0.10091411809237369, 'max_features': 523, 'stop_words': None, 'ngram_range': (1, 4), 'n_neighbors': 9, 'weights': 'distance'}. Best is trial 131 with value: 0.8393304232448129.\n",
      "[I 2024-09-12 17:54:06,435] Trial 141 finished with value: 0.8374670692075457 and parameters: {'max_df': 0.6668613014965209, 'min_df': 0.07522489944629994, 'max_features': 565, 'stop_words': None, 'ngram_range': (1, 2), 'n_neighbors': 8, 'weights': 'distance'}. Best is trial 131 with value: 0.8393304232448129.\n",
      "[I 2024-09-12 17:54:10,098] Trial 142 finished with value: 0.8393323462107956 and parameters: {'max_df': 0.6695609849600146, 'min_df': 0.07571636686660783, 'max_features': 616, 'stop_words': None, 'ngram_range': (1, 2), 'n_neighbors': 8, 'weights': 'distance'}. Best is trial 142 with value: 0.8393323462107956.\n",
      "[I 2024-09-12 17:54:13,696] Trial 143 finished with value: 0.8281656827490721 and parameters: {'max_df': 0.6721938218842037, 'min_df': 0.05796665632504963, 'max_features': 557, 'stop_words': None, 'ngram_range': (1, 2), 'n_neighbors': 8, 'weights': 'distance'}. Best is trial 142 with value: 0.8393323462107956.\n",
      "[I 2024-09-12 17:54:17,507] Trial 144 finished with value: 0.837472838105494 and parameters: {'max_df': 0.7066694470559686, 'min_df': 0.0777649297631447, 'max_features': 652, 'stop_words': None, 'ngram_range': (1, 2), 'n_neighbors': 8, 'weights': 'distance'}. Best is trial 142 with value: 0.8393323462107956.\n",
      "[I 2024-09-12 17:54:21,476] Trial 145 finished with value: 0.8380920331519336 and parameters: {'max_df': 0.7083578625852073, 'min_df': 0.07665355588878603, 'max_features': 658, 'stop_words': None, 'ngram_range': (1, 2), 'n_neighbors': 8, 'weights': 'distance'}. Best is trial 142 with value: 0.8393323462107956.\n",
      "[I 2024-09-12 17:54:25,517] Trial 146 finished with value: 0.8306463088667961 and parameters: {'max_df': 0.7272666127765631, 'min_df': 0.05054714021281935, 'max_features': 644, 'stop_words': None, 'ngram_range': (1, 2), 'n_neighbors': 8, 'weights': 'distance'}. Best is trial 142 with value: 0.8393323462107956.\n",
      "[I 2024-09-12 17:54:29,469] Trial 147 finished with value: 0.8374709151395112 and parameters: {'max_df': 0.7140244577596777, 'min_df': 0.06046340605977943, 'max_features': 656, 'stop_words': None, 'ngram_range': (1, 2), 'n_neighbors': 8, 'weights': 'distance'}. Best is trial 142 with value: 0.8393323462107956.\n",
      "[I 2024-09-12 17:54:32,543] Trial 148 finished with value: 0.8269349845201239 and parameters: {'max_df': 0.6873550966101873, 'min_df': 0.10367202426884851, 'max_features': 661, 'stop_words': None, 'ngram_range': (1, 2), 'n_neighbors': 8, 'weights': 'distance'}. Best is trial 142 with value: 0.8393323462107956.\n",
      "[I 2024-09-12 17:54:36,148] Trial 149 finished with value: 0.8349883660558044 and parameters: {'max_df': 0.7045324349353802, 'min_df': 0.07788680317134634, 'max_features': 578, 'stop_words': None, 'ngram_range': (1, 2), 'n_neighbors': 8, 'weights': 'distance'}. Best is trial 142 with value: 0.8393323462107956.\n",
      "[I 2024-09-12 17:54:40,002] Trial 150 finished with value: 0.8287868007614947 and parameters: {'max_df': 0.7119864212074181, 'min_df': 0.06206973400259588, 'max_features': 632, 'stop_words': None, 'ngram_range': (1, 2), 'n_neighbors': 9, 'weights': 'uniform'}. Best is trial 142 with value: 0.8393323462107956.\n",
      "[I 2024-09-12 17:54:44,109] Trial 151 finished with value: 0.8399573101551834 and parameters: {'max_df': 0.7247514765023472, 'min_df': 0.06530626694868187, 'max_features': 698, 'stop_words': None, 'ngram_range': (1, 2), 'n_neighbors': 8, 'weights': 'distance'}. Best is trial 151 with value: 0.8399573101551834.\n",
      "[I 2024-09-12 17:54:47,301] Trial 152 finished with value: 0.8294175336038305 and parameters: {'max_df': 0.6832604856667001, 'min_df': 0.09650883419493522, 'max_features': 669, 'stop_words': None, 'ngram_range': (1, 2), 'n_neighbors': 8, 'weights': 'distance'}. Best is trial 151 with value: 0.8399573101551834.\n",
      "[I 2024-09-12 17:54:51,242] Trial 153 finished with value: 0.8362363709785974 and parameters: {'max_df': 0.7248552113284432, 'min_df': 0.07549926266676073, 'max_features': 657, 'stop_words': None, 'ngram_range': (1, 2), 'n_neighbors': 8, 'weights': 'distance'}. Best is trial 151 with value: 0.8399573101551834.\n",
      "[I 2024-09-12 17:54:55,164] Trial 154 finished with value: 0.8306482318327788 and parameters: {'max_df': 0.7454686818455492, 'min_df': 0.0501635892135144, 'max_features': 651, 'stop_words': None, 'ngram_range': (1, 2), 'n_neighbors': 8, 'weights': 'distance'}. Best is trial 151 with value: 0.8399573101551834.\n",
      "[I 2024-09-12 17:54:57,343] Trial 155 finished with value: 0.825692748495279 and parameters: {'max_df': 0.7238697450490263, 'min_df': 0.03964254152147448, 'max_features': 695, 'stop_words': 'english', 'ngram_range': (1, 2), 'n_neighbors': 8, 'weights': 'distance'}. Best is trial 151 with value: 0.8399573101551834.\n",
      "[I 2024-09-12 17:55:03,090] Trial 156 finished with value: 0.8306405399688479 and parameters: {'max_df': 0.7361217331012684, 'min_df': 0.07979748804870695, 'max_features': 679, 'stop_words': None, 'ngram_range': (1, 3), 'n_neighbors': 9, 'weights': 'distance'}. Best is trial 151 with value: 0.8399573101551834.\n",
      "[I 2024-09-12 17:55:06,828] Trial 157 finished with value: 0.8287887237274774 and parameters: {'max_df': 0.7576662978036659, 'min_df': 0.06295788970528168, 'max_features': 594, 'stop_words': None, 'ngram_range': (1, 2), 'n_neighbors': 8, 'weights': 'distance'}. Best is trial 151 with value: 0.8399573101551834.\n",
      "[I 2024-09-12 17:55:10,230] Trial 158 finished with value: 0.8356152529661751 and parameters: {'max_df': 0.7234527760921732, 'min_df': 0.09118490077540965, 'max_features': 728, 'stop_words': None, 'ngram_range': (1, 2), 'n_neighbors': 8, 'weights': 'distance'}. Best is trial 151 with value: 0.8399573101551834.\n",
      "[I 2024-09-12 17:55:11,771] Trial 159 finished with value: 0.8306559236967098 and parameters: {'max_df': 0.706708838272235, 'min_df': 0.05551251964518755, 'max_features': 636, 'stop_words': None, 'ngram_range': (1, 1), 'n_neighbors': 8, 'weights': 'distance'}. Best is trial 151 with value: 0.8399573101551834.\n",
      "[I 2024-09-12 17:55:14,759] Trial 160 finished with value: 0.829421379535796 and parameters: {'max_df': 0.6714007257543494, 'min_df': 0.11185882844933034, 'max_features': 655, 'stop_words': None, 'ngram_range': (1, 2), 'n_neighbors': 8, 'weights': 'distance'}. Best is trial 151 with value: 0.8399573101551834.\n",
      "[I 2024-09-12 17:55:18,463] Trial 161 finished with value: 0.8337422840989943 and parameters: {'max_df': 0.6552906772229908, 'min_df': 0.0716984789579489, 'max_features': 620, 'stop_words': None, 'ngram_range': (1, 2), 'n_neighbors': 8, 'weights': 'distance'}. Best is trial 151 with value: 0.8399573101551834.\n",
      "[I 2024-09-12 17:55:22,098] Trial 162 finished with value: 0.8387131511643557 and parameters: {'max_df': 0.6830275439611876, 'min_df': 0.07891516989519896, 'max_features': 605, 'stop_words': None, 'ngram_range': (1, 2), 'n_neighbors': 8, 'weights': 'distance'}. Best is trial 151 with value: 0.8399573101551834.\n",
      "[I 2024-09-12 17:55:25,769] Trial 163 finished with value: 0.835607561102244 and parameters: {'max_df': 0.6865072162421222, 'min_df': 0.0795447342809451, 'max_features': 584, 'stop_words': None, 'ngram_range': (1, 2), 'n_neighbors': 9, 'weights': 'distance'}. Best is trial 151 with value: 0.8399573101551834.\n",
      "[I 2024-09-12 17:55:29,242] Trial 164 finished with value: 0.8318923908236064 and parameters: {'max_df': 0.7151381304118439, 'min_df': 0.06667079300604824, 'max_features': 545, 'stop_words': None, 'ngram_range': (1, 2), 'n_neighbors': 8, 'weights': 'distance'}. Best is trial 151 with value: 0.8399573101551834.\n",
      "[I 2024-09-12 17:55:32,762] Trial 165 finished with value: 0.8343691710093649 and parameters: {'max_df': 0.7001999978612612, 'min_df': 0.08508980870582125, 'max_features': 602, 'stop_words': None, 'ngram_range': (1, 2), 'n_neighbors': 8, 'weights': 'distance'}. Best is trial 151 with value: 0.8399573101551834.\n",
      "[I 2024-09-12 17:55:35,975] Trial 166 finished with value: 0.8356152529661751 and parameters: {'max_df': 0.6714429356677263, 'min_df': 0.09544575429917389, 'max_features': 670, 'stop_words': None, 'ngram_range': (1, 2), 'n_neighbors': 8, 'weights': 'distance'}. Best is trial 151 with value: 0.8399573101551834.\n",
      "[I 2024-09-12 17:55:39,979] Trial 167 finished with value: 0.8312712728111838 and parameters: {'max_df': 0.7203138529862093, 'min_df': 0.04491979662627459, 'max_features': 700, 'stop_words': None, 'ngram_range': (1, 2), 'n_neighbors': 8, 'weights': 'distance'}. Best is trial 151 with value: 0.8399573101551834.\n",
      "[I 2024-09-12 17:55:43,499] Trial 168 finished with value: 0.8387093052323904 and parameters: {'max_df': 0.6870434736408315, 'min_df': 0.07969477428236929, 'max_features': 567, 'stop_words': None, 'ngram_range': (1, 2), 'n_neighbors': 9, 'weights': 'distance'}. Best is trial 151 with value: 0.8399573101551834.\n",
      "[I 2024-09-12 17:55:46,926] Trial 169 finished with value: 0.8300251908543739 and parameters: {'max_df': 0.7453900791042689, 'min_df': 0.08062722806429373, 'max_features': 506, 'stop_words': None, 'ngram_range': (1, 2), 'n_neighbors': 9, 'weights': 'distance'}. Best is trial 151 with value: 0.8399573101551834.\n",
      "[I 2024-09-12 17:55:50,033] Trial 170 finished with value: 0.8312712728111841 and parameters: {'max_df': 0.6872423462176039, 'min_df': 0.09979136528851594, 'max_features': 564, 'stop_words': None, 'ngram_range': (1, 2), 'n_neighbors': 9, 'weights': 'distance'}. Best is trial 151 with value: 0.8399573101551834.\n",
      "[I 2024-09-12 17:55:53,860] Trial 171 finished with value: 0.8325077399380806 and parameters: {'max_df': 0.6571108059749835, 'min_df': 0.0642849735339951, 'max_features': 646, 'stop_words': None, 'ngram_range': (1, 2), 'n_neighbors': 8, 'weights': 'distance'}. Best is trial 151 with value: 0.8399573101551834.\n",
      "[I 2024-09-12 17:55:57,660] Trial 172 finished with value: 0.8380920331519335 and parameters: {'max_df': 0.70302974637835, 'min_df': 0.07844568591835833, 'max_features': 603, 'stop_words': None, 'ngram_range': (1, 2), 'n_neighbors': 8, 'weights': 'distance'}. Best is trial 151 with value: 0.8399573101551834.\n",
      "[I 2024-09-12 17:56:01,102] Trial 173 finished with value: 0.8343691710093649 and parameters: {'max_df': 0.7040822577391861, 'min_df': 0.0876697734309601, 'max_features': 582, 'stop_words': None, 'ngram_range': (1, 2), 'n_neighbors': 8, 'weights': 'distance'}. Best is trial 151 with value: 0.8399573101551834.\n",
      "[I 2024-09-12 17:56:04,491] Trial 174 finished with value: 0.8306520777647444 and parameters: {'max_df': 0.6811505458678273, 'min_df': 0.05671349185176815, 'max_features': 551, 'stop_words': None, 'ngram_range': (1, 2), 'n_neighbors': 8, 'weights': 'distance'}. Best is trial 151 with value: 0.8399573101551834.\n",
      "[I 2024-09-12 17:56:07,893] Trial 175 finished with value: 0.8331269349845201 and parameters: {'max_df': 0.6950144503652885, 'min_df': 0.07545070328991152, 'max_features': 532, 'stop_words': None, 'ngram_range': (1, 2), 'n_neighbors': 8, 'weights': 'distance'}. Best is trial 151 with value: 0.8399573101551834.\n",
      "[I 2024-09-12 17:56:09,480] Trial 176 finished with value: 0.7785320077687826 and parameters: {'max_df': 0.6659194382597289, 'min_df': 0.32368063845814665, 'max_features': 632, 'stop_words': None, 'ngram_range': (1, 2), 'n_neighbors': 8, 'weights': 'distance'}. Best is trial 151 with value: 0.8399573101551834.\n",
      "[I 2024-09-12 17:56:12,443] Trial 177 finished with value: 0.831888544891641 and parameters: {'max_df': 0.7058435200193705, 'min_df': 0.10769410066476463, 'max_features': 601, 'stop_words': None, 'ngram_range': (1, 2), 'n_neighbors': 9, 'weights': 'distance'}. Best is trial 151 with value: 0.8399573101551834.\n",
      "[I 2024-09-12 17:56:19,289] Trial 178 finished with value: 0.8225775436032535 and parameters: {'max_df': 0.644494702317899, 'min_df': 0.09157095795813457, 'max_features': 573, 'stop_words': None, 'ngram_range': (1, 4), 'n_neighbors': 8, 'weights': 'uniform'}. Best is trial 151 with value: 0.8399573101551834.\n",
      "[I 2024-09-12 17:56:20,971] Trial 179 finished with value: 0.8263061746437705 and parameters: {'max_df': 0.7388828968791423, 'min_df': 0.07799594475957083, 'max_features': 620, 'stop_words': 'english', 'ngram_range': (1, 2), 'n_neighbors': 9, 'weights': 'distance'}. Best is trial 151 with value: 0.8399573101551834.\n",
      "[I 2024-09-12 17:56:24,760] Trial 180 finished with value: 0.8325058169720977 and parameters: {'max_df': 0.6727334594044879, 'min_df': 0.06296998968898704, 'max_features': 652, 'stop_words': None, 'ngram_range': (1, 2), 'n_neighbors': 8, 'weights': 'distance'}. Best is trial 151 with value: 0.8399573101551834.\n",
      "[I 2024-09-12 17:56:28,424] Trial 181 finished with value: 0.8331230890525546 and parameters: {'max_df': 0.6902679481073074, 'min_df': 0.07002690384110917, 'max_features': 606, 'stop_words': None, 'ngram_range': (1, 2), 'n_neighbors': 8, 'weights': 'distance'}. Best is trial 151 with value: 0.8399573101551834.\n",
      "[I 2024-09-12 17:56:32,113] Trial 182 finished with value: 0.8294059958079341 and parameters: {'max_df': 0.7120869188848414, 'min_df': 0.0517277749468015, 'max_features': 611, 'stop_words': None, 'ngram_range': (1, 2), 'n_neighbors': 8, 'weights': 'distance'}. Best is trial 151 with value: 0.8399573101551834.\n",
      "[I 2024-09-12 17:56:35,592] Trial 183 finished with value: 0.8343730169413304 and parameters: {'max_df': 0.6595437893184323, 'min_df': 0.08394304061704524, 'max_features': 671, 'stop_words': None, 'ngram_range': (1, 2), 'n_neighbors': 8, 'weights': 'distance'}. Best is trial 151 with value: 0.8399573101551834.\n",
      "[I 2024-09-12 17:56:39,288] Trial 184 finished with value: 0.8318866219256582 and parameters: {'max_df': 0.6457246468657769, 'min_df': 0.06988126024577672, 'max_features': 639, 'stop_words': None, 'ngram_range': (1, 2), 'n_neighbors': 8, 'weights': 'distance'}. Best is trial 151 with value: 0.8399573101551834.\n",
      "[I 2024-09-12 17:56:42,737] Trial 185 finished with value: 0.8337403611330115 and parameters: {'max_df': 0.680648621183677, 'min_df': 0.09485557601544849, 'max_features': 586, 'stop_words': None, 'ngram_range': (1, 2), 'n_neighbors': 7, 'weights': 'distance'}. Best is trial 151 with value: 0.8399573101551834.\n",
      "[I 2024-09-12 17:56:46,359] Trial 186 finished with value: 0.8349864430898217 and parameters: {'max_df': 0.7290769904085499, 'min_df': 0.07795369681545573, 'max_features': 561, 'stop_words': None, 'ngram_range': (1, 2), 'n_neighbors': 8, 'weights': 'distance'}. Best is trial 151 with value: 0.8399573101551834.\n",
      "[I 2024-09-12 17:56:50,011] Trial 187 finished with value: 0.8318846989596753 and parameters: {'max_df': 0.6611841840821774, 'min_df': 0.05765610530507632, 'max_features': 627, 'stop_words': None, 'ngram_range': (1, 2), 'n_neighbors': 8, 'weights': 'distance'}. Best is trial 151 with value: 0.8399573101551834.\n",
      "[I 2024-09-12 17:56:53,965] Trial 188 finished with value: 0.8362267561486837 and parameters: {'max_df': 0.6949811284758692, 'min_df': 0.06829142393730495, 'max_features': 687, 'stop_words': None, 'ngram_range': (1, 2), 'n_neighbors': 7, 'weights': 'distance'}. Best is trial 151 with value: 0.8399573101551834.\n",
      "[I 2024-09-12 17:56:59,234] Trial 189 finished with value: 0.8201007634174952 and parameters: {'max_df': 0.7180575069415149, 'min_df': 0.031190945541675785, 'max_features': 595, 'stop_words': None, 'ngram_range': (1, 3), 'n_neighbors': 8, 'weights': 'distance'}. Best is trial 151 with value: 0.8399573101551834.\n",
      "[I 2024-09-12 17:57:02,663] Trial 190 finished with value: 0.8337384381670289 and parameters: {'max_df': 0.6188100234481273, 'min_df': 0.0845246471545249, 'max_features': 967, 'stop_words': None, 'ngram_range': (1, 2), 'n_neighbors': 9, 'weights': 'distance'}. Best is trial 151 with value: 0.8399573101551834.\n",
      "[I 2024-09-12 17:57:06,479] Trial 191 finished with value: 0.8362267561486838 and parameters: {'max_df': 0.6506649085308788, 'min_df': 0.07341277907806319, 'max_features': 622, 'stop_words': None, 'ngram_range': (1, 2), 'n_neighbors': 8, 'weights': 'distance'}. Best is trial 151 with value: 0.8399573101551834.\n",
      "[I 2024-09-12 17:57:10,296] Trial 192 finished with value: 0.8393342691767783 and parameters: {'max_df': 0.6406182010901023, 'min_df': 0.0726353670084679, 'max_features': 652, 'stop_words': None, 'ngram_range': (1, 2), 'n_neighbors': 8, 'weights': 'distance'}. Best is trial 151 with value: 0.8399573101551834.\n",
      "[I 2024-09-12 17:57:13,948] Trial 193 finished with value: 0.8380920331519335 and parameters: {'max_df': 0.6689069588190004, 'min_df': 0.09272568225485768, 'max_features': 650, 'stop_words': None, 'ngram_range': (1, 2), 'n_neighbors': 8, 'weights': 'distance'}. Best is trial 151 with value: 0.8399573101551834.\n",
      "[I 2024-09-12 17:57:17,445] Trial 194 finished with value: 0.8269330615541411 and parameters: {'max_df': 0.6717706511182804, 'min_df': 0.10172772165483517, 'max_features': 658, 'stop_words': None, 'ngram_range': (1, 2), 'n_neighbors': 8, 'weights': 'distance'}. Best is trial 151 with value: 0.8399573101551834.\n",
      "[I 2024-09-12 17:57:21,006] Trial 195 finished with value: 0.8380920331519335 and parameters: {'max_df': 0.6798737396416942, 'min_df': 0.09180345692352374, 'max_features': 674, 'stop_words': None, 'ngram_range': (1, 2), 'n_neighbors': 8, 'weights': 'distance'}. Best is trial 151 with value: 0.8399573101551834.\n",
      "[I 2024-09-12 17:57:24,043] Trial 196 finished with value: 0.8269369074861066 and parameters: {'max_df': 0.6672775964161937, 'min_df': 0.11637577971429502, 'max_features': 704, 'stop_words': None, 'ngram_range': (1, 2), 'n_neighbors': 8, 'weights': 'distance'}. Best is trial 151 with value: 0.8399573101551834.\n",
      "[I 2024-09-12 17:57:25,362] Trial 197 finished with value: 0.8231967386496933 and parameters: {'max_df': 0.6798103369363065, 'min_df': 0.08989300786936778, 'max_features': 642, 'stop_words': None, 'ngram_range': (1, 1), 'n_neighbors': 8, 'weights': 'distance'}. Best is trial 151 with value: 0.8399573101551834.\n",
      "[I 2024-09-12 17:57:28,728] Trial 198 finished with value: 0.836232525046632 and parameters: {'max_df': 0.6430543747228336, 'min_df': 0.0957989662815161, 'max_features': 679, 'stop_words': None, 'ngram_range': (1, 2), 'n_neighbors': 8, 'weights': 'distance'}. Best is trial 151 with value: 0.8399573101551834.\n",
      "[I 2024-09-12 17:57:32,192] Trial 199 finished with value: 0.826940753418072 and parameters: {'max_df': 0.6582815340632282, 'min_df': 0.10699862005386107, 'max_features': 864, 'stop_words': None, 'ngram_range': (1, 2), 'n_neighbors': 8, 'weights': 'distance'}. Best is trial 151 with value: 0.8399573101551834.\n",
      "[I 2024-09-12 17:57:36,105] Trial 200 finished with value: 0.8331269349845203 and parameters: {'max_df': 0.7002755500517377, 'min_df': 0.08409903411330978, 'max_features': 669, 'stop_words': None, 'ngram_range': (1, 2), 'n_neighbors': 8, 'weights': 'distance'}. Best is trial 151 with value: 0.8399573101551834.\n",
      "[I 2024-09-12 17:57:39,897] Trial 201 finished with value: 0.8411976232140453 and parameters: {'max_df': 0.686902638212078, 'min_df': 0.07928350091546361, 'max_features': 654, 'stop_words': None, 'ngram_range': (1, 2), 'n_neighbors': 8, 'weights': 'distance'}. Best is trial 201 with value: 0.8411976232140453.\n",
      "[I 2024-09-12 17:57:43,766] Trial 202 finished with value: 0.8300213449224083 and parameters: {'max_df': 0.6858916298672839, 'min_df': 0.06157734474483053, 'max_features': 635, 'stop_words': None, 'ngram_range': (1, 2), 'n_neighbors': 8, 'weights': 'distance'}. Best is trial 201 with value: 0.8411976232140453.\n",
      "[I 2024-09-12 17:57:47,590] Trial 203 finished with value: 0.8362363709785974 and parameters: {'max_df': 0.6764146367538969, 'min_df': 0.08256004811269449, 'max_features': 687, 'stop_words': None, 'ngram_range': (1, 2), 'n_neighbors': 8, 'weights': 'distance'}. Best is trial 201 with value: 0.8411976232140453.\n",
      "[I 2024-09-12 17:57:51,062] Trial 204 finished with value: 0.8356094840682268 and parameters: {'max_df': 0.6902132206436578, 'min_df': 0.09260364565312548, 'max_features': 651, 'stop_words': None, 'ngram_range': (1, 2), 'n_neighbors': 8, 'weights': 'distance'}. Best is trial 201 with value: 0.8411976232140453.\n",
      "[I 2024-09-12 17:57:54,950] Trial 205 finished with value: 0.8362267561486837 and parameters: {'max_df': 0.6644353454777706, 'min_df': 0.06652719252521337, 'max_features': 609, 'stop_words': None, 'ngram_range': (1, 2), 'n_neighbors': 9, 'weights': 'distance'}. Best is trial 201 with value: 0.8411976232140453.\n",
      "[I 2024-09-12 17:57:58,771] Trial 206 finished with value: 0.8368497971270887 and parameters: {'max_df': 0.7052505780925562, 'min_df': 0.07858137299845307, 'max_features': 584, 'stop_words': None, 'ngram_range': (1, 2), 'n_neighbors': 8, 'weights': 'distance'}. Best is trial 201 with value: 0.8411976232140453.\n",
      "[I 2024-09-12 17:58:02,735] Trial 207 finished with value: 0.8306443859008134 and parameters: {'max_df': 0.7006875609438479, 'min_df': 0.04845042429241133, 'max_features': 569, 'stop_words': None, 'ngram_range': (1, 2), 'n_neighbors': 7, 'weights': 'distance'}. Best is trial 201 with value: 0.8411976232140453.\n",
      "[I 2024-09-12 17:58:06,131] Trial 208 finished with value: 0.8263119435417188 and parameters: {'max_df': 0.7080146606359051, 'min_df': 0.09819542427852379, 'max_features': 537, 'stop_words': None, 'ngram_range': (1, 2), 'n_neighbors': 8, 'weights': 'distance'}. Best is trial 201 with value: 0.8411976232140453.\n",
      "[I 2024-09-12 17:58:09,940] Trial 209 finished with value: 0.8256773647674173 and parameters: {'max_df': 0.6834168978261517, 'min_df': 0.08077535481886626, 'max_features': 584, 'stop_words': None, 'ngram_range': (1, 2), 'n_neighbors': 8, 'weights': 'uniform'}. Best is trial 201 with value: 0.8411976232140453.\n",
      "[I 2024-09-12 17:58:13,961] Trial 210 finished with value: 0.8362267561486837 and parameters: {'max_df': 0.6948553370667347, 'min_df': 0.058830939477732165, 'max_features': 668, 'stop_words': None, 'ngram_range': (1, 2), 'n_neighbors': 8, 'weights': 'distance'}. Best is trial 201 with value: 0.8411976232140453.\n",
      "[I 2024-09-12 17:58:17,956] Trial 211 finished with value: 0.8312616579812703 and parameters: {'max_df': 0.6528321161508583, 'min_df': 0.07109221928479054, 'max_features': 628, 'stop_words': None, 'ngram_range': (1, 2), 'n_neighbors': 8, 'weights': 'distance'}. Best is trial 201 with value: 0.8411976232140453.\n",
      "[I 2024-09-12 17:58:21,985] Trial 212 finished with value: 0.7853566140414976 and parameters: {'max_df': 0.6716270275492595, 'min_df': 0.08788372046407712, 'max_features': 594, 'stop_words': None, 'ngram_range': (1, 2), 'n_neighbors': 2, 'weights': 'distance'}. Best is trial 201 with value: 0.8411976232140453.\n",
      "[I 2024-09-12 17:58:26,229] Trial 213 finished with value: 0.843057131319347 and parameters: {'max_df': 0.6358372219860517, 'min_df': 0.07955254775998906, 'max_features': 722, 'stop_words': None, 'ngram_range': (1, 2), 'n_neighbors': 8, 'weights': 'distance'}. Best is trial 213 with value: 0.843057131319347.\n",
      "[I 2024-09-12 17:58:27,809] Trial 214 finished with value: 0.6178605080476126 and parameters: {'max_df': 0.6388553283564775, 'min_df': 0.4491118046362765, 'max_features': 729, 'stop_words': None, 'ngram_range': (1, 2), 'n_neighbors': 8, 'weights': 'distance'}. Best is trial 213 with value: 0.843057131319347.\n",
      "[I 2024-09-12 17:58:31,702] Trial 215 finished with value: 0.8380939561179164 and parameters: {'max_df': 0.7094322996415449, 'min_df': 0.07942236321290203, 'max_features': 722, 'stop_words': None, 'ngram_range': (1, 2), 'n_neighbors': 8, 'weights': 'distance'}. Best is trial 213 with value: 0.843057131319347.\n",
      "[I 2024-09-12 17:58:33,449] Trial 216 finished with value: 0.824431282810607 and parameters: {'max_df': 0.7089368832316874, 'min_df': 0.07731408230152245, 'max_features': 750, 'stop_words': 'english', 'ngram_range': (1, 2), 'n_neighbors': 7, 'weights': 'distance'}. Best is trial 213 with value: 0.843057131319347.\n",
      "[I 2024-09-12 17:58:41,610] Trial 217 finished with value: 0.8294059958079341 and parameters: {'max_df': 0.7184381397708401, 'min_df': 0.06580039479550023, 'max_features': 713, 'stop_words': None, 'ngram_range': (1, 4), 'n_neighbors': 8, 'weights': 'distance'}. Best is trial 213 with value: 0.843057131319347.\n",
      "[I 2024-09-12 17:58:45,446] Trial 218 finished with value: 0.8356094840682268 and parameters: {'max_df': 0.6903707689968063, 'min_df': 0.08023036322683491, 'max_features': 722, 'stop_words': None, 'ngram_range': (1, 2), 'n_neighbors': 8, 'weights': 'distance'}. Best is trial 213 with value: 0.843057131319347.\n",
      "[I 2024-09-12 17:58:49,467] Trial 219 finished with value: 0.8356056381362613 and parameters: {'max_df': 0.7003913777193023, 'min_df': 0.05519959884571981, 'max_features': 703, 'stop_words': None, 'ngram_range': (1, 2), 'n_neighbors': 8, 'weights': 'distance'}. Best is trial 213 with value: 0.843057131319347.\n",
      "[I 2024-09-12 17:58:51,421] Trial 220 finished with value: 0.8194815683710555 and parameters: {'max_df': 0.7144158797915627, 'min_df': 0.20767943405505088, 'max_features': 667, 'stop_words': None, 'ngram_range': (1, 2), 'n_neighbors': 8, 'weights': 'distance'}. Best is trial 213 with value: 0.843057131319347.\n",
      "[I 2024-09-12 17:58:54,862] Trial 221 finished with value: 0.8362306020806491 and parameters: {'max_df': 0.6788249060145274, 'min_df': 0.09020177284082308, 'max_features': 686, 'stop_words': None, 'ngram_range': (1, 2), 'n_neighbors': 8, 'weights': 'distance'}. Best is trial 213 with value: 0.843057131319347.\n",
      "[I 2024-09-12 17:58:58,292] Trial 222 finished with value: 0.8331269349845203 and parameters: {'max_df': 0.6657692421483166, 'min_df': 0.08669901123950083, 'max_features': 637, 'stop_words': None, 'ngram_range': (1, 2), 'n_neighbors': 8, 'weights': 'distance'}. Best is trial 213 with value: 0.843057131319347.\n",
      "[I 2024-09-12 17:59:01,448] Trial 223 finished with value: 0.8287944926254255 and parameters: {'max_df': 0.6551278838687288, 'min_df': 0.09829057653069762, 'max_features': 648, 'stop_words': None, 'ngram_range': (1, 2), 'n_neighbors': 8, 'weights': 'distance'}. Best is trial 213 with value: 0.843057131319347.\n",
      "[I 2024-09-12 17:59:05,436] Trial 224 finished with value: 0.8368555660250371 and parameters: {'max_df': 0.673178735141398, 'min_df': 0.074808411699472, 'max_features': 779, 'stop_words': None, 'ngram_range': (1, 2), 'n_neighbors': 8, 'weights': 'distance'}. Best is trial 213 with value: 0.843057131319347.\n",
      "[I 2024-09-12 17:59:09,382] Trial 225 finished with value: 0.8337499759629253 and parameters: {'max_df': 0.688275312150355, 'min_df': 0.07292799427407075, 'max_features': 730, 'stop_words': None, 'ngram_range': (1, 2), 'n_neighbors': 8, 'weights': 'distance'}. Best is trial 213 with value: 0.843057131319347.\n",
      "[I 2024-09-12 17:59:13,626] Trial 226 finished with value: 0.8380939561179164 and parameters: {'max_df': 0.6772588527451475, 'min_df': 0.06457876840173107, 'max_features': 778, 'stop_words': None, 'ngram_range': (1, 2), 'n_neighbors': 8, 'weights': 'distance'}. Best is trial 213 with value: 0.843057131319347.\n",
      "[I 2024-09-12 17:59:17,518] Trial 227 finished with value: 0.838713151164356 and parameters: {'max_df': 0.6763722385428276, 'min_df': 0.07787612223827024, 'max_features': 766, 'stop_words': None, 'ngram_range': (1, 2), 'n_neighbors': 8, 'weights': 'distance'}. Best is trial 213 with value: 0.843057131319347.\n",
      "[I 2024-09-12 17:59:21,724] Trial 228 finished with value: 0.8380939561179164 and parameters: {'max_df': 0.6784701887826422, 'min_df': 0.0615766435260381, 'max_features': 773, 'stop_words': None, 'ngram_range': (1, 2), 'n_neighbors': 8, 'weights': 'distance'}. Best is trial 213 with value: 0.843057131319347.\n",
      "[I 2024-09-12 17:59:27,784] Trial 229 finished with value: 0.8312789646751149 and parameters: {'max_df': 0.6423765871131659, 'min_df': 0.05977316151359591, 'max_features': 773, 'stop_words': None, 'ngram_range': (1, 3), 'n_neighbors': 9, 'weights': 'distance'}. Best is trial 213 with value: 0.843057131319347.\n",
      "[I 2024-09-12 17:59:29,558] Trial 230 finished with value: 0.8163798242409092 and parameters: {'max_df': 0.6809950357433949, 'min_df': 0.23609934210921152, 'max_features': 754, 'stop_words': None, 'ngram_range': (1, 2), 'n_neighbors': 8, 'weights': 'distance'}. Best is trial 213 with value: 0.843057131319347.\n",
      "[I 2024-09-12 17:59:33,754] Trial 231 finished with value: 0.841816818260485 and parameters: {'max_df': 0.6686465490926917, 'min_df': 0.06629871443230045, 'max_features': 815, 'stop_words': None, 'ngram_range': (1, 2), 'n_neighbors': 8, 'weights': 'distance'}. Best is trial 213 with value: 0.843057131319347.\n",
      "[I 2024-09-12 17:59:37,811] Trial 232 finished with value: 0.8374747610714767 and parameters: {'max_df': 0.6619950574314144, 'min_df': 0.06467264284346894, 'max_features': 731, 'stop_words': None, 'ngram_range': (1, 2), 'n_neighbors': 8, 'weights': 'distance'}. Best is trial 213 with value: 0.843057131319347.\n",
      "[I 2024-09-12 17:59:41,969] Trial 233 finished with value: 0.8374747610714767 and parameters: {'max_df': 0.6536917854947879, 'min_df': 0.04690801071309157, 'max_features': 787, 'stop_words': None, 'ngram_range': (1, 2), 'n_neighbors': 8, 'weights': 'distance'}. Best is trial 213 with value: 0.843057131319347.\n",
      "[I 2024-09-12 17:59:46,281] Trial 234 finished with value: 0.834367248043382 and parameters: {'max_df': 0.6534157038899483, 'min_df': 0.04911215357094112, 'max_features': 832, 'stop_words': None, 'ngram_range': (1, 2), 'n_neighbors': 8, 'weights': 'distance'}. Best is trial 213 with value: 0.843057131319347.\n",
      "[I 2024-09-12 17:59:50,418] Trial 235 finished with value: 0.8368478741611061 and parameters: {'max_df': 0.6472757656103844, 'min_df': 0.04812472719606439, 'max_features': 790, 'stop_words': None, 'ngram_range': (1, 2), 'n_neighbors': 8, 'weights': 'distance'}. Best is trial 213 with value: 0.843057131319347.\n",
      "[I 2024-09-12 17:59:54,624] Trial 236 finished with value: 0.832511585870046 and parameters: {'max_df': 0.65908818318349, 'min_df': 0.03858344558144752, 'max_features': 800, 'stop_words': None, 'ngram_range': (1, 2), 'n_neighbors': 8, 'weights': 'distance'}. Best is trial 213 with value: 0.843057131319347.\n",
      "[I 2024-09-12 17:59:58,963] Trial 237 finished with value: 0.8374728381054938 and parameters: {'max_df': 0.677423493615487, 'min_df': 0.05808356035083308, 'max_features': 818, 'stop_words': None, 'ngram_range': (1, 2), 'n_neighbors': 8, 'weights': 'distance'}. Best is trial 213 with value: 0.843057131319347.\n",
      "[I 2024-09-12 18:00:01,007] Trial 238 finished with value: 0.8145203161356076 and parameters: {'max_df': 0.6764174408487656, 'min_df': 0.18336845791231732, 'max_features': 815, 'stop_words': None, 'ngram_range': (1, 2), 'n_neighbors': 8, 'weights': 'distance'}. Best is trial 213 with value: 0.843057131319347.\n",
      "[I 2024-09-12 18:00:05,104] Trial 239 finished with value: 0.8374747610714767 and parameters: {'max_df': 0.636332912119991, 'min_df': 0.06668734280303357, 'max_features': 751, 'stop_words': None, 'ngram_range': (1, 2), 'n_neighbors': 8, 'weights': 'distance'}. Best is trial 213 with value: 0.843057131319347.\n",
      "[I 2024-09-12 18:00:06,470] Trial 240 finished with value: 0.8262984827798396 and parameters: {'max_df': 0.6293104352693254, 'min_df': 0.06887497127769886, 'max_features': 766, 'stop_words': None, 'ngram_range': (1, 1), 'n_neighbors': 8, 'weights': 'distance'}. Best is trial 213 with value: 0.843057131319347.\n",
      "[I 2024-09-12 18:00:10,607] Trial 241 finished with value: 0.8387189200623041 and parameters: {'max_df': 0.6373049717779474, 'min_df': 0.05758679988047545, 'max_features': 781, 'stop_words': None, 'ngram_range': (1, 2), 'n_neighbors': 8, 'weights': 'distance'}. Best is trial 213 with value: 0.843057131319347.\n",
      "[I 2024-09-12 18:00:14,732] Trial 242 finished with value: 0.8399611560871488 and parameters: {'max_df': 0.6393211606194833, 'min_df': 0.061342428433328294, 'max_features': 758, 'stop_words': None, 'ngram_range': (1, 2), 'n_neighbors': 8, 'weights': 'distance'}. Best is trial 213 with value: 0.843057131319347.\n",
      "[I 2024-09-12 18:00:18,789] Trial 243 finished with value: 0.8356114070342097 and parameters: {'max_df': 0.637428040871641, 'min_df': 0.06387548958777657, 'max_features': 751, 'stop_words': None, 'ngram_range': (1, 2), 'n_neighbors': 8, 'weights': 'distance'}. Best is trial 213 with value: 0.843057131319347.\n",
      "[I 2024-09-12 18:00:22,844] Trial 244 finished with value: 0.8380901101859509 and parameters: {'max_df': 0.6358570547572571, 'min_df': 0.04530267160567281, 'max_features': 765, 'stop_words': None, 'ngram_range': (1, 2), 'n_neighbors': 8, 'weights': 'distance'}. Best is trial 213 with value: 0.843057131319347.\n",
      "[I 2024-09-12 18:00:26,914] Trial 245 finished with value: 0.8331250120185374 and parameters: {'max_df': 0.6138302637559567, 'min_df': 0.03848472222692376, 'max_features': 788, 'stop_words': None, 'ngram_range': (1, 2), 'n_neighbors': 8, 'weights': 'distance'}. Best is trial 213 with value: 0.843057131319347.\n",
      "[I 2024-09-12 18:00:30,924] Trial 246 finished with value: 0.838088187219968 and parameters: {'max_df': 0.6411124690960333, 'min_df': 0.046509928617524655, 'max_features': 746, 'stop_words': None, 'ngram_range': (1, 2), 'n_neighbors': 8, 'weights': 'distance'}. Best is trial 213 with value: 0.843057131319347.\n",
      "[I 2024-09-12 18:00:34,967] Trial 247 finished with value: 0.8293983039440033 and parameters: {'max_df': 0.6382868241059806, 'min_df': 0.029841545793184168, 'max_features': 759, 'stop_words': None, 'ngram_range': (1, 2), 'n_neighbors': 8, 'weights': 'distance'}. Best is trial 213 with value: 0.843057131319347.\n",
      "[I 2024-09-12 18:00:38,918] Trial 248 finished with value: 0.8126511932003924 and parameters: {'max_df': 0.620957960524839, 'min_df': 0.04879031445546397, 'max_features': 740, 'stop_words': None, 'ngram_range': (1, 2), 'n_neighbors': 3, 'weights': 'distance'}. Best is trial 213 with value: 0.843057131319347.\n",
      "[I 2024-09-12 18:00:43,005] Trial 249 finished with value: 0.834367248043382 and parameters: {'max_df': 0.6258970909403028, 'min_df': 0.04106332667523857, 'max_features': 784, 'stop_words': None, 'ngram_range': (1, 2), 'n_neighbors': 8, 'weights': 'distance'}. Best is trial 213 with value: 0.843057131319347.\n",
      "[I 2024-09-12 18:00:47,114] Trial 250 finished with value: 0.8263080976097532 and parameters: {'max_df': 0.6326498712456449, 'min_df': 0.052525417490758834, 'max_features': 773, 'stop_words': None, 'ngram_range': (1, 2), 'n_neighbors': 9, 'weights': 'uniform'}. Best is trial 213 with value: 0.843057131319347.\n",
      "[I 2024-09-12 18:00:51,118] Trial 251 finished with value: 0.8374689921735283 and parameters: {'max_df': 0.6476365405054824, 'min_df': 0.04316838749548815, 'max_features': 744, 'stop_words': None, 'ngram_range': (1, 2), 'n_neighbors': 8, 'weights': 'distance'}. Best is trial 213 with value: 0.843057131319347.\n",
      "[I 2024-09-12 18:00:52,992] Trial 252 finished with value: 0.8331307809164856 and parameters: {'max_df': 0.638602790589509, 'min_df': 0.05862282970964843, 'max_features': 760, 'stop_words': 'english', 'ngram_range': (1, 2), 'n_neighbors': 8, 'weights': 'distance'}. Best is trial 213 with value: 0.843057131319347.\n",
      "[I 2024-09-12 18:00:57,180] Trial 253 finished with value: 0.839336192142761 and parameters: {'max_df': 0.6258715620958915, 'min_df': 0.06379302833535325, 'max_features': 805, 'stop_words': None, 'ngram_range': (1, 2), 'n_neighbors': 8, 'weights': 'distance'}. Best is trial 213 with value: 0.843057131319347.\n",
      "[I 2024-09-12 18:01:01,296] Trial 254 finished with value: 0.8213372305443917 and parameters: {'max_df': 0.620991043989092, 'min_df': 0.019335199754985495, 'max_features': 803, 'stop_words': None, 'ngram_range': (1, 2), 'n_neighbors': 8, 'weights': 'distance'}. Best is trial 213 with value: 0.843057131319347.\n",
      "[I 2024-09-12 18:01:05,510] Trial 255 finished with value: 0.8393381151087438 and parameters: {'max_df': 0.6486311891699631, 'min_df': 0.054319171776028935, 'max_features': 807, 'stop_words': None, 'ngram_range': (1, 2), 'n_neighbors': 8, 'weights': 'distance'}. Best is trial 213 with value: 0.843057131319347.\n",
      "[I 2024-09-12 18:01:09,829] Trial 256 finished with value: 0.8356133300001923 and parameters: {'max_df': 0.6272447746642337, 'min_df': 0.05557441803467799, 'max_features': 848, 'stop_words': None, 'ngram_range': (1, 2), 'n_neighbors': 8, 'weights': 'distance'}. Best is trial 213 with value: 0.843057131319347.\n",
      "[I 2024-09-12 18:01:17,873] Trial 257 finished with value: 0.8256869795973308 and parameters: {'max_df': 0.6466822984870478, 'min_df': 0.06622864125160234, 'max_features': 827, 'stop_words': None, 'ngram_range': (1, 4), 'n_neighbors': 8, 'weights': 'distance'}. Best is trial 213 with value: 0.843057131319347.\n",
      "[I 2024-09-12 18:01:21,863] Trial 258 finished with value: 0.8387189200623041 and parameters: {'max_df': 0.6598733619651806, 'min_df': 0.06409106828743252, 'max_features': 722, 'stop_words': None, 'ngram_range': (1, 2), 'n_neighbors': 8, 'weights': 'distance'}. Best is trial 213 with value: 0.843057131319347.\n",
      "[I 2024-09-12 18:01:26,074] Trial 259 finished with value: 0.8411995461800281 and parameters: {'max_df': 0.6449802242476952, 'min_df': 0.05937726326073506, 'max_features': 798, 'stop_words': None, 'ngram_range': (1, 2), 'n_neighbors': 9, 'weights': 'distance'}. Best is trial 213 with value: 0.843057131319347.\n",
      "[I 2024-09-12 18:01:30,228] Trial 260 finished with value: 0.8281637597830894 and parameters: {'max_df': 0.610429656232876, 'min_df': 0.03275689668131988, 'max_features': 812, 'stop_words': None, 'ngram_range': (1, 2), 'n_neighbors': 9, 'weights': 'distance'}. Best is trial 213 with value: 0.843057131319347.\n",
      "[I 2024-09-12 18:01:34,419] Trial 261 finished with value: 0.8368594119570025 and parameters: {'max_df': 0.6427425858614175, 'min_df': 0.05617873328351481, 'max_features': 801, 'stop_words': None, 'ngram_range': (1, 2), 'n_neighbors': 9, 'weights': 'distance'}. Best is trial 213 with value: 0.843057131319347.\n",
      "[I 2024-09-12 18:01:38,595] Trial 262 finished with value: 0.8356133300001922 and parameters: {'max_df': 0.6873642440787273, 'min_df': 0.052032803591561025, 'max_features': 773, 'stop_words': None, 'ngram_range': (1, 2), 'n_neighbors': 9, 'weights': 'distance'}. Best is trial 213 with value: 0.843057131319347.\n",
      "[I 2024-09-12 18:01:42,900] Trial 263 finished with value: 0.8356114070342097 and parameters: {'max_df': 0.6289645492711112, 'min_df': 0.06411924713693229, 'max_features': 849, 'stop_words': None, 'ngram_range': (1, 2), 'n_neighbors': 9, 'weights': 'distance'}. Best is trial 213 with value: 0.843057131319347.\n",
      "[I 2024-09-12 18:01:46,875] Trial 264 finished with value: 0.8368497971270887 and parameters: {'max_df': 0.6590011085266863, 'min_df': 0.0706342348026086, 'max_features': 718, 'stop_words': None, 'ngram_range': (1, 2), 'n_neighbors': 8, 'weights': 'distance'}. Best is trial 213 with value: 0.843057131319347.\n",
      "[I 2024-09-12 18:01:52,655] Trial 265 finished with value: 0.827542641770667 and parameters: {'max_df': 0.6048396971517841, 'min_df': 0.03831907842830759, 'max_features': 811, 'stop_words': None, 'ngram_range': (1, 3), 'n_neighbors': 8, 'weights': 'distance'}. Best is trial 213 with value: 0.843057131319347.\n",
      "[I 2024-09-12 18:01:57,000] Trial 266 finished with value: 0.8356094840682268 and parameters: {'max_df': 0.6946386205922583, 'min_df': 0.05150389139883547, 'max_features': 770, 'stop_words': None, 'ngram_range': (1, 2), 'n_neighbors': 8, 'weights': 'distance'}. Best is trial 213 with value: 0.843057131319347.\n",
      "[I 2024-09-12 18:02:01,075] Trial 267 finished with value: 0.8368517200930716 and parameters: {'max_df': 0.6674529213331807, 'min_df': 0.05967030805776613, 'max_features': 741, 'stop_words': None, 'ngram_range': (1, 2), 'n_neighbors': 9, 'weights': 'distance'}. Best is trial 213 with value: 0.843057131319347.\n",
      "[I 2024-09-12 18:02:05,179] Trial 268 finished with value: 0.8343691710093648 and parameters: {'max_df': 0.6548213867719959, 'min_df': 0.07266671049849917, 'max_features': 796, 'stop_words': None, 'ngram_range': (1, 2), 'n_neighbors': 8, 'weights': 'distance'}. Best is trial 213 with value: 0.843057131319347.\n",
      "[I 2024-09-12 18:02:09,106] Trial 269 finished with value: 0.823198661615676 and parameters: {'max_df': 0.6465352734223051, 'min_df': 0.042046630734681484, 'max_features': 718, 'stop_words': None, 'ngram_range': (1, 2), 'n_neighbors': 8, 'weights': 'uniform'}. Best is trial 213 with value: 0.843057131319347.\n",
      "[I 2024-09-12 18:02:12,840] Trial 270 finished with value: 0.8337538218948908 and parameters: {'max_df': 0.6835166151067349, 'min_df': 0.08220249390682231, 'max_features': 758, 'stop_words': None, 'ngram_range': (1, 2), 'n_neighbors': 8, 'weights': 'distance'}. Best is trial 213 with value: 0.843057131319347.\n",
      "[I 2024-09-12 18:02:13,921] Trial 271 finished with value: 0.8287887237274774 and parameters: {'max_df': 0.6716986119244271, 'min_df': 0.06487724912829175, 'max_features': 781, 'stop_words': 'english', 'ngram_range': (1, 1), 'n_neighbors': 7, 'weights': 'distance'}. Best is trial 213 with value: 0.843057131319347.\n",
      "[I 2024-09-12 18:02:17,819] Trial 272 finished with value: 0.8349902890217871 and parameters: {'max_df': 0.6225076016080404, 'min_df': 0.053427284066606726, 'max_features': 705, 'stop_words': None, 'ngram_range': (1, 2), 'n_neighbors': 8, 'weights': 'distance'}. Best is trial 213 with value: 0.843057131319347.\n",
      "[I 2024-09-12 18:02:19,450] Trial 273 finished with value: 0.79962694459935 and parameters: {'max_df': 0.6344803494098464, 'min_df': 0.28356669642705484, 'max_features': 831, 'stop_words': None, 'ngram_range': (1, 2), 'n_neighbors': 8, 'weights': 'distance'}. Best is trial 213 with value: 0.843057131319347.\n",
      "[I 2024-09-12 18:02:23,037] Trial 274 finished with value: 0.8393438840066919 and parameters: {'max_df': 0.659416455674734, 'min_df': 0.08088225810262772, 'max_features': 737, 'stop_words': None, 'ngram_range': (1, 2), 'n_neighbors': 8, 'weights': 'distance'}. Best is trial 213 with value: 0.843057131319347.\n",
      "[I 2024-09-12 18:02:26,595] Trial 275 finished with value: 0.8318827759936926 and parameters: {'max_df': 0.6619452655220267, 'min_df': 0.08145192011819578, 'max_features': 883, 'stop_words': None, 'ngram_range': (1, 2), 'n_neighbors': 9, 'weights': 'distance'}. Best is trial 213 with value: 0.843057131319347.\n",
      "[I 2024-09-12 18:02:30,551] Trial 276 finished with value: 0.8343691710093648 and parameters: {'max_df': 0.6778896192367788, 'min_df': 0.07228072973748345, 'max_features': 733, 'stop_words': None, 'ngram_range': (1, 2), 'n_neighbors': 8, 'weights': 'distance'}. Best is trial 213 with value: 0.843057131319347.\n",
      "[I 2024-09-12 18:02:34,164] Trial 277 finished with value: 0.833751898928908 and parameters: {'max_df': 0.694243033402227, 'min_df': 0.08258301111732545, 'max_features': 788, 'stop_words': None, 'ngram_range': (1, 2), 'n_neighbors': 8, 'weights': 'distance'}. Best is trial 213 with value: 0.843057131319347.\n",
      "[I 2024-09-12 18:02:38,105] Trial 278 finished with value: 0.8362306020806493 and parameters: {'max_df': 0.6693221061838497, 'min_df': 0.06788695590693132, 'max_features': 698, 'stop_words': None, 'ngram_range': (1, 2), 'n_neighbors': 8, 'weights': 'distance'}. Best is trial 213 with value: 0.843057131319347.\n",
      "[I 2024-09-12 18:02:41,323] Trial 279 finished with value: 0.8349960579197354 and parameters: {'max_df': 0.6511746140477194, 'min_df': 0.09334470577858253, 'max_features': 817, 'stop_words': None, 'ngram_range': (1, 2), 'n_neighbors': 8, 'weights': 'distance'}. Best is trial 213 with value: 0.843057131319347.\n",
      "[I 2024-09-12 18:02:45,187] Trial 280 finished with value: 0.8325077399380806 and parameters: {'max_df': 0.6848071797559717, 'min_df': 0.07377151041609645, 'max_features': 769, 'stop_words': None, 'ngram_range': (1, 2), 'n_neighbors': 8, 'weights': 'distance'}. Best is trial 213 with value: 0.843057131319347.\n",
      "[I 2024-09-12 18:02:48,718] Trial 281 finished with value: 0.8337557448608734 and parameters: {'max_df': 0.6593442632985896, 'min_df': 0.08370256809097623, 'max_features': 724, 'stop_words': None, 'ngram_range': (1, 2), 'n_neighbors': 8, 'weights': 'distance'}. Best is trial 213 with value: 0.843057131319347.\n",
      "[I 2024-09-12 18:02:56,597] Trial 282 finished with value: 0.8294098417398997 and parameters: {'max_df': 0.672425670589685, 'min_df': 0.06079634094214501, 'max_features': 798, 'stop_words': None, 'ngram_range': (1, 4), 'n_neighbors': 9, 'weights': 'distance'}. Best is trial 213 with value: 0.843057131319347.\n",
      "[I 2024-09-12 18:03:00,446] Trial 283 finished with value: 0.83188085302771 and parameters: {'max_df': 0.6926913160707602, 'min_df': 0.07546143140007455, 'max_features': 758, 'stop_words': None, 'ngram_range': (1, 2), 'n_neighbors': 7, 'weights': 'distance'}. Best is trial 213 with value: 0.843057131319347.\n",
      "[I 2024-09-12 18:03:03,721] Trial 284 finished with value: 0.8393342691767781 and parameters: {'max_df': 0.6491394032399165, 'min_df': 0.09148257013153827, 'max_features': 698, 'stop_words': None, 'ngram_range': (1, 2), 'n_neighbors': 8, 'weights': 'distance'}. Best is trial 213 with value: 0.843057131319347.\n",
      "[I 2024-09-12 18:03:06,699] Trial 285 finished with value: 0.8244620502663308 and parameters: {'max_df': 0.6524033974397128, 'min_df': 0.10467825366610574, 'max_features': 698, 'stop_words': None, 'ngram_range': (1, 2), 'n_neighbors': 8, 'weights': 'distance'}. Best is trial 213 with value: 0.843057131319347.\n",
      "[I 2024-09-12 18:03:10,054] Trial 286 finished with value: 0.8349806741918735 and parameters: {'max_df': 0.6798608124387042, 'min_df': 0.0906795939152855, 'max_features': 712, 'stop_words': None, 'ngram_range': (1, 2), 'n_neighbors': 9, 'weights': 'distance'}. Best is trial 213 with value: 0.843057131319347.\n",
      "[I 2024-09-12 18:03:13,157] Trial 287 finished with value: 0.8294175336038305 and parameters: {'max_df': 0.6618948222796288, 'min_df': 0.10025103257024173, 'max_features': 685, 'stop_words': None, 'ngram_range': (1, 2), 'n_neighbors': 8, 'weights': 'distance'}. Best is trial 213 with value: 0.843057131319347.\n",
      "[I 2024-09-12 18:03:17,087] Trial 288 finished with value: 0.8343634021114166 and parameters: {'max_df': 0.7872312421922875, 'min_df': 0.0823666154568635, 'max_features': 736, 'stop_words': None, 'ngram_range': (1, 2), 'n_neighbors': 8, 'weights': 'distance'}. Best is trial 213 with value: 0.843057131319347.\n",
      "[I 2024-09-12 18:03:22,444] Trial 289 finished with value: 0.8182354864142454 and parameters: {'max_df': 0.6707656676745216, 'min_df': 0.09202544534712362, 'max_features': 841, 'stop_words': None, 'ngram_range': (1, 3), 'n_neighbors': 10, 'weights': 'uniform'}. Best is trial 213 with value: 0.843057131319347.\n",
      "[I 2024-09-12 18:03:26,376] Trial 290 finished with value: 0.8405726592696576 and parameters: {'max_df': 0.6482999592203482, 'min_df': 0.06677487761837143, 'max_features': 684, 'stop_words': None, 'ngram_range': (1, 2), 'n_neighbors': 8, 'weights': 'distance'}. Best is trial 213 with value: 0.843057131319347.\n",
      "[I 2024-09-12 18:03:28,181] Trial 291 finished with value: 0.8312635809472532 and parameters: {'max_df': 0.64628555233361, 'min_df': 0.06554567006363074, 'max_features': 696, 'stop_words': 'english', 'ngram_range': (1, 2), 'n_neighbors': 8, 'weights': 'distance'}. Best is trial 213 with value: 0.843057131319347.\n",
      "[I 2024-09-12 18:03:32,159] Trial 292 finished with value: 0.8374747610714767 and parameters: {'max_df': 0.652328840080302, 'min_df': 0.07025110290444424, 'max_features': 719, 'stop_words': None, 'ngram_range': (1, 2), 'n_neighbors': 8, 'weights': 'distance'}. Best is trial 213 with value: 0.843057131319347.\n",
      "[I 2024-09-12 18:03:36,555] Trial 293 finished with value: 0.839959233121166 and parameters: {'max_df': 0.6284134924223524, 'min_df': 0.05748107276190001, 'max_features': 864, 'stop_words': None, 'ngram_range': (1, 2), 'n_neighbors': 8, 'weights': 'distance'}. Best is trial 213 with value: 0.843057131319347.\n",
      "[I 2024-09-12 18:03:40,879] Trial 294 finished with value: 0.8312693498452013 and parameters: {'max_df': 0.6164827852399402, 'min_df': 0.051604991076367394, 'max_features': 857, 'stop_words': None, 'ngram_range': (1, 2), 'n_neighbors': 7, 'weights': 'distance'}. Best is trial 213 with value: 0.843057131319347.\n",
      "[I 2024-09-12 18:03:44,982] Trial 295 finished with value: 0.8356171759321578 and parameters: {'max_df': 0.6225204805717949, 'min_df': 0.058179309578905956, 'max_features': 783, 'stop_words': None, 'ngram_range': (1, 2), 'n_neighbors': 8, 'weights': 'distance'}. Best is trial 213 with value: 0.843057131319347.\n",
      "[I 2024-09-12 18:03:49,006] Trial 296 finished with value: 0.8356152529661751 and parameters: {'max_df': 0.6320017757201728, 'min_df': 0.06242871690129717, 'max_features': 740, 'stop_words': None, 'ngram_range': (1, 2), 'n_neighbors': 9, 'weights': 'distance'}. Best is trial 213 with value: 0.843057131319347.\n",
      "[I 2024-09-12 18:03:50,330] Trial 297 finished with value: 0.8263023287118051 and parameters: {'max_df': 0.6418356038766314, 'min_df': 0.07527191881389747, 'max_features': 886, 'stop_words': None, 'ngram_range': (1, 1), 'n_neighbors': 8, 'weights': 'distance'}. Best is trial 213 with value: 0.843057131319347.\n",
      "[I 2024-09-12 18:03:54,528] Trial 298 finished with value: 0.8393323462107956 and parameters: {'max_df': 0.6447626778229956, 'min_df': 0.06583560432414763, 'max_features': 873, 'stop_words': None, 'ngram_range': (1, 2), 'n_neighbors': 8, 'weights': 'distance'}. Best is trial 213 with value: 0.843057131319347.\n",
      "[I 2024-09-12 18:03:59,116] Trial 299 finished with value: 0.8455358344710883 and parameters: {'max_df': 0.6330950172286227, 'min_df': 0.05659607207856389, 'max_features': 933, 'stop_words': None, 'ngram_range': (1, 2), 'n_neighbors': 8, 'weights': 'distance'}. Best is trial 299 with value: 0.8455358344710883.\n"
     ]
    },
    {
     "name": "stdout",
     "output_type": "stream",
     "text": [
      "Best trial: {'max_df': 0.6330950172286227, 'min_df': 0.05659607207856389, 'max_features': 933, 'stop_words': None, 'ngram_range': (1, 2), 'n_neighbors': 8, 'weights': 'distance'} Accuracy score: 0.8455358344710883\n"
     ]
    }
   ],
   "execution_count": 61
  },
  {
   "metadata": {},
   "cell_type": "markdown",
   "source": "Best trial: {'max_df': 0.7859256640614342, 'min_df': 0.04713111258556, 'max_features': 820, 'stop_words': None, 'ngram_range': (1, 2), 'n_neighbors': 10, 'weights': 'distance'} Accuracy score: 0.8393381151087438",
   "id": "449b0613669cb18d"
  },
  {
   "metadata": {},
   "cell_type": "markdown",
   "source": "",
   "id": "227c9ede270a452c"
  },
  {
   "metadata": {},
   "cell_type": "markdown",
   "source": "### Step 7 - Revectorise, Retrain and predict the test set",
   "id": "218800ec2e70f1be"
  },
  {
   "metadata": {
    "ExecuteTime": {
     "end_time": "2024-09-16T19:15:29.181942Z",
     "start_time": "2024-09-16T19:15:27.684430Z"
    }
   },
   "cell_type": "code",
   "source": [
    "vectorizer = TfidfVectorizer(max_df=0.7859256640614342, min_df=0.04713111258556, ngram_range=(1,2), max_features=820, stop_words=None)\n",
    "\n",
    "# Fit and transform the training data\n",
    "X_train_tfidf2 = vectorizer.fit_transform(X_train)\n",
    "\n",
    "# Transform the test data (use only transform, no fit)\n",
    "X_test_tfidf2 = vectorizer.transform(X_test)\n",
    "\n",
    "# Retrain KNN\n",
    "knn = KNeighborsClassifier(n_neighbors=10, weights = 'distance')  \n",
    "knn.fit(X_train_tfidf2, y_train)\n",
    "\n",
    "y_pred2 = knn.predict(X_test_tfidf2)\n",
    "\n",
    "accuracy2 = accuracy_score(y_test, y_pred2)\n",
    "print(f\"Accuracy: {accuracy2:.2f}\")\n"
   ],
   "id": "9676ca9823914f00",
   "outputs": [
    {
     "name": "stdout",
     "output_type": "stream",
     "text": [
      "Accuracy: 0.83\n"
     ]
    }
   ],
   "execution_count": 65
  },
  {
   "metadata": {},
   "cell_type": "markdown",
   "source": "",
   "id": "5bcea571a6a30d0b"
  },
  {
   "metadata": {},
   "cell_type": "markdown",
   "source": "",
   "id": "fe66d7e0818a928f"
  }
 ],
 "metadata": {
  "kernelspec": {
   "display_name": "Python 3",
   "language": "python",
   "name": "python3"
  },
  "language_info": {
   "codemirror_mode": {
    "name": "ipython",
    "version": 2
   },
   "file_extension": ".py",
   "mimetype": "text/x-python",
   "name": "python",
   "nbconvert_exporter": "python",
   "pygments_lexer": "ipython2",
   "version": "2.7.6"
  }
 },
 "nbformat": 4,
 "nbformat_minor": 5
}
