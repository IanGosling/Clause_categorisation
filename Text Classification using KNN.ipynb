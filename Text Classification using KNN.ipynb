{
 "cells": [
  {
   "cell_type": "code",
   "id": "initial_id",
   "metadata": {
    "collapsed": true,
    "ExecuteTime": {
     "end_time": "2024-09-18T14:30:59.064916Z",
     "start_time": "2024-09-18T14:30:59.029283Z"
    }
   },
   "source": [
    "import pandas as pd\n",
    "import optuna\n",
    "from sklearn.feature_extraction.text import TfidfVectorizer\n",
    "from sklearn.neighbors import KNeighborsClassifier\n",
    "from sklearn.metrics import accuracy_score\n",
    "from sklearn.pipeline import Pipeline\n",
    "import warnings\n",
    "from sklearn.model_selection import cross_val_score"
   ],
   "outputs": [],
   "execution_count": 66
  },
  {
   "metadata": {},
   "cell_type": "markdown",
   "source": "### Step 1 - Import Train and Test Data",
   "id": "5fb7f965235c6b77"
  },
  {
   "metadata": {
    "ExecuteTime": {
     "end_time": "2024-09-18T14:31:01.223448Z",
     "start_time": "2024-09-18T14:31:01.163914Z"
    }
   },
   "cell_type": "code",
   "source": [
    "# Load training set from CSV\n",
    "train_data = pd.read_csv(\"train_data.csv\")\n",
    "\n",
    "# Load test set from CSV\n",
    "test_data = pd.read_csv(\"test_data.csv\")"
   ],
   "id": "45db2ac6b8a1542d",
   "outputs": [],
   "execution_count": 67
  },
  {
   "metadata": {},
   "cell_type": "markdown",
   "source": "### Step 2 - Create data from training and testing \n",
   "id": "67a63abad324ebf2"
  },
  {
   "metadata": {
    "ExecuteTime": {
     "end_time": "2024-09-18T14:31:03.053544Z",
     "start_time": "2024-09-18T14:31:03.047445Z"
    }
   },
   "cell_type": "code",
   "source": [
    "X_train = train_data[\"preprocessed_text\"]\n",
    "y_train = train_data[\"clause_type\"]\n",
    "X_test = test_data[\"preprocessed_text\"]\n",
    "y_test = test_data[\"clause_type\"]"
   ],
   "id": "e54fc135bd61e096",
   "outputs": [],
   "execution_count": 68
  },
  {
   "metadata": {},
   "cell_type": "markdown",
   "source": "### Step 3 - Apply Tfidf Vectorization",
   "id": "24328b8fb9e3d91f"
  },
  {
   "metadata": {
    "ExecuteTime": {
     "end_time": "2024-09-18T14:31:05.437588Z",
     "start_time": "2024-09-18T14:31:05.318039Z"
    }
   },
   "cell_type": "code",
   "source": [
    "vectorizer = TfidfVectorizer()\n",
    "\n",
    "# Fit and transform the training data\n",
    "X_train_tfidf = vectorizer.fit_transform(X_train)\n",
    "\n",
    "# Transform the test data (use only transform, no fit)\n",
    "X_test_tfidf = vectorizer.transform(X_test)"
   ],
   "id": "13d86d386a05064d",
   "outputs": [],
   "execution_count": 69
  },
  {
   "metadata": {},
   "cell_type": "markdown",
   "source": "### Step 4 - Train the KNN Classifier",
   "id": "7b53e04c0b187295"
  },
  {
   "metadata": {
    "ExecuteTime": {
     "end_time": "2024-09-18T14:31:10.122913Z",
     "start_time": "2024-09-18T14:31:10.110544Z"
    }
   },
   "cell_type": "code",
   "source": [
    "knn = KNeighborsClassifier(n_neighbors=3)  # Use 3 nearest neighbors\n",
    "knn.fit(X_train_tfidf, y_train)"
   ],
   "id": "4afeb9edd016900f",
   "outputs": [
    {
     "data": {
      "text/plain": [
       "KNeighborsClassifier(n_neighbors=3)"
      ],
      "text/html": [
       "<style>#sk-container-id-17 {color: black;}#sk-container-id-17 pre{padding: 0;}#sk-container-id-17 div.sk-toggleable {background-color: white;}#sk-container-id-17 label.sk-toggleable__label {cursor: pointer;display: block;width: 100%;margin-bottom: 0;padding: 0.3em;box-sizing: border-box;text-align: center;}#sk-container-id-17 label.sk-toggleable__label-arrow:before {content: \"▸\";float: left;margin-right: 0.25em;color: #696969;}#sk-container-id-17 label.sk-toggleable__label-arrow:hover:before {color: black;}#sk-container-id-17 div.sk-estimator:hover label.sk-toggleable__label-arrow:before {color: black;}#sk-container-id-17 div.sk-toggleable__content {max-height: 0;max-width: 0;overflow: hidden;text-align: left;background-color: #f0f8ff;}#sk-container-id-17 div.sk-toggleable__content pre {margin: 0.2em;color: black;border-radius: 0.25em;background-color: #f0f8ff;}#sk-container-id-17 input.sk-toggleable__control:checked~div.sk-toggleable__content {max-height: 200px;max-width: 100%;overflow: auto;}#sk-container-id-17 input.sk-toggleable__control:checked~label.sk-toggleable__label-arrow:before {content: \"▾\";}#sk-container-id-17 div.sk-estimator input.sk-toggleable__control:checked~label.sk-toggleable__label {background-color: #d4ebff;}#sk-container-id-17 div.sk-label input.sk-toggleable__control:checked~label.sk-toggleable__label {background-color: #d4ebff;}#sk-container-id-17 input.sk-hidden--visually {border: 0;clip: rect(1px 1px 1px 1px);clip: rect(1px, 1px, 1px, 1px);height: 1px;margin: -1px;overflow: hidden;padding: 0;position: absolute;width: 1px;}#sk-container-id-17 div.sk-estimator {font-family: monospace;background-color: #f0f8ff;border: 1px dotted black;border-radius: 0.25em;box-sizing: border-box;margin-bottom: 0.5em;}#sk-container-id-17 div.sk-estimator:hover {background-color: #d4ebff;}#sk-container-id-17 div.sk-parallel-item::after {content: \"\";width: 100%;border-bottom: 1px solid gray;flex-grow: 1;}#sk-container-id-17 div.sk-label:hover label.sk-toggleable__label {background-color: #d4ebff;}#sk-container-id-17 div.sk-serial::before {content: \"\";position: absolute;border-left: 1px solid gray;box-sizing: border-box;top: 0;bottom: 0;left: 50%;z-index: 0;}#sk-container-id-17 div.sk-serial {display: flex;flex-direction: column;align-items: center;background-color: white;padding-right: 0.2em;padding-left: 0.2em;position: relative;}#sk-container-id-17 div.sk-item {position: relative;z-index: 1;}#sk-container-id-17 div.sk-parallel {display: flex;align-items: stretch;justify-content: center;background-color: white;position: relative;}#sk-container-id-17 div.sk-item::before, #sk-container-id-17 div.sk-parallel-item::before {content: \"\";position: absolute;border-left: 1px solid gray;box-sizing: border-box;top: 0;bottom: 0;left: 50%;z-index: -1;}#sk-container-id-17 div.sk-parallel-item {display: flex;flex-direction: column;z-index: 1;position: relative;background-color: white;}#sk-container-id-17 div.sk-parallel-item:first-child::after {align-self: flex-end;width: 50%;}#sk-container-id-17 div.sk-parallel-item:last-child::after {align-self: flex-start;width: 50%;}#sk-container-id-17 div.sk-parallel-item:only-child::after {width: 0;}#sk-container-id-17 div.sk-dashed-wrapped {border: 1px dashed gray;margin: 0 0.4em 0.5em 0.4em;box-sizing: border-box;padding-bottom: 0.4em;background-color: white;}#sk-container-id-17 div.sk-label label {font-family: monospace;font-weight: bold;display: inline-block;line-height: 1.2em;}#sk-container-id-17 div.sk-label-container {text-align: center;}#sk-container-id-17 div.sk-container {/* jupyter's `normalize.less` sets `[hidden] { display: none; }` but bootstrap.min.css set `[hidden] { display: none !important; }` so we also need the `!important` here to be able to override the default hidden behavior on the sphinx rendered scikit-learn.org. See: https://github.com/scikit-learn/scikit-learn/issues/21755 */display: inline-block !important;position: relative;}#sk-container-id-17 div.sk-text-repr-fallback {display: none;}</style><div id=\"sk-container-id-17\" class=\"sk-top-container\"><div class=\"sk-text-repr-fallback\"><pre>KNeighborsClassifier(n_neighbors=3)</pre><b>In a Jupyter environment, please rerun this cell to show the HTML representation or trust the notebook. <br />On GitHub, the HTML representation is unable to render, please try loading this page with nbviewer.org.</b></div><div class=\"sk-container\" hidden><div class=\"sk-item\"><div class=\"sk-estimator sk-toggleable\"><input class=\"sk-toggleable__control sk-hidden--visually\" id=\"sk-estimator-id-17\" type=\"checkbox\" checked><label for=\"sk-estimator-id-17\" class=\"sk-toggleable__label sk-toggleable__label-arrow\">KNeighborsClassifier</label><div class=\"sk-toggleable__content\"><pre>KNeighborsClassifier(n_neighbors=3)</pre></div></div></div></div></div>"
      ]
     },
     "execution_count": 70,
     "metadata": {},
     "output_type": "execute_result"
    }
   ],
   "execution_count": 70
  },
  {
   "metadata": {},
   "cell_type": "markdown",
   "source": "### Step 5 - Make the predictions and calculate the accuracy",
   "id": "72267835bd237046"
  },
  {
   "metadata": {
    "ExecuteTime": {
     "end_time": "2024-09-18T14:31:26.731498Z",
     "start_time": "2024-09-18T14:31:26.364633Z"
    }
   },
   "cell_type": "code",
   "source": [
    "y_pred = knn.predict(X_test_tfidf)\n",
    "\n",
    "accuracy = accuracy_score(y_test, y_pred)\n",
    "print(f\"Accuracy: {accuracy:.2f}\")"
   ],
   "id": "1fe801f1009ef52e",
   "outputs": [
    {
     "name": "stdout",
     "output_type": "stream",
     "text": [
      "Accuracy: 0.80\n"
     ]
    }
   ],
   "execution_count": 72
  },
  {
   "metadata": {},
   "cell_type": "markdown",
   "source": "### Step 6 - Hyperparameter Optimisation",
   "id": "b9002212affb6410"
  },
  {
   "metadata": {
    "ExecuteTime": {
     "end_time": "2024-09-18T14:38:59.883532Z",
     "start_time": "2024-09-18T14:31:33.346823Z"
    }
   },
   "cell_type": "code",
   "source": [
    "def objective(trial):\n",
    "    ## getting repetitive warnings on running the code so switched these off\n",
    "    with warnings.catch_warnings():\n",
    "        warnings.filterwarnings('ignore')\n",
    "    \n",
    "        # Define hyperparameters to tune\n",
    "        max_df = trial.suggest_float('max_df', 0.5, 1.0)\n",
    "        min_df = trial.suggest_float('min_df', 0.0, 0.49)\n",
    "        max_features = trial.suggest_int('max_features', 10, 1000)\n",
    "        stop_words = trial.suggest_categorical('stop_words', ['english', None])\n",
    "        ngram_range = trial.suggest_categorical('ngram_range', [(1, 1), (1, 2), (1, 3), (1, 4)])\n",
    "        n_neighbors = trial.suggest_int('n_neighbors', 1, 10)\n",
    "        weights = trial.suggest_categorical('weights', ['uniform', 'distance'])\n",
    "\n",
    "        # Create pipeline\n",
    "        pipeline = Pipeline([\n",
    "            ('tfidf', TfidfVectorizer(max_df=max_df, min_df=min_df, ngram_range=ngram_range, max_features=max_features, stop_words=stop_words)),\n",
    "            ('knn', KNeighborsClassifier(n_neighbors=n_neighbors, weights=weights)),\n",
    "        ])\n",
    "        \n",
    "        cv_scores = cross_val_score(pipeline, X_train, y_train, cv=5, scoring='accuracy')\n",
    "        score = cv_scores.mean()  # use mean accuracy as the score\n",
    "    return score\n",
    "\n",
    "# Create a study to optimize the objective function\n",
    "study = optuna.create_study(direction='maximize')\n",
    "study.optimize(objective, n_trials=300)\n",
    "\n",
    "print(\"Best trial:\", study.best_trial.params,\"Accuracy score:\", study.best_trial.value)"
   ],
   "id": "68c1a9e6ea7d2edc",
   "outputs": [
    {
     "name": "stderr",
     "output_type": "stream",
     "text": [
      "[I 2024-09-18 15:31:33,419] A new study created in memory with name: no-name-b5e0949d-1b64-4bad-9577-d5025b34d109\n",
      "[I 2024-09-18 15:31:36,072] Trial 0 finished with value: 0.8182470242101418 and parameters: {'max_df': 0.5483766664839926, 'min_df': 0.042609933966360314, 'max_features': 456, 'stop_words': None, 'ngram_range': (1, 3), 'n_neighbors': 8, 'weights': 'uniform'}. Best is trial 0 with value: 0.8182470242101418.\n",
      "[I 2024-09-18 15:31:36,990] Trial 1 finished with value: 0.8176143684018229 and parameters: {'max_df': 0.6553632848273134, 'min_df': 0.13731473183122034, 'max_features': 56, 'stop_words': None, 'ngram_range': (1, 2), 'n_neighbors': 6, 'weights': 'distance'}. Best is trial 0 with value: 0.8182470242101418.\n",
      "[I 2024-09-18 15:31:39,629] Trial 2 finished with value: 0.8244370517085553 and parameters: {'max_df': 0.5154964992968765, 'min_df': 0.049101657251867124, 'max_features': 491, 'stop_words': 'english', 'ngram_range': (1, 3), 'n_neighbors': 5, 'weights': 'distance'}. Best is trial 2 with value: 0.8244370517085553.\n",
      "[I 2024-09-18 15:31:41,369] Trial 3 finished with value: 0.7996327134972983 and parameters: {'max_df': 0.8882140554531643, 'min_df': 0.20269720066619543, 'max_features': 152, 'stop_words': None, 'ngram_range': (1, 3), 'n_neighbors': 9, 'weights': 'distance'}. Best is trial 2 with value: 0.8244370517085553.\n",
      "[I 2024-09-18 15:31:43,504] Trial 4 finished with value: 0.8219602715227967 and parameters: {'max_df': 0.7433997207343732, 'min_df': 0.1065337946960713, 'max_features': 571, 'stop_words': 'english', 'ngram_range': (1, 3), 'n_neighbors': 4, 'weights': 'uniform'}. Best is trial 2 with value: 0.8244370517085553.\n",
      "[I 2024-09-18 15:31:45,285] Trial 5 finished with value: 0.8120319981539526 and parameters: {'max_df': 0.7588416482359801, 'min_df': 0.19930381082972498, 'max_features': 956, 'stop_words': 'english', 'ngram_range': (1, 3), 'n_neighbors': 8, 'weights': 'distance'}. Best is trial 2 with value: 0.8244370517085553.\n",
      "[I 2024-09-18 15:31:46,259] Trial 6 finished with value: 0.8052208526431167 and parameters: {'max_df': 0.7803782015978667, 'min_df': 0.2080852845391184, 'max_features': 398, 'stop_words': 'english', 'ngram_range': (1, 2), 'n_neighbors': 10, 'weights': 'distance'}. Best is trial 2 with value: 0.8244370517085553.\n",
      "[I 2024-09-18 15:31:48,846] Trial 7 finished with value: 0.4925888891025517 and parameters: {'max_df': 0.7944279990909184, 'min_df': 0.48727163432016257, 'max_features': 774, 'stop_words': None, 'ngram_range': (1, 4), 'n_neighbors': 1, 'weights': 'distance'}. Best is trial 2 with value: 0.8244370517085553.\n",
      "[I 2024-09-18 15:31:49,579] Trial 8 finished with value: 0.8188508355287194 and parameters: {'max_df': 0.8679071415317092, 'min_df': 0.11852167627823922, 'max_features': 973, 'stop_words': 'english', 'ngram_range': (1, 1), 'n_neighbors': 8, 'weights': 'uniform'}. Best is trial 2 with value: 0.8244370517085553.\n",
      "[I 2024-09-18 15:31:50,143] Trial 9 finished with value: 0.8015018364325135 and parameters: {'max_df': 0.9251325489725473, 'min_df': 0.1906108053277415, 'max_features': 303, 'stop_words': 'english', 'ngram_range': (1, 1), 'n_neighbors': 9, 'weights': 'distance'}. Best is trial 2 with value: 0.8244370517085553.\n",
      "[I 2024-09-18 15:31:52,779] Trial 10 finished with value: 0.6786531546256946 and parameters: {'max_df': 0.5024459326602319, 'min_df': 0.3625665760249519, 'max_features': 649, 'stop_words': 'english', 'ngram_range': (1, 4), 'n_neighbors': 4, 'weights': 'uniform'}. Best is trial 2 with value: 0.8244370517085553.\n",
      "[I 2024-09-18 15:31:55,629] Trial 11 finished with value: 0.8176105224698574 and parameters: {'max_df': 0.6826548055770781, 'min_df': 0.0008950441233107481, 'max_features': 641, 'stop_words': 'english', 'ngram_range': (1, 3), 'n_neighbors': 4, 'weights': 'uniform'}. Best is trial 2 with value: 0.8244370517085553.\n",
      "[I 2024-09-18 15:31:58,199] Trial 12 finished with value: 0.8151337422840989 and parameters: {'max_df': 0.6231046031340484, 'min_df': 0.06074805318158318, 'max_features': 583, 'stop_words': 'english', 'ngram_range': (1, 3), 'n_neighbors': 3, 'weights': 'uniform'}. Best is trial 2 with value: 0.8244370517085553.\n",
      "[I 2024-09-18 15:31:59,838] Trial 13 finished with value: 0.7692460050381709 and parameters: {'max_df': 0.5908985895725754, 'min_df': 0.3086320243684385, 'max_features': 265, 'stop_words': 'english', 'ngram_range': (1, 3), 'n_neighbors': 6, 'weights': 'uniform'}. Best is trial 2 with value: 0.8244370517085553.\n",
      "[I 2024-09-18 15:32:01,867] Trial 14 finished with value: 0.8132492356210218 and parameters: {'max_df': 0.693594499212314, 'min_df': 0.10868762961553508, 'max_features': 825, 'stop_words': 'english', 'ngram_range': (1, 3), 'n_neighbors': 2, 'weights': 'distance'}. Best is trial 2 with value: 0.8244370517085553.\n",
      "[I 2024-09-18 15:32:04,368] Trial 15 finished with value: 0.8169932503894006 and parameters: {'max_df': 0.9907071916300205, 'min_df': 0.009290089659057116, 'max_features': 470, 'stop_words': 'english', 'ngram_range': (1, 3), 'n_neighbors': 5, 'weights': 'uniform'}. Best is trial 2 with value: 0.8244370517085553.\n",
      "[I 2024-09-18 15:32:04,836] Trial 16 finished with value: 0.7648847181893352 and parameters: {'max_df': 0.5011442535020608, 'min_df': 0.288286753353165, 'max_features': 745, 'stop_words': 'english', 'ngram_range': (1, 1), 'n_neighbors': 5, 'weights': 'distance'}. Best is trial 2 with value: 0.8244370517085553.\n",
      "[I 2024-09-18 15:32:08,173] Trial 17 finished with value: 0.7996307905313156 and parameters: {'max_df': 0.8241040357485545, 'min_df': 0.07549216160331404, 'max_features': 347, 'stop_words': 'english', 'ngram_range': (1, 4), 'n_neighbors': 3, 'weights': 'uniform'}. Best is trial 2 with value: 0.8244370517085553.\n",
      "[I 2024-09-18 15:32:09,289] Trial 18 finished with value: 0.822596773263081 and parameters: {'max_df': 0.7250767551804389, 'min_df': 0.15125401348448939, 'max_features': 514, 'stop_words': None, 'ngram_range': (1, 2), 'n_neighbors': 6, 'weights': 'uniform'}. Best is trial 2 with value: 0.8244370517085553.\n",
      "[I 2024-09-18 15:32:10,354] Trial 19 finished with value: 0.8250716304828568 and parameters: {'max_df': 0.5973118187663717, 'min_df': 0.14559869577942608, 'max_features': 214, 'stop_words': None, 'ngram_range': (1, 2), 'n_neighbors': 7, 'weights': 'distance'}. Best is trial 19 with value: 0.8250716304828568.\n",
      "[I 2024-09-18 15:32:11,226] Trial 20 finished with value: 0.7897082860604197 and parameters: {'max_df': 0.5709110805708267, 'min_df': 0.2663852521135533, 'max_features': 183, 'stop_words': None, 'ngram_range': (1, 2), 'n_neighbors': 7, 'weights': 'distance'}. Best is trial 19 with value: 0.8250716304828568.\n",
      "[I 2024-09-18 15:32:12,067] Trial 21 finished with value: 0.775432186604619 and parameters: {'max_df': 0.6229441422473967, 'min_df': 0.18391380197876442, 'max_features': 27, 'stop_words': None, 'ngram_range': (1, 2), 'n_neighbors': 7, 'weights': 'distance'}. Best is trial 19 with value: 0.8250716304828568.\n",
      "[I 2024-09-18 15:32:13,095] Trial 22 finished with value: 0.8176239832317368 and parameters: {'max_df': 0.540762844683509, 'min_df': 0.1550566397545534, 'max_features': 214, 'stop_words': None, 'ngram_range': (1, 2), 'n_neighbors': 7, 'weights': 'distance'}. Best is trial 19 with value: 0.8250716304828568.\n",
      "[I 2024-09-18 15:32:14,530] Trial 23 finished with value: 0.8411899313501143 and parameters: {'max_df': 0.7211630562914243, 'min_df': 0.07850171358409354, 'max_features': 414, 'stop_words': None, 'ngram_range': (1, 2), 'n_neighbors': 6, 'weights': 'distance'}. Best is trial 23 with value: 0.8411899313501143.\n",
      "[I 2024-09-18 15:32:16,086] Trial 24 finished with value: 0.8318827759936926 and parameters: {'max_df': 0.6142071949820644, 'min_df': 0.06343618998480798, 'max_features': 400, 'stop_words': None, 'ngram_range': (1, 2), 'n_neighbors': 5, 'weights': 'distance'}. Best is trial 23 with value: 0.8411899313501143.\n",
      "[I 2024-09-18 15:32:17,502] Trial 25 finished with value: 0.8356133300001923 and parameters: {'max_df': 0.6179465508033664, 'min_df': 0.07845695173898294, 'max_features': 360, 'stop_words': None, 'ngram_range': (1, 2), 'n_neighbors': 7, 'weights': 'distance'}. Best is trial 23 with value: 0.8411899313501143.\n",
      "[I 2024-09-18 15:32:18,847] Trial 26 finished with value: 0.8418072034305712 and parameters: {'max_df': 0.6578580211060802, 'min_df': 0.08923166838710497, 'max_features': 384, 'stop_words': None, 'ngram_range': (1, 2), 'n_neighbors': 6, 'weights': 'distance'}. Best is trial 26 with value: 0.8418072034305712.\n",
      "[I 2024-09-18 15:32:20,246] Trial 27 finished with value: 0.8418033574986058 and parameters: {'max_df': 0.6640720623103343, 'min_df': 0.08097760007430316, 'max_features': 359, 'stop_words': None, 'ngram_range': (1, 2), 'n_neighbors': 6, 'weights': 'distance'}. Best is trial 26 with value: 0.8418072034305712.\n",
      "[I 2024-09-18 15:32:21,626] Trial 28 finished with value: 0.8213391535103745 and parameters: {'max_df': 0.7027846150052389, 'min_df': 0.024928369886395983, 'max_features': 290, 'stop_words': None, 'ngram_range': (1, 2), 'n_neighbors': 6, 'weights': 'distance'}. Best is trial 26 with value: 0.8418072034305712.\n",
      "[I 2024-09-18 15:32:22,442] Trial 29 finished with value: 0.6078937753591138 and parameters: {'max_df': 0.6606196676170983, 'min_df': 0.41134312484322805, 'max_features': 436, 'stop_words': None, 'ngram_range': (1, 2), 'n_neighbors': 9, 'weights': 'distance'}. Best is trial 26 with value: 0.8418072034305712.\n",
      "[I 2024-09-18 15:32:23,339] Trial 30 finished with value: 0.8052227756090995 and parameters: {'max_df': 0.6511919143105623, 'min_df': 0.24272000431929575, 'max_features': 119, 'stop_words': None, 'ngram_range': (1, 2), 'n_neighbors': 8, 'weights': 'distance'}. Best is trial 26 with value: 0.8418072034305712.\n",
      "[I 2024-09-18 15:32:24,698] Trial 31 finished with value: 0.8393304232448127 and parameters: {'max_df': 0.7119961928752243, 'min_df': 0.08970590566671854, 'max_features': 357, 'stop_words': None, 'ngram_range': (1, 2), 'n_neighbors': 7, 'weights': 'distance'}. Best is trial 26 with value: 0.8418072034305712.\n",
      "[I 2024-09-18 15:32:26,028] Trial 32 finished with value: 0.8374613003095975 and parameters: {'max_df': 0.7204915433320566, 'min_df': 0.09508394264079695, 'max_features': 317, 'stop_words': None, 'ngram_range': (1, 2), 'n_neighbors': 6, 'weights': 'distance'}. Best is trial 26 with value: 0.8418072034305712.\n",
      "[I 2024-09-18 15:32:27,773] Trial 33 finished with value: 0.8250620156529431 and parameters: {'max_df': 0.6516269394755921, 'min_df': 0.033862668986399176, 'max_features': 526, 'stop_words': None, 'ngram_range': (1, 2), 'n_neighbors': 5, 'weights': 'distance'}. Best is trial 26 with value: 0.8418072034305712.\n",
      "[I 2024-09-18 15:32:29,377] Trial 34 finished with value: 0.8318789300617272 and parameters: {'max_df': 0.6770379197432222, 'min_df': 0.040847729085492925, 'max_features': 426, 'stop_words': None, 'ngram_range': (1, 2), 'n_neighbors': 6, 'weights': 'distance'}. Best is trial 26 with value: 0.8418072034305712.\n",
      "[I 2024-09-18 15:32:30,584] Trial 35 finished with value: 0.8250524008230296 and parameters: {'max_df': 0.7578009297758392, 'min_df': 0.11857515006451025, 'max_features': 259, 'stop_words': None, 'ngram_range': (1, 2), 'n_neighbors': 7, 'weights': 'distance'}. Best is trial 26 with value: 0.8418072034305712.\n",
      "[I 2024-09-18 15:32:31,683] Trial 36 finished with value: 0.8343634021114166 and parameters: {'max_df': 0.814299841479427, 'min_df': 0.08821579010412724, 'max_features': 116, 'stop_words': None, 'ngram_range': (1, 2), 'n_neighbors': 6, 'weights': 'distance'}. Best is trial 26 with value: 0.8418072034305712.\n",
      "[I 2024-09-18 15:32:32,689] Trial 37 finished with value: 0.816381747206892 and parameters: {'max_df': 0.7382770944980862, 'min_df': 0.16961409520776272, 'max_features': 366, 'stop_words': None, 'ngram_range': (1, 2), 'n_neighbors': 8, 'weights': 'distance'}. Best is trial 26 with value: 0.8418072034305712.\n",
      "[I 2024-09-18 15:32:35,339] Trial 38 finished with value: 0.8089321769897891 and parameters: {'max_df': 0.7112995903394819, 'min_df': 0.227335020636117, 'max_features': 475, 'stop_words': None, 'ngram_range': (1, 4), 'n_neighbors': 4, 'weights': 'distance'}. Best is trial 26 with value: 0.8418072034305712.\n",
      "[I 2024-09-18 15:32:35,974] Trial 39 finished with value: 0.8188373747668404 and parameters: {'max_df': 0.7753890038884846, 'min_df': 0.13256591856710084, 'max_features': 564, 'stop_words': None, 'ngram_range': (1, 1), 'n_neighbors': 8, 'weights': 'distance'}. Best is trial 26 with value: 0.8418072034305712.\n",
      "[I 2024-09-18 15:32:37,514] Trial 40 finished with value: 0.8312847335730631 and parameters: {'max_df': 0.6665227872847602, 'min_df': 0.05109947144377375, 'max_features': 396, 'stop_words': None, 'ngram_range': (1, 2), 'n_neighbors': 10, 'weights': 'distance'}. Best is trial 26 with value: 0.8418072034305712.\n",
      "[I 2024-09-18 15:32:38,853] Trial 41 finished with value: 0.8374613003095975 and parameters: {'max_df': 0.7235628780686797, 'min_df': 0.09499569606176562, 'max_features': 330, 'stop_words': None, 'ngram_range': (1, 2), 'n_neighbors': 6, 'weights': 'distance'}. Best is trial 26 with value: 0.8418072034305712.\n",
      "[I 2024-09-18 15:32:40,238] Trial 42 finished with value: 0.8318846989596753 and parameters: {'max_df': 0.751411734037238, 'min_df': 0.10035154587172006, 'max_features': 300, 'stop_words': None, 'ngram_range': (1, 2), 'n_neighbors': 6, 'weights': 'distance'}. Best is trial 26 with value: 0.8418072034305712.\n",
      "[I 2024-09-18 15:32:41,365] Trial 43 finished with value: 0.8207161125319692 and parameters: {'max_df': 0.639074780826552, 'min_df': 0.13149940026529036, 'max_features': 224, 'stop_words': None, 'ngram_range': (1, 2), 'n_neighbors': 5, 'weights': 'distance'}. Best is trial 26 with value: 0.8418072034305712.\n",
      "[I 2024-09-18 15:32:42,820] Trial 44 finished with value: 0.834374939907313 and parameters: {'max_df': 0.7041193028128966, 'min_df': 0.07263673489439361, 'max_features': 327, 'stop_words': None, 'ngram_range': (1, 2), 'n_neighbors': 7, 'weights': 'distance'}. Best is trial 26 with value: 0.8418072034305712.\n",
      "[I 2024-09-18 15:32:43,819] Trial 45 finished with value: 0.8349902890217873 and parameters: {'max_df': 0.8001116957201037, 'min_df': 0.020962218936505753, 'max_features': 429, 'stop_words': None, 'ngram_range': (1, 1), 'n_neighbors': 6, 'weights': 'distance'}. Best is trial 26 with value: 0.8418072034305712.\n",
      "[I 2024-09-18 15:32:47,067] Trial 46 finished with value: 0.829407918773917 and parameters: {'max_df': 0.7284109138023508, 'min_df': 0.05472246015811567, 'max_features': 393, 'stop_words': None, 'ngram_range': (1, 4), 'n_neighbors': 5, 'weights': 'distance'}. Best is trial 26 with value: 0.8418072034305712.\n",
      "[I 2024-09-18 15:32:48,065] Trial 47 finished with value: 0.8194777224390901 and parameters: {'max_df': 0.8564576689299057, 'min_df': 0.1731981485311036, 'max_features': 272, 'stop_words': None, 'ngram_range': (1, 2), 'n_neighbors': 7, 'weights': 'distance'}. Best is trial 26 with value: 0.8418072034305712.\n",
      "[I 2024-09-18 15:32:50,574] Trial 48 finished with value: 0.8200776878257023 and parameters: {'max_df': 0.6848950753230431, 'min_df': 0.12051972917327654, 'max_features': 624, 'stop_words': None, 'ngram_range': (1, 2), 'n_neighbors': 4, 'weights': 'distance'}. Best is trial 26 with value: 0.8418072034305712.\n",
      "[I 2024-09-18 15:32:51,742] Trial 49 finished with value: 0.8120377670519009 and parameters: {'max_df': 0.7707710638985378, 'min_df': 0.2107739703359583, 'max_features': 152, 'stop_words': None, 'ngram_range': (1, 2), 'n_neighbors': 5, 'weights': 'distance'}. Best is trial 26 with value: 0.8418072034305712.\n",
      "[I 2024-09-18 15:32:52,493] Trial 50 finished with value: 0.8325096629040631 and parameters: {'max_df': 0.5725937839372903, 'min_df': 0.09573587653630862, 'max_features': 502, 'stop_words': None, 'ngram_range': (1, 1), 'n_neighbors': 9, 'weights': 'uniform'}. Best is trial 26 with value: 0.8418072034305712.\n",
      "[I 2024-09-18 15:32:53,865] Trial 51 finished with value: 0.8374613003095975 and parameters: {'max_df': 0.7208807850709543, 'min_df': 0.09489729545625408, 'max_features': 325, 'stop_words': None, 'ngram_range': (1, 2), 'n_neighbors': 6, 'weights': 'distance'}. Best is trial 26 with value: 0.8418072034305712.\n",
      "[I 2024-09-18 15:32:55,121] Trial 52 finished with value: 0.8250562467549949 and parameters: {'max_df': 0.6953666563296992, 'min_df': 0.11292211049980999, 'max_features': 456, 'stop_words': None, 'ngram_range': (1, 2), 'n_neighbors': 6, 'weights': 'distance'}. Best is trial 26 with value: 0.8418072034305712.\n",
      "[I 2024-09-18 15:32:56,709] Trial 53 finished with value: 0.8287810318635463 and parameters: {'max_df': 0.73702989298714, 'min_df': 0.000978408018828314, 'max_features': 368, 'stop_words': None, 'ngram_range': (1, 2), 'n_neighbors': 6, 'weights': 'distance'}. Best is trial 26 with value: 0.8418072034305712.\n",
      "[I 2024-09-18 15:32:58,268] Trial 54 finished with value: 0.8411880083841317 and parameters: {'max_df': 0.6769545263011796, 'min_df': 0.08098181670901225, 'max_features': 335, 'stop_words': None, 'ngram_range': (1, 2), 'n_neighbors': 7, 'weights': 'distance'}. Best is trial 26 with value: 0.8418072034305712.\n",
      "[I 2024-09-18 15:33:01,562] Trial 55 finished with value: 0.8294059958079343 and parameters: {'max_df': 0.6868852741865978, 'min_df': 0.04187619351485544, 'max_features': 232, 'stop_words': None, 'ngram_range': (1, 4), 'n_neighbors': 8, 'weights': 'distance'}. Best is trial 26 with value: 0.8418072034305712.\n",
      "[I 2024-09-18 15:33:04,167] Trial 56 finished with value: 0.8368536430590542 and parameters: {'max_df': 0.6370932452256293, 'min_df': 0.06682050838749845, 'max_features': 531, 'stop_words': None, 'ngram_range': (1, 3), 'n_neighbors': 7, 'weights': 'distance'}. Best is trial 26 with value: 0.8418072034305712.\n",
      "[I 2024-09-18 15:33:05,103] Trial 57 finished with value: 0.7649039478491625 and parameters: {'max_df': 0.6653191521987206, 'min_df': 0.34122996207045386, 'max_features': 398, 'stop_words': None, 'ngram_range': (1, 2), 'n_neighbors': 7, 'weights': 'uniform'}. Best is trial 26 with value: 0.8418072034305712.\n",
      "[I 2024-09-18 15:33:06,179] Trial 58 finished with value: 0.8294079187739168 and parameters: {'max_df': 0.6430458595724974, 'min_df': 0.15618388437068464, 'max_features': 302, 'stop_words': 'english', 'ngram_range': (1, 2), 'n_neighbors': 5, 'weights': 'distance'}. Best is trial 26 with value: 0.8418072034305712.\n",
      "[I 2024-09-18 15:33:07,568] Trial 59 finished with value: 0.8014710689767897 and parameters: {'max_df': 0.6752729696229932, 'min_df': 0.02127629127053944, 'max_features': 248, 'stop_words': None, 'ngram_range': (1, 2), 'n_neighbors': 1, 'weights': 'distance'}. Best is trial 26 with value: 0.8418072034305712.\n",
      "[I 2024-09-18 15:33:08,412] Trial 60 finished with value: 0.44415899082745225 and parameters: {'max_df': 0.6041794619161253, 'min_df': 0.47115809032744826, 'max_features': 937, 'stop_words': None, 'ngram_range': (1, 2), 'n_neighbors': 8, 'weights': 'distance'}. Best is trial 26 with value: 0.8418072034305712.\n",
      "[I 2024-09-18 15:33:09,911] Trial 61 finished with value: 0.8442916754802606 and parameters: {'max_df': 0.715410513586262, 'min_df': 0.08511733955133316, 'max_features': 332, 'stop_words': None, 'ngram_range': (1, 2), 'n_neighbors': 6, 'weights': 'distance'}. Best is trial 61 with value: 0.8442916754802606.\n",
      "[I 2024-09-18 15:33:11,371] Trial 62 finished with value: 0.8430532853873813 and parameters: {'max_df': 0.7109913758796021, 'min_df': 0.0810009088033908, 'max_features': 342, 'stop_words': None, 'ngram_range': (1, 2), 'n_neighbors': 7, 'weights': 'distance'}. Best is trial 61 with value: 0.8442916754802606.\n",
      "[I 2024-09-18 15:33:12,920] Trial 63 finished with value: 0.8411918543160972 and parameters: {'max_df': 0.7472572112995544, 'min_df': 0.08034053360734289, 'max_features': 354, 'stop_words': None, 'ngram_range': (1, 2), 'n_neighbors': 7, 'weights': 'distance'}. Best is trial 61 with value: 0.8442916754802606.\n",
      "[I 2024-09-18 15:33:14,380] Trial 64 finished with value: 0.8362306020806493 and parameters: {'max_df': 0.7864717183636596, 'min_df': 0.07591489788986121, 'max_features': 445, 'stop_words': None, 'ngram_range': (1, 2), 'n_neighbors': 7, 'weights': 'distance'}. Best is trial 61 with value: 0.8442916754802606.\n",
      "[I 2024-09-18 15:33:16,290] Trial 65 finished with value: 0.8194623387112282 and parameters: {'max_df': 0.7479181683850834, 'min_df': 0.12873609825717827, 'max_features': 281, 'stop_words': None, 'ngram_range': (1, 3), 'n_neighbors': 7, 'weights': 'distance'}. Best is trial 61 with value: 0.8442916754802606.\n",
      "[I 2024-09-18 15:33:18,145] Trial 66 finished with value: 0.8256754418014346 and parameters: {'max_df': 0.9934538340417427, 'min_df': 0.058395982094221276, 'max_features': 406, 'stop_words': 'english', 'ngram_range': (1, 2), 'n_neighbors': 6, 'weights': 'uniform'}. Best is trial 61 with value: 0.8442916754802606.\n",
      "[I 2024-09-18 15:33:19,592] Trial 67 finished with value: 0.8312597350152876 and parameters: {'max_df': 0.6982374765435743, 'min_df': 0.07918156616243027, 'max_features': 172, 'stop_words': None, 'ngram_range': (1, 2), 'n_neighbors': 8, 'weights': 'distance'}. Best is trial 61 with value: 0.8442916754802606.\n",
      "[I 2024-09-18 15:33:20,857] Trial 68 finished with value: 0.8312655039132357 and parameters: {'max_df': 0.7663891405242618, 'min_df': 0.11217328765077814, 'max_features': 373, 'stop_words': None, 'ngram_range': (1, 2), 'n_neighbors': 5, 'weights': 'distance'}. Best is trial 61 with value: 0.8442916754802606.\n",
      "[I 2024-09-18 15:33:24,454] Trial 69 finished with value: 0.8312808876410976 and parameters: {'max_df': 0.6296542475736733, 'min_df': 0.04422383313723587, 'max_features': 483, 'stop_words': None, 'ngram_range': (1, 4), 'n_neighbors': 7, 'weights': 'distance'}. Best is trial 61 with value: 0.8442916754802606.\n",
      "[I 2024-09-18 15:33:25,374] Trial 70 finished with value: 0.8293944580120378 and parameters: {'max_df': 0.9581966506304305, 'min_df': 0.02490521703952562, 'max_features': 333, 'stop_words': None, 'ngram_range': (1, 1), 'n_neighbors': 6, 'weights': 'distance'}. Best is trial 61 with value: 0.8442916754802606.\n",
      "[I 2024-09-18 15:33:26,820] Trial 71 finished with value: 0.8430475164894332 and parameters: {'max_df': 0.7168762454262955, 'min_df': 0.08455263392946079, 'max_features': 356, 'stop_words': None, 'ngram_range': (1, 2), 'n_neighbors': 7, 'weights': 'distance'}. Best is trial 61 with value: 0.8442916754802606.\n",
      "[I 2024-09-18 15:33:27,940] Trial 72 finished with value: 0.8256869795973308 and parameters: {'max_df': 0.6761089246974704, 'min_df': 0.1459557910747052, 'max_features': 354, 'stop_words': None, 'ngram_range': (1, 2), 'n_neighbors': 7, 'weights': 'distance'}. Best is trial 61 with value: 0.8442916754802606.\n",
      "[I 2024-09-18 15:33:29,574] Trial 73 finished with value: 0.8337480529969424 and parameters: {'max_df': 0.737787916982537, 'min_df': 0.06471446087963645, 'max_features': 419, 'stop_words': None, 'ngram_range': (1, 2), 'n_neighbors': 7, 'weights': 'distance'}. Best is trial 61 with value: 0.8442916754802606.\n",
      "[I 2024-09-18 15:33:30,928] Trial 74 finished with value: 0.8244312828106072 and parameters: {'max_df': 0.7109699301257635, 'min_df': 0.11547961936854022, 'max_features': 382, 'stop_words': None, 'ngram_range': (1, 2), 'n_neighbors': 8, 'weights': 'distance'}. Best is trial 61 with value: 0.8442916754802606.\n",
      "[I 2024-09-18 15:33:32,434] Trial 75 finished with value: 0.8399476953252696 and parameters: {'max_df': 0.75834403741211, 'min_df': 0.07953372796619003, 'max_features': 293, 'stop_words': None, 'ngram_range': (1, 2), 'n_neighbors': 6, 'weights': 'distance'}. Best is trial 61 with value: 0.8442916754802606.\n",
      "[I 2024-09-18 15:33:34,102] Trial 76 finished with value: 0.8275407188046844 and parameters: {'max_df': 0.658216580985321, 'min_df': 0.0369669791783449, 'max_features': 346, 'stop_words': None, 'ngram_range': (1, 2), 'n_neighbors': 6, 'weights': 'distance'}. Best is trial 61 with value: 0.8442916754802606.\n",
      "[I 2024-09-18 15:33:35,439] Trial 77 finished with value: 0.8337403611330115 and parameters: {'max_df': 0.7028251277712592, 'min_df': 0.10529513006757718, 'max_features': 460, 'stop_words': 'english', 'ngram_range': (1, 2), 'n_neighbors': 7, 'weights': 'distance'}. Best is trial 61 with value: 0.8442916754802606.\n",
      "[I 2024-09-18 15:33:36,814] Trial 78 finished with value: 0.8300194219564256 and parameters: {'max_df': 0.6900869953963071, 'min_df': 0.08307423390694167, 'max_features': 252, 'stop_words': None, 'ngram_range': (1, 2), 'n_neighbors': 6, 'weights': 'uniform'}. Best is trial 61 with value: 0.8442916754802606.\n",
      "[I 2024-09-18 15:33:38,788] Trial 79 finished with value: 0.8331192431205892 and parameters: {'max_df': 0.8351955452462285, 'min_df': 0.05300997433289327, 'max_features': 205, 'stop_words': None, 'ngram_range': (1, 3), 'n_neighbors': 8, 'weights': 'distance'}. Best is trial 61 with value: 0.8442916754802606.\n",
      "[I 2024-09-18 15:33:39,959] Trial 80 finished with value: 0.8244197450147107 and parameters: {'max_df': 0.734199173136771, 'min_df': 0.13168725041561755, 'max_features': 313, 'stop_words': None, 'ngram_range': (1, 2), 'n_neighbors': 4, 'weights': 'distance'}. Best is trial 61 with value: 0.8442916754802606.\n",
      "[I 2024-09-18 15:33:41,369] Trial 81 finished with value: 0.8312558890833222 and parameters: {'max_df': 0.7578901964061558, 'min_df': 0.06913034893996428, 'max_features': 286, 'stop_words': None, 'ngram_range': (1, 2), 'n_neighbors': 6, 'weights': 'distance'}. Best is trial 61 with value: 0.8442916754802606.\n",
      "[I 2024-09-18 15:33:42,772] Trial 82 finished with value: 0.8442916754802606 and parameters: {'max_df': 0.7456835512321685, 'min_df': 0.08476848051452014, 'max_features': 423, 'stop_words': None, 'ngram_range': (1, 2), 'n_neighbors': 6, 'weights': 'distance'}. Best is trial 61 with value: 0.8442916754802606.\n",
      "[I 2024-09-18 15:33:44,151] Trial 83 finished with value: 0.8318750841297617 and parameters: {'max_df': 0.7190544845609906, 'min_df': 0.10549270885406772, 'max_features': 425, 'stop_words': None, 'ngram_range': (1, 2), 'n_neighbors': 7, 'weights': 'distance'}. Best is trial 61 with value: 0.8442916754802606.\n",
      "[I 2024-09-18 15:33:45,762] Trial 84 finished with value: 0.8374632232755802 and parameters: {'max_df': 0.7915463925779614, 'min_df': 0.09059543715736386, 'max_features': 377, 'stop_words': None, 'ngram_range': (1, 2), 'n_neighbors': 5, 'weights': 'distance'}. Best is trial 61 with value: 0.8442916754802606.\n",
      "[I 2024-09-18 15:33:47,523] Trial 85 finished with value: 0.8318885448916408 and parameters: {'max_df': 0.8044083084352898, 'min_df': 0.058172394827185656, 'max_features': 449, 'stop_words': None, 'ngram_range': (1, 2), 'n_neighbors': 9, 'weights': 'distance'}. Best is trial 61 with value: 0.8442916754802606.\n",
      "[I 2024-09-18 15:33:48,631] Trial 86 finished with value: 0.8219698863527103 and parameters: {'max_df': 0.6729560643283449, 'min_df': 0.14199814371244143, 'max_features': 345, 'stop_words': None, 'ngram_range': (1, 2), 'n_neighbors': 7, 'weights': 'distance'}. Best is trial 61 with value: 0.8442916754802606.\n",
      "[I 2024-09-18 15:33:50,327] Trial 87 finished with value: 0.826919600792262 and parameters: {'max_df': 0.7468259117569706, 'min_df': 0.013227861355210244, 'max_features': 497, 'stop_words': None, 'ngram_range': (1, 2), 'n_neighbors': 5, 'weights': 'distance'}. Best is trial 61 with value: 0.8442916754802606.\n",
      "[I 2024-09-18 15:33:51,075] Trial 88 finished with value: 0.838088187219968 and parameters: {'max_df': 0.6485721229432273, 'min_df': 0.08575662222018789, 'max_features': 420, 'stop_words': None, 'ngram_range': (1, 1), 'n_neighbors': 6, 'weights': 'distance'}. Best is trial 61 with value: 0.8442916754802606.\n",
      "[I 2024-09-18 15:33:52,637] Trial 89 finished with value: 0.8244505124704344 and parameters: {'max_df': 0.7103048921579791, 'min_df': 0.03565467786138737, 'max_features': 386, 'stop_words': None, 'ngram_range': (1, 2), 'n_neighbors': 6, 'weights': 'distance'}. Best is trial 61 with value: 0.8442916754802606.\n",
      "[I 2024-09-18 15:33:55,540] Trial 90 finished with value: 0.8176297521296847 and parameters: {'max_df': 0.6876614752946125, 'min_df': 0.1626958103087452, 'max_features': 544, 'stop_words': 'english', 'ngram_range': (1, 4), 'n_neighbors': 7, 'weights': 'distance'}. Best is trial 61 with value: 0.8442916754802606.\n",
      "[I 2024-09-18 15:33:57,026] Trial 91 finished with value: 0.8393304232448127 and parameters: {'max_df': 0.7606271684025998, 'min_df': 0.078564161750429, 'max_features': 306, 'stop_words': None, 'ngram_range': (1, 2), 'n_neighbors': 6, 'weights': 'distance'}. Best is trial 61 with value: 0.8442916754802606.\n",
      "[I 2024-09-18 15:33:58,369] Trial 92 finished with value: 0.833128857950503 and parameters: {'max_df': 0.7281041080696573, 'min_df': 0.10095090721126171, 'max_features': 346, 'stop_words': None, 'ngram_range': (1, 2), 'n_neighbors': 6, 'weights': 'distance'}. Best is trial 61 with value: 0.8442916754802606.\n",
      "[I 2024-09-18 15:33:59,597] Trial 93 finished with value: 0.8213256927484952 and parameters: {'max_df': 0.7458739644036468, 'min_df': 0.12118019487813518, 'max_features': 284, 'stop_words': None, 'ngram_range': (1, 2), 'n_neighbors': 6, 'weights': 'distance'}. Best is trial 61 with value: 0.8442916754802606.\n",
      "[I 2024-09-18 15:34:00,974] Trial 94 finished with value: 0.8275387958387016 and parameters: {'max_df': 0.7160550096379313, 'min_df': 0.0681539203927256, 'max_features': 265, 'stop_words': None, 'ngram_range': (1, 2), 'n_neighbors': 5, 'weights': 'distance'}. Best is trial 61 with value: 0.8442916754802606.\n",
      "[I 2024-09-18 15:34:02,554] Trial 95 finished with value: 0.8306559236967098 and parameters: {'max_df': 0.7808601648101969, 'min_df': 0.04587318764348997, 'max_features': 404, 'stop_words': None, 'ngram_range': (1, 2), 'n_neighbors': 7, 'weights': 'distance'}. Best is trial 61 with value: 0.8442916754802606.\n",
      "[I 2024-09-18 15:34:04,008] Trial 96 finished with value: 0.8325019710401322 and parameters: {'max_df': 0.6649617395742206, 'min_df': 0.08726172809521175, 'max_features': 312, 'stop_words': None, 'ngram_range': (1, 2), 'n_neighbors': 6, 'weights': 'uniform'}. Best is trial 61 with value: 0.8442916754802606.\n",
      "[I 2024-09-18 15:34:05,496] Trial 97 finished with value: 0.8331346268484511 and parameters: {'max_df': 0.7010476097500281, 'min_df': 0.07229847819688776, 'max_features': 468, 'stop_words': None, 'ngram_range': (1, 2), 'n_neighbors': 7, 'weights': 'distance'}. Best is trial 61 with value: 0.8442916754802606.\n",
      "[I 2024-09-18 15:34:06,678] Trial 98 finished with value: 0.8219237351691249 and parameters: {'max_df': 0.7546684754944022, 'min_df': 0.12616173982633488, 'max_features': 331, 'stop_words': None, 'ngram_range': (1, 2), 'n_neighbors': 2, 'weights': 'distance'}. Best is trial 61 with value: 0.8442916754802606.\n",
      "[I 2024-09-18 15:34:08,803] Trial 99 finished with value: 0.8331192431205892 and parameters: {'max_df': 0.772961081914865, 'min_df': 0.1069046090721322, 'max_features': 369, 'stop_words': None, 'ngram_range': (1, 3), 'n_neighbors': 6, 'weights': 'distance'}. Best is trial 61 with value: 0.8442916754802606.\n",
      "[I 2024-09-18 15:34:10,268] Trial 100 finished with value: 0.8250581697209777 and parameters: {'max_df': 0.728937727432333, 'min_df': 0.05214005333471597, 'max_features': 242, 'stop_words': None, 'ngram_range': (1, 2), 'n_neighbors': 5, 'weights': 'distance'}. Best is trial 61 with value: 0.8442916754802606.\n",
      "[I 2024-09-18 15:34:11,634] Trial 101 finished with value: 0.8455319885391226 and parameters: {'max_df': 0.6821912876148085, 'min_df': 0.09310412914795989, 'max_features': 355, 'stop_words': None, 'ngram_range': (1, 2), 'n_neighbors': 7, 'weights': 'distance'}. Best is trial 101 with value: 0.8455319885391226.\n",
      "[I 2024-09-18 15:34:13,151] Trial 102 finished with value: 0.8374593773436148 and parameters: {'max_df': 0.632998608655082, 'min_df': 0.09702802055066145, 'max_features': 357, 'stop_words': None, 'ngram_range': (1, 2), 'n_neighbors': 7, 'weights': 'distance'}. Best is trial 101 with value: 0.8455319885391226.\n",
      "[I 2024-09-18 15:34:14,713] Trial 103 finished with value: 0.8405726592696574 and parameters: {'max_df': 0.6789503485231889, 'min_df': 0.08024591657400698, 'max_features': 408, 'stop_words': None, 'ngram_range': (1, 2), 'n_neighbors': 7, 'weights': 'distance'}. Best is trial 101 with value: 0.8455319885391226.\n",
      "[I 2024-09-18 15:34:15,615] Trial 104 finished with value: 0.7996327134972983 and parameters: {'max_df': 0.680662123264377, 'min_df': 0.26991219498768604, 'max_features': 410, 'stop_words': None, 'ngram_range': (1, 2), 'n_neighbors': 7, 'weights': 'distance'}. Best is trial 101 with value: 0.8455319885391226.\n",
      "[I 2024-09-18 15:34:16,977] Trial 105 finished with value: 0.8399457723592871 and parameters: {'max_df': 0.6937032647904827, 'min_df': 0.09106831297273041, 'max_features': 432, 'stop_words': None, 'ngram_range': (1, 2), 'n_neighbors': 8, 'weights': 'distance'}. Best is trial 101 with value: 0.8455319885391226.\n",
      "[I 2024-09-18 15:34:18,584] Trial 106 finished with value: 0.8325077399380806 and parameters: {'max_df': 0.657492454223441, 'min_df': 0.03184647115322016, 'max_features': 443, 'stop_words': None, 'ngram_range': (1, 2), 'n_neighbors': 7, 'weights': 'distance'}. Best is trial 101 with value: 0.8455319885391226.\n",
      "[I 2024-09-18 15:34:20,133] Trial 107 finished with value: 0.8319000826875372 and parameters: {'max_df': 0.6730417260756713, 'min_df': 0.06354271794986092, 'max_features': 383, 'stop_words': None, 'ngram_range': (1, 2), 'n_neighbors': 8, 'weights': 'distance'}. Best is trial 101 with value: 0.8455319885391226.\n",
      "[I 2024-09-18 15:34:21,367] Trial 108 finished with value: 0.8262946368478742 and parameters: {'max_df': 0.6460391742112945, 'min_df': 0.11462807836797652, 'max_features': 325, 'stop_words': None, 'ngram_range': (1, 2), 'n_neighbors': 8, 'weights': 'distance'}. Best is trial 101 with value: 0.8455319885391226.\n",
      "[I 2024-09-18 15:34:22,033] Trial 109 finished with value: 0.8213295386804607 and parameters: {'max_df': 0.704236755218012, 'min_df': 0.138175007064332, 'max_features': 361, 'stop_words': 'english', 'ngram_range': (1, 1), 'n_neighbors': 7, 'weights': 'distance'}. Best is trial 101 with value: 0.8455319885391226.\n",
      "[I 2024-09-18 15:34:25,397] Trial 110 finished with value: 0.8306386170028652 and parameters: {'max_df': 0.6107947102685733, 'min_df': 0.08160449136782891, 'max_features': 486, 'stop_words': None, 'ngram_range': (1, 4), 'n_neighbors': 7, 'weights': 'uniform'}. Best is trial 101 with value: 0.8455319885391226.\n",
      "[I 2024-09-18 15:34:26,803] Trial 111 finished with value: 0.8293925350460551 and parameters: {'max_df': 0.6669276302895143, 'min_df': 0.0722958953695866, 'max_features': 296, 'stop_words': None, 'ngram_range': (1, 2), 'n_neighbors': 6, 'weights': 'distance'}. Best is trial 101 with value: 0.8455319885391226.\n",
      "[I 2024-09-18 15:34:28,763] Trial 112 finished with value: 0.8269138318943139 and parameters: {'max_df': 0.7178430678470195, 'min_df': 0.057672500070780924, 'max_features': 338, 'stop_words': None, 'ngram_range': (1, 2), 'n_neighbors': 6, 'weights': 'distance'}. Best is trial 101 with value: 0.8455319885391226.\n",
      "[I 2024-09-18 15:34:30,079] Trial 113 finished with value: 0.837472838105494 and parameters: {'max_df': 0.7389531152033494, 'min_df': 0.09876173663194165, 'max_features': 412, 'stop_words': None, 'ngram_range': (1, 2), 'n_neighbors': 6, 'weights': 'distance'}. Best is trial 101 with value: 0.8455319885391226.\n",
      "[I 2024-09-18 15:34:31,627] Trial 114 finished with value: 0.8430532853873813 and parameters: {'max_df': 0.7646743023457623, 'min_df': 0.08129502026619195, 'max_features': 385, 'stop_words': None, 'ngram_range': (1, 2), 'n_neighbors': 7, 'weights': 'distance'}. Best is trial 101 with value: 0.8455319885391226.\n",
      "[I 2024-09-18 15:34:32,956] Trial 115 finished with value: 0.8306405399688479 and parameters: {'max_df': 0.6839939754536805, 'min_df': 0.10493552134061988, 'max_features': 382, 'stop_words': None, 'ngram_range': (1, 2), 'n_neighbors': 7, 'weights': 'distance'}. Best is trial 101 with value: 0.8455319885391226.\n",
      "[I 2024-09-18 15:34:34,510] Trial 116 finished with value: 0.8405630444397438 and parameters: {'max_df': 0.6254225629220344, 'min_df': 0.08520704454341191, 'max_features': 362, 'stop_words': None, 'ngram_range': (1, 2), 'n_neighbors': 7, 'weights': 'distance'}. Best is trial 101 with value: 0.8455319885391226.\n",
      "[I 2024-09-18 15:34:36,118] Trial 117 finished with value: 0.8250735534488396 and parameters: {'max_df': 0.7094112036191486, 'min_df': 0.04647853031199786, 'max_features': 394, 'stop_words': None, 'ngram_range': (1, 2), 'n_neighbors': 7, 'weights': 'distance'}. Best is trial 101 with value: 0.8455319885391226.\n",
      "[I 2024-09-18 15:34:37,723] Trial 118 finished with value: 0.8356152529661751 and parameters: {'max_df': 0.6979159020057911, 'min_df': 0.06322487849759692, 'max_features': 442, 'stop_words': None, 'ngram_range': (1, 2), 'n_neighbors': 7, 'weights': 'distance'}. Best is trial 101 with value: 0.8455319885391226.\n",
      "[I 2024-09-18 15:34:38,931] Trial 119 finished with value: 0.8225640828413745 and parameters: {'max_df': 0.734769808778723, 'min_df': 0.1217576292536432, 'max_features': 320, 'stop_words': None, 'ngram_range': (1, 2), 'n_neighbors': 8, 'weights': 'distance'}. Best is trial 101 with value: 0.8455319885391226.\n",
      "[I 2024-09-18 15:34:40,443] Trial 120 finished with value: 0.834984520123839 and parameters: {'max_df': 0.7258572780073607, 'min_df': 0.07471857850829089, 'max_features': 728, 'stop_words': None, 'ngram_range': (1, 2), 'n_neighbors': 6, 'weights': 'distance'}. Best is trial 101 with value: 0.8455319885391226.\n",
      "[I 2024-09-18 15:34:41,796] Trial 121 finished with value: 0.8393246543468645 and parameters: {'max_df': 0.6298481697033863, 'min_df': 0.0860989086662265, 'max_features': 355, 'stop_words': None, 'ngram_range': (1, 2), 'n_neighbors': 7, 'weights': 'distance'}. Best is trial 101 with value: 0.8455319885391226.\n",
      "[I 2024-09-18 15:34:43,238] Trial 122 finished with value: 0.8442859065823125 and parameters: {'max_df': 0.6564971695721888, 'min_df': 0.09457750357208351, 'max_features': 373, 'stop_words': None, 'ngram_range': (1, 2), 'n_neighbors': 7, 'weights': 'distance'}. Best is trial 101 with value: 0.8455319885391226.\n",
      "[I 2024-09-18 15:34:44,535] Trial 123 finished with value: 0.8244370517085553 and parameters: {'max_df': 0.6576205701227602, 'min_df': 0.11062082305914431, 'max_features': 391, 'stop_words': None, 'ngram_range': (1, 2), 'n_neighbors': 7, 'weights': 'distance'}. Best is trial 101 with value: 0.8455319885391226.\n",
      "[I 2024-09-18 15:34:45,492] Trial 124 finished with value: 0.6550948983712479 and parameters: {'max_df': 0.6909378303578189, 'min_df': 0.40720298502287333, 'max_features': 418, 'stop_words': None, 'ngram_range': (1, 2), 'n_neighbors': 7, 'weights': 'distance'}. Best is trial 101 with value: 0.8455319885391226.\n",
      "[I 2024-09-18 15:34:46,834] Trial 125 finished with value: 0.8368440282291406 and parameters: {'max_df': 0.6781081164388005, 'min_df': 0.09407759272021725, 'max_features': 341, 'stop_words': None, 'ngram_range': (1, 2), 'n_neighbors': 8, 'weights': 'distance'}. Best is trial 101 with value: 0.8455319885391226.\n",
      "[I 2024-09-18 15:34:49,259] Trial 126 finished with value: 0.8356152529661751 and parameters: {'max_df': 0.6420257093641505, 'min_df': 0.0695105217192516, 'max_features': 468, 'stop_words': None, 'ngram_range': (1, 3), 'n_neighbors': 7, 'weights': 'distance'}. Best is trial 101 with value: 0.8455319885391226.\n",
      "[I 2024-09-18 15:34:50,619] Trial 127 finished with value: 0.8250639386189258 and parameters: {'max_df': 0.77031667169457, 'min_df': 0.057143896357732385, 'max_features': 272, 'stop_words': None, 'ngram_range': (1, 2), 'n_neighbors': 6, 'weights': 'distance'}. Best is trial 101 with value: 0.8455319885391226.\n",
      "[I 2024-09-18 15:34:51,942] Trial 128 finished with value: 0.8325019710401322 and parameters: {'max_df': 0.6505202895277902, 'min_df': 0.10155094133752612, 'max_features': 375, 'stop_words': 'english', 'ngram_range': (1, 2), 'n_neighbors': 7, 'weights': 'distance'}. Best is trial 101 with value: 0.8455319885391226.\n",
      "[I 2024-09-18 15:34:53,404] Trial 129 finished with value: 0.8393265773128473 and parameters: {'max_df': 0.6705234248579663, 'min_df': 0.07874306776537995, 'max_features': 316, 'stop_words': None, 'ngram_range': (1, 2), 'n_neighbors': 6, 'weights': 'distance'}. Best is trial 101 with value: 0.8455319885391226.\n",
      "[I 2024-09-18 15:34:54,855] Trial 130 finished with value: 0.8337442070649772 and parameters: {'max_df': 0.7440139130863052, 'min_df': 0.08947373160061142, 'max_features': 400, 'stop_words': None, 'ngram_range': (1, 2), 'n_neighbors': 7, 'weights': 'uniform'}. Best is trial 101 with value: 0.8455319885391226.\n",
      "[I 2024-09-18 15:34:56,325] Trial 131 finished with value: 0.8461511835855624 and parameters: {'max_df': 0.5894001723660135, 'min_df': 0.08368729183263737, 'max_features': 356, 'stop_words': None, 'ngram_range': (1, 2), 'n_neighbors': 7, 'weights': 'distance'}. Best is trial 131 with value: 0.8461511835855624.\n",
      "[I 2024-09-18 15:34:57,775] Trial 132 finished with value: 0.8287925696594426 and parameters: {'max_df': 0.5996128654029981, 'min_df': 0.06392066020302188, 'max_features': 336, 'stop_words': None, 'ngram_range': (1, 2), 'n_neighbors': 8, 'weights': 'distance'}. Best is trial 131 with value: 0.8461511835855624.\n",
      "[I 2024-09-18 15:34:58,980] Trial 133 finished with value: 0.8200969174855297 and parameters: {'max_df': 0.5474965376207045, 'min_df': 0.11392488105372121, 'max_features': 367, 'stop_words': None, 'ngram_range': (1, 2), 'n_neighbors': 7, 'weights': 'distance'}. Best is trial 131 with value: 0.8461511835855624.\n",
      "[I 2024-09-18 15:35:00,312] Trial 134 finished with value: 0.8387073822664076 and parameters: {'max_df': 0.8892433841736269, 'min_df': 0.09931227419065383, 'max_features': 433, 'stop_words': None, 'ngram_range': (1, 2), 'n_neighbors': 7, 'weights': 'distance'}. Best is trial 131 with value: 0.8461511835855624.\n",
      "[I 2024-09-18 15:35:01,744] Trial 135 finished with value: 0.8244408976405208 and parameters: {'max_df': 0.7172519725692283, 'min_df': 0.0462363617569398, 'max_features': 309, 'stop_words': None, 'ngram_range': (1, 2), 'n_neighbors': 6, 'weights': 'distance'}. Best is trial 131 with value: 0.8461511835855624.\n",
      "[I 2024-09-18 15:35:02,520] Trial 136 finished with value: 0.8343595561794512 and parameters: {'max_df': 0.5749199589024344, 'min_df': 0.08021201154686451, 'max_features': 405, 'stop_words': None, 'ngram_range': (1, 1), 'n_neighbors': 6, 'weights': 'distance'}. Best is trial 131 with value: 0.8461511835855624.\n",
      "[I 2024-09-18 15:35:03,911] Trial 137 finished with value: 0.8424360133069244 and parameters: {'max_df': 0.7078167159270672, 'min_df': 0.0890683625343525, 'max_features': 354, 'stop_words': None, 'ngram_range': (1, 2), 'n_neighbors': 7, 'weights': 'distance'}. Best is trial 131 with value: 0.8461511835855624.\n",
      "[I 2024-09-18 15:35:06,511] Trial 138 finished with value: 0.783497105936196 and parameters: {'max_df': 0.7089478174029409, 'min_df': 0.32234203000240264, 'max_features': 347, 'stop_words': None, 'ngram_range': (1, 4), 'n_neighbors': 8, 'weights': 'distance'}. Best is trial 131 with value: 0.8461511835855624.\n",
      "[I 2024-09-18 15:35:07,868] Trial 139 finished with value: 0.8436744033998039 and parameters: {'max_df': 0.7499299685846202, 'min_df': 0.09409574195528733, 'max_features': 382, 'stop_words': None, 'ngram_range': (1, 2), 'n_neighbors': 7, 'weights': 'distance'}. Best is trial 131 with value: 0.8461511835855624.\n",
      "[I 2024-09-18 15:35:09,234] Trial 140 finished with value: 0.8393227313808819 and parameters: {'max_df': 0.7490437755249091, 'min_df': 0.09152058508912495, 'max_features': 382, 'stop_words': None, 'ngram_range': (1, 2), 'n_neighbors': 6, 'weights': 'distance'}. Best is trial 131 with value: 0.8461511835855624.\n",
      "[I 2024-09-18 15:35:10,744] Trial 141 finished with value: 0.8362344480126147 and parameters: {'max_df': 0.7638466515365154, 'min_df': 0.07067791170973883, 'max_features': 360, 'stop_words': None, 'ngram_range': (1, 2), 'n_neighbors': 7, 'weights': 'distance'}. Best is trial 131 with value: 0.8461511835855624.\n",
      "[I 2024-09-18 15:35:11,972] Trial 142 finished with value: 0.8219487337269005 and parameters: {'max_df': 0.5160723741470166, 'min_df': 0.10752548351146257, 'max_features': 332, 'stop_words': None, 'ngram_range': (1, 2), 'n_neighbors': 7, 'weights': 'distance'}. Best is trial 131 with value: 0.8461511835855624.\n",
      "[I 2024-09-18 15:35:13,435] Trial 143 finished with value: 0.8213276157144781 and parameters: {'max_df': 0.7813631474750556, 'min_df': 0.12113824378745564, 'max_features': 304, 'stop_words': None, 'ngram_range': (1, 2), 'n_neighbors': 7, 'weights': 'distance'}. Best is trial 131 with value: 0.8461511835855624.\n",
      "[I 2024-09-18 15:35:14,825] Trial 144 finished with value: 0.8399476953252696 and parameters: {'max_df': 0.7283110820246698, 'min_df': 0.09539374422299494, 'max_features': 379, 'stop_words': None, 'ngram_range': (1, 2), 'n_neighbors': 7, 'weights': 'distance'}. Best is trial 131 with value: 0.8461511835855624.\n",
      "[I 2024-09-18 15:35:16,380] Trial 145 finished with value: 0.8343691710093648 and parameters: {'max_df': 0.7370655882987184, 'min_df': 0.07318395003213818, 'max_features': 354, 'stop_words': None, 'ngram_range': (1, 2), 'n_neighbors': 7, 'weights': 'distance'}. Best is trial 131 with value: 0.8461511835855624.\n",
      "[I 2024-09-18 15:35:17,774] Trial 146 finished with value: 0.8238140107301503 and parameters: {'max_df': 0.5886469152585874, 'min_df': 0.05509251919502338, 'max_features': 287, 'stop_words': None, 'ngram_range': (1, 2), 'n_neighbors': 6, 'weights': 'distance'}. Best is trial 131 with value: 0.8461511835855624.\n",
      "[I 2024-09-18 15:35:19,176] Trial 147 finished with value: 0.8349883660558044 and parameters: {'max_df': 0.6986680828318983, 'min_df': 0.08634972062179216, 'max_features': 327, 'stop_words': None, 'ngram_range': (1, 2), 'n_neighbors': 8, 'weights': 'distance'}. Best is trial 131 with value: 0.8461511835855624.\n",
      "[I 2024-09-18 15:35:20,467] Trial 148 finished with value: 0.8318750841297617 and parameters: {'max_df': 0.7218314686457068, 'min_df': 0.1052665592784585, 'max_features': 390, 'stop_words': None, 'ngram_range': (1, 2), 'n_neighbors': 7, 'weights': 'distance'}. Best is trial 131 with value: 0.8461511835855624.\n",
      "[I 2024-09-18 15:35:21,628] Trial 149 finished with value: 0.8213295386804607 and parameters: {'max_df': 0.7521455492393236, 'min_df': 0.13081693361941835, 'max_features': 372, 'stop_words': None, 'ngram_range': (1, 2), 'n_neighbors': 6, 'weights': 'distance'}. Best is trial 131 with value: 0.8461511835855624.\n",
      "[I 2024-09-18 15:35:24,069] Trial 150 finished with value: 0.834984520123839 and parameters: {'max_df': 0.6921836632586951, 'min_df': 0.06240963122900098, 'max_features': 422, 'stop_words': 'english', 'ngram_range': (1, 3), 'n_neighbors': 7, 'weights': 'distance'}. Best is trial 131 with value: 0.8461511835855624.\n",
      "[I 2024-09-18 15:35:25,520] Trial 151 finished with value: 0.8393323462107956 and parameters: {'max_df': 0.6828927460184042, 'min_df': 0.07929681576770718, 'max_features': 409, 'stop_words': None, 'ngram_range': (1, 2), 'n_neighbors': 7, 'weights': 'distance'}. Best is trial 131 with value: 0.8461511835855624.\n",
      "[I 2024-09-18 15:35:26,897] Trial 152 finished with value: 0.8399419264273215 and parameters: {'max_df': 0.6626278193815798, 'min_df': 0.09050753919811583, 'max_features': 352, 'stop_words': None, 'ngram_range': (1, 2), 'n_neighbors': 7, 'weights': 'distance'}. Best is trial 131 with value: 0.8461511835855624.\n",
      "[I 2024-09-18 15:35:28,324] Trial 153 finished with value: 0.8411899313501143 and parameters: {'max_df': 0.7095043987107374, 'min_df': 0.08276737364171886, 'max_features': 455, 'stop_words': None, 'ngram_range': (1, 2), 'n_neighbors': 7, 'weights': 'distance'}. Best is trial 131 with value: 0.8461511835855624.\n",
      "[I 2024-09-18 15:35:29,627] Trial 154 finished with value: 0.8368459511951233 and parameters: {'max_df': 0.7087747186727293, 'min_df': 0.10011646662934301, 'max_features': 440, 'stop_words': None, 'ngram_range': (1, 2), 'n_neighbors': 7, 'weights': 'distance'}. Best is trial 131 with value: 0.8461511835855624.\n",
      "[I 2024-09-18 15:35:31,118] Trial 155 finished with value: 0.8337499759629253 and parameters: {'max_df': 0.5265349413077296, 'min_df': 0.067508540021993, 'max_features': 464, 'stop_words': None, 'ngram_range': (1, 2), 'n_neighbors': 6, 'weights': 'distance'}. Best is trial 131 with value: 0.8461511835855624.\n",
      "[I 2024-09-18 15:35:32,550] Trial 156 finished with value: 0.8449108705267004 and parameters: {'max_df': 0.7294845058005407, 'min_df': 0.08319645581951361, 'max_features': 323, 'stop_words': None, 'ngram_range': (1, 2), 'n_neighbors': 7, 'weights': 'distance'}. Best is trial 131 with value: 0.8461511835855624.\n",
      "[I 2024-09-18 15:35:33,997] Trial 157 finished with value: 0.8250600926869603 and parameters: {'max_df': 0.7304845881290247, 'min_df': 0.11515691852425752, 'max_features': 449, 'stop_words': None, 'ngram_range': (1, 2), 'n_neighbors': 6, 'weights': 'distance'}. Best is trial 131 with value: 0.8461511835855624.\n",
      "[I 2024-09-18 15:35:35,434] Trial 158 finished with value: 0.8374709151395111 and parameters: {'max_df': 0.7387758588106909, 'min_df': 0.08771267910717824, 'max_features': 502, 'stop_words': None, 'ngram_range': (1, 2), 'n_neighbors': 7, 'weights': 'uniform'}. Best is trial 131 with value: 0.8461511835855624.\n",
      "[I 2024-09-18 15:35:36,788] Trial 159 finished with value: 0.8393304232448129 and parameters: {'max_df': 0.7188782880362259, 'min_df': 0.09836989493375128, 'max_features': 391, 'stop_words': None, 'ngram_range': (1, 2), 'n_neighbors': 7, 'weights': 'distance'}. Best is trial 131 with value: 0.8461511835855624.\n",
      "[I 2024-09-18 15:35:38,240] Trial 160 finished with value: 0.8331134742226409 and parameters: {'max_df': 0.7606704736422775, 'min_df': 0.07411620685329005, 'max_features': 307, 'stop_words': None, 'ngram_range': (1, 2), 'n_neighbors': 6, 'weights': 'distance'}. Best is trial 131 with value: 0.8461511835855624.\n",
      "[I 2024-09-18 15:35:39,653] Trial 161 finished with value: 0.8418110493625367 and parameters: {'max_df': 0.7038740767217622, 'min_df': 0.08213668866458244, 'max_features': 338, 'stop_words': None, 'ngram_range': (1, 2), 'n_neighbors': 7, 'weights': 'distance'}. Best is trial 131 with value: 0.8461511835855624.\n",
      "[I 2024-09-18 15:35:41,042] Trial 162 finished with value: 0.8430475164894332 and parameters: {'max_df': 0.7012520730139229, 'min_df': 0.08604737008410288, 'max_features': 345, 'stop_words': None, 'ngram_range': (1, 2), 'n_neighbors': 7, 'weights': 'distance'}. Best is trial 131 with value: 0.8461511835855624.\n",
      "[I 2024-09-18 15:35:42,616] Trial 163 finished with value: 0.8287848777955119 and parameters: {'max_df': 0.6977158311544109, 'min_df': 0.053223842169786165, 'max_features': 339, 'stop_words': None, 'ngram_range': (1, 2), 'n_neighbors': 7, 'weights': 'distance'}. Best is trial 131 with value: 0.8461511835855624.\n",
      "[I 2024-09-18 15:35:43,591] Trial 164 finished with value: 0.8145222391015903 and parameters: {'max_df': 0.7259708649258344, 'min_df': 0.21996863788381105, 'max_features': 321, 'stop_words': None, 'ngram_range': (1, 2), 'n_neighbors': 7, 'weights': 'distance'}. Best is trial 131 with value: 0.8461511835855624.\n",
      "[I 2024-09-18 15:35:44,872] Trial 165 finished with value: 0.8287733399996153 and parameters: {'max_df': 0.7473056591341339, 'min_df': 0.10783770621132399, 'max_features': 362, 'stop_words': None, 'ngram_range': (1, 2), 'n_neighbors': 7, 'weights': 'distance'}. Best is trial 131 with value: 0.8461511835855624.\n",
      "[I 2024-09-18 15:35:46,213] Trial 166 finished with value: 0.8424321673749591 and parameters: {'max_df': 0.7176053145203937, 'min_df': 0.09516234319183134, 'max_features': 293, 'stop_words': None, 'ngram_range': (1, 2), 'n_neighbors': 7, 'weights': 'distance'}. Best is trial 131 with value: 0.8461511835855624.\n",
      "[I 2024-09-18 15:35:47,579] Trial 167 finished with value: 0.8374632232755802 and parameters: {'max_df': 0.7128429289478846, 'min_df': 0.09057303535542638, 'max_features': 270, 'stop_words': None, 'ngram_range': (1, 2), 'n_neighbors': 8, 'weights': 'distance'}. Best is trial 131 with value: 0.8461511835855624.\n",
      "[I 2024-09-18 15:35:48,428] Trial 168 finished with value: 0.8325154318020115 and parameters: {'max_df': 0.7033099614278452, 'min_df': 0.06755903671601468, 'max_features': 292, 'stop_words': None, 'ngram_range': (1, 1), 'n_neighbors': 10, 'weights': 'distance'}. Best is trial 131 with value: 0.8461511835855624.\n",
      "[I 2024-09-18 15:35:49,793] Trial 169 finished with value: 0.8349825971578563 and parameters: {'max_df': 0.5621267875483219, 'min_df': 0.09672157948261312, 'max_features': 339, 'stop_words': None, 'ngram_range': (1, 2), 'n_neighbors': 7, 'weights': 'distance'}. Best is trial 131 with value: 0.8461511835855624.\n",
      "[I 2024-09-18 15:35:53,039] Trial 170 finished with value: 0.8411860854181489 and parameters: {'max_df': 0.6886583884013981, 'min_df': 0.08130005159980525, 'max_features': 314, 'stop_words': None, 'ngram_range': (1, 4), 'n_neighbors': 7, 'weights': 'distance'}. Best is trial 131 with value: 0.8461511835855624.\n",
      "[I 2024-09-18 15:35:54,532] Trial 171 finished with value: 0.8331327038824682 and parameters: {'max_df': 0.7322316181193108, 'min_df': 0.07510698728371157, 'max_features': 364, 'stop_words': None, 'ngram_range': (1, 2), 'n_neighbors': 7, 'weights': 'distance'}. Best is trial 131 with value: 0.8461511835855624.\n",
      "[I 2024-09-18 15:35:55,829] Trial 172 finished with value: 0.8318750841297617 and parameters: {'max_df': 0.7227174373026815, 'min_df': 0.10711230965886549, 'max_features': 380, 'stop_words': None, 'ngram_range': (1, 2), 'n_neighbors': 7, 'weights': 'distance'}. Best is trial 131 with value: 0.8461511835855624.\n",
      "[I 2024-09-18 15:35:56,810] Trial 173 finished with value: 0.8108070688229526 and parameters: {'max_df': 0.7150397716909215, 'min_df': 0.18740476796443334, 'max_features': 345, 'stop_words': None, 'ngram_range': (1, 2), 'n_neighbors': 6, 'weights': 'distance'}. Best is trial 131 with value: 0.8461511835855624.\n",
      "[I 2024-09-18 15:35:58,197] Trial 174 finished with value: 0.8374689921735285 and parameters: {'max_df': 0.7527969793946442, 'min_df': 0.08951890003104379, 'max_features': 262, 'stop_words': None, 'ngram_range': (1, 2), 'n_neighbors': 7, 'weights': 'distance'}. Best is trial 131 with value: 0.8461511835855624.\n",
      "[I 2024-09-18 15:35:59,661] Trial 175 finished with value: 0.8343653250773994 and parameters: {'max_df': 0.7415186576895243, 'min_df': 0.09748413055847041, 'max_features': 287, 'stop_words': None, 'ngram_range': (1, 2), 'n_neighbors': 6, 'weights': 'distance'}. Best is trial 131 with value: 0.8461511835855624.\n",
      "[I 2024-09-18 15:36:01,166] Trial 176 finished with value: 0.8362286791146664 and parameters: {'max_df': 0.7018138230249619, 'min_df': 0.06466386177788183, 'max_features': 319, 'stop_words': None, 'ngram_range': (1, 2), 'n_neighbors': 7, 'weights': 'distance'}. Best is trial 131 with value: 0.8461511835855624.\n",
      "[I 2024-09-18 15:36:02,409] Trial 177 finished with value: 0.8238140107301503 and parameters: {'max_df': 0.7763585543827871, 'min_df': 0.11783462327084805, 'max_features': 396, 'stop_words': None, 'ngram_range': (1, 2), 'n_neighbors': 7, 'weights': 'distance'}. Best is trial 131 with value: 0.8461511835855624.\n",
      "[I 2024-09-18 15:36:03,880] Trial 178 finished with value: 0.8368517200930714 and parameters: {'max_df': 0.7319658934604726, 'min_df': 0.07693722426139929, 'max_features': 369, 'stop_words': None, 'ngram_range': (1, 2), 'n_neighbors': 7, 'weights': 'distance'}. Best is trial 131 with value: 0.8461511835855624.\n",
      "[I 2024-09-18 15:36:05,306] Trial 179 finished with value: 0.837465146241563 and parameters: {'max_df': 0.7656236883712126, 'min_df': 0.08460446779531658, 'max_features': 351, 'stop_words': None, 'ngram_range': (1, 2), 'n_neighbors': 8, 'weights': 'distance'}. Best is trial 131 with value: 0.8461511835855624.\n",
      "[I 2024-09-18 15:36:06,605] Trial 180 finished with value: 0.8349825971578563 and parameters: {'max_df': 0.6925917987781732, 'min_df': 0.10540165397493464, 'max_features': 934, 'stop_words': 'english', 'ngram_range': (1, 2), 'n_neighbors': 6, 'weights': 'distance'}. Best is trial 131 with value: 0.8461511835855624.\n",
      "[I 2024-09-18 15:36:07,997] Trial 181 finished with value: 0.8430475164894332 and parameters: {'max_df': 0.7080761242808105, 'min_df': 0.08478557758063275, 'max_features': 421, 'stop_words': None, 'ngram_range': (1, 2), 'n_neighbors': 7, 'weights': 'distance'}. Best is trial 131 with value: 0.8461511835855624.\n",
      "[I 2024-09-18 15:36:09,348] Trial 182 finished with value: 0.8411899313501143 and parameters: {'max_df': 0.7123008985841262, 'min_df': 0.0918582853986427, 'max_features': 414, 'stop_words': None, 'ngram_range': (1, 2), 'n_neighbors': 7, 'weights': 'distance'}. Best is trial 131 with value: 0.8461511835855624.\n",
      "[I 2024-09-18 15:36:10,946] Trial 183 finished with value: 0.8349960579197354 and parameters: {'max_df': 0.718921703326529, 'min_df': 0.07269078293719741, 'max_features': 332, 'stop_words': None, 'ngram_range': (1, 2), 'n_neighbors': 7, 'weights': 'distance'}. Best is trial 131 with value: 0.8461511835855624.\n",
      "[I 2024-09-18 15:36:12,571] Trial 184 finished with value: 0.8331211660865719 and parameters: {'max_df': 0.7045599325068785, 'min_df': 0.05757692980025099, 'max_features': 382, 'stop_words': None, 'ngram_range': (1, 2), 'n_neighbors': 7, 'weights': 'distance'}. Best is trial 131 with value: 0.8461511835855624.\n",
      "[I 2024-09-18 15:36:14,002] Trial 185 finished with value: 0.8430475164894334 and parameters: {'max_df': 0.6849344502851387, 'min_df': 0.08166329702466243, 'max_features': 365, 'stop_words': None, 'ngram_range': (1, 2), 'n_neighbors': 7, 'weights': 'distance'}. Best is trial 131 with value: 0.8461511835855624.\n",
      "[I 2024-09-18 15:36:15,390] Trial 186 finished with value: 0.8442878295482954 and parameters: {'max_df': 0.6708341009722508, 'min_df': 0.08373793019607233, 'max_features': 356, 'stop_words': None, 'ngram_range': (1, 2), 'n_neighbors': 7, 'weights': 'distance'}. Best is trial 131 with value: 0.8461511835855624.\n",
      "[I 2024-09-18 15:36:16,702] Trial 187 finished with value: 0.8393246543468645 and parameters: {'max_df': 0.6735068259030005, 'min_df': 0.09851898366243564, 'max_features': 370, 'stop_words': None, 'ngram_range': (1, 2), 'n_neighbors': 7, 'weights': 'distance'}. Best is trial 131 with value: 0.8461511835855624.\n",
      "[I 2024-09-18 15:36:18,135] Trial 188 finished with value: 0.8362248331827011 and parameters: {'max_df': 0.6852955108667584, 'min_df': 0.08131874224628016, 'max_features': 323, 'stop_words': None, 'ngram_range': (1, 2), 'n_neighbors': 7, 'weights': 'uniform'}. Best is trial 131 with value: 0.8461511835855624.\n",
      "[I 2024-09-18 15:36:19,545] Trial 189 finished with value: 0.8337461300309597 and parameters: {'max_df': 0.6626803773652706, 'min_df': 0.06599352435083951, 'max_features': 299, 'stop_words': None, 'ngram_range': (1, 2), 'n_neighbors': 7, 'weights': 'distance'}. Best is trial 131 with value: 0.8461511835855624.\n",
      "[I 2024-09-18 15:36:21,531] Trial 190 finished with value: 0.8238159336961329 and parameters: {'max_df': 0.6542713294685126, 'min_df': 0.1116763527369444, 'max_features': 346, 'stop_words': None, 'ngram_range': (1, 3), 'n_neighbors': 8, 'weights': 'distance'}. Best is trial 131 with value: 0.8461511835855624.\n",
      "[I 2024-09-18 15:36:22,916] Trial 191 finished with value: 0.8418091263965539 and parameters: {'max_df': 0.6931798665784096, 'min_df': 0.08745891255607498, 'max_features': 358, 'stop_words': None, 'ngram_range': (1, 2), 'n_neighbors': 7, 'weights': 'distance'}. Best is trial 131 with value: 0.8461511835855624.\n",
      "[I 2024-09-18 15:36:24,289] Trial 192 finished with value: 0.8399476953252696 and parameters: {'max_df': 0.680226658274433, 'min_df': 0.089162329953544, 'max_features': 400, 'stop_words': None, 'ngram_range': (1, 2), 'n_neighbors': 7, 'weights': 'distance'}. Best is trial 131 with value: 0.8461511835855624.\n",
      "[I 2024-09-18 15:36:25,672] Trial 193 finished with value: 0.8399515412572353 and parameters: {'max_df': 0.6949065182470008, 'min_df': 0.08744950310936743, 'max_features': 364, 'stop_words': None, 'ngram_range': (1, 2), 'n_neighbors': 7, 'weights': 'distance'}. Best is trial 131 with value: 0.8461511835855624.\n",
      "[I 2024-09-18 15:36:27,138] Trial 194 finished with value: 0.8343691710093648 and parameters: {'max_df': 0.6732206079084742, 'min_df': 0.07485702145619519, 'max_features': 336, 'stop_words': None, 'ngram_range': (1, 2), 'n_neighbors': 7, 'weights': 'distance'}. Best is trial 131 with value: 0.8461511835855624.\n",
      "[I 2024-09-18 15:36:28,452] Trial 195 finished with value: 0.8411880083841317 and parameters: {'max_df': 0.6884115904649085, 'min_df': 0.09793370040236657, 'max_features': 384, 'stop_words': None, 'ngram_range': (1, 2), 'n_neighbors': 7, 'weights': 'distance'}. Best is trial 131 with value: 0.8461511835855624.\n",
      "[I 2024-09-18 15:36:29,885] Trial 196 finished with value: 0.8442878295482954 and parameters: {'max_df': 0.6676447084073265, 'min_df': 0.08303154220360537, 'max_features': 353, 'stop_words': None, 'ngram_range': (1, 2), 'n_neighbors': 7, 'weights': 'distance'}. Best is trial 131 with value: 0.8461511835855624.\n",
      "[I 2024-09-18 15:36:31,162] Trial 197 finished with value: 0.8337403611330115 and parameters: {'max_df': 0.7035222203864386, 'min_df': 0.10374094643876108, 'max_features': 352, 'stop_words': None, 'ngram_range': (1, 2), 'n_neighbors': 7, 'weights': 'distance'}. Best is trial 131 with value: 0.8461511835855624.\n",
      "[I 2024-09-18 15:36:32,588] Trial 198 finished with value: 0.8411899313501143 and parameters: {'max_df': 0.69629330304331, 'min_df': 0.08260945438898634, 'max_features': 308, 'stop_words': None, 'ngram_range': (1, 2), 'n_neighbors': 7, 'weights': 'distance'}. Best is trial 131 with value: 0.8461511835855624.\n",
      "[I 2024-09-18 15:36:34,258] Trial 199 finished with value: 0.8387112281983733 and parameters: {'max_df': 0.6682915714657641, 'min_df': 0.0707223876590143, 'max_features': 423, 'stop_words': None, 'ngram_range': (1, 2), 'n_neighbors': 8, 'weights': 'distance'}. Best is trial 131 with value: 0.8461511835855624.\n",
      "[I 2024-09-18 15:36:35,444] Trial 200 finished with value: 0.8231871238197798 and parameters: {'max_df': 0.6830823377120584, 'min_df': 0.1244271575266801, 'max_features': 375, 'stop_words': None, 'ngram_range': (1, 2), 'n_neighbors': 7, 'weights': 'distance'}. Best is trial 131 with value: 0.8461511835855624.\n",
      "[I 2024-09-18 15:36:36,808] Trial 201 finished with value: 0.8418072034305712 and parameters: {'max_df': 0.6439851810885193, 'min_df': 0.09126509181514154, 'max_features': 338, 'stop_words': None, 'ngram_range': (1, 2), 'n_neighbors': 7, 'weights': 'distance'}. Best is trial 131 with value: 0.8461511835855624.\n",
      "[I 2024-09-18 15:36:38,201] Trial 202 finished with value: 0.844907024594735 and parameters: {'max_df': 0.6544224107743839, 'min_df': 0.0937148652749657, 'max_features': 331, 'stop_words': None, 'ngram_range': (1, 2), 'n_neighbors': 7, 'weights': 'distance'}. Best is trial 131 with value: 0.8461511835855624.\n",
      "[I 2024-09-18 15:36:39,555] Trial 203 finished with value: 0.8405668903717093 and parameters: {'max_df': 0.6521662933535926, 'min_df': 0.09677656292971012, 'max_features': 319, 'stop_words': None, 'ngram_range': (1, 2), 'n_neighbors': 7, 'weights': 'distance'}. Best is trial 131 with value: 0.8461511835855624.\n",
      "[I 2024-09-18 15:36:40,960] Trial 204 finished with value: 0.8442878295482954 and parameters: {'max_df': 0.6636921785143415, 'min_df': 0.08350938869453065, 'max_features': 357, 'stop_words': None, 'ngram_range': (1, 2), 'n_neighbors': 7, 'weights': 'distance'}. Best is trial 131 with value: 0.8461511835855624.\n",
      "[I 2024-09-18 15:36:42,394] Trial 205 finished with value: 0.8374670692075457 and parameters: {'max_df': 0.6647040912152576, 'min_df': 0.08016147791235062, 'max_features': 349, 'stop_words': None, 'ngram_range': (1, 2), 'n_neighbors': 7, 'weights': 'distance'}. Best is trial 131 with value: 0.8461511835855624.\n",
      "[I 2024-09-18 15:36:43,912] Trial 206 finished with value: 0.8349902890217871 and parameters: {'max_df': 0.7121228904506731, 'min_df': 0.07320180840544395, 'max_features': 326, 'stop_words': None, 'ngram_range': (1, 2), 'n_neighbors': 7, 'weights': 'distance'}. Best is trial 131 with value: 0.8461511835855624.\n",
      "[I 2024-09-18 15:36:45,458] Trial 207 finished with value: 0.8349864430898217 and parameters: {'max_df': 0.6835360864410099, 'min_df': 0.06162603938807687, 'max_features': 366, 'stop_words': None, 'ngram_range': (1, 2), 'n_neighbors': 7, 'weights': 'distance'}. Best is trial 131 with value: 0.8461511835855624.\n",
      "[I 2024-09-18 15:36:46,289] Trial 208 finished with value: 0.8250581697209777 and parameters: {'max_df': 0.6163223257599479, 'min_df': 0.10876658573644313, 'max_features': 299, 'stop_words': None, 'ngram_range': (1, 1), 'n_neighbors': 7, 'weights': 'distance'}. Best is trial 131 with value: 0.8461511835855624.\n",
      "[I 2024-09-18 15:36:47,724] Trial 209 finished with value: 0.8424360133069246 and parameters: {'max_df': 0.722962919812301, 'min_df': 0.08773387058528159, 'max_features': 395, 'stop_words': None, 'ngram_range': (1, 2), 'n_neighbors': 7, 'weights': 'distance'}. Best is trial 131 with value: 0.8461511835855624.\n",
      "[I 2024-09-18 15:36:50,987] Trial 210 finished with value: 0.8387093052323904 and parameters: {'max_df': 0.7204725161191742, 'min_df': 0.09529036530889529, 'max_features': 386, 'stop_words': None, 'ngram_range': (1, 4), 'n_neighbors': 7, 'weights': 'distance'}. Best is trial 131 with value: 0.8461511835855624.\n",
      "[I 2024-09-18 15:36:52,394] Trial 211 finished with value: 0.8430475164894332 and parameters: {'max_df': 0.7028311226760519, 'min_df': 0.0851926143566522, 'max_features': 360, 'stop_words': None, 'ngram_range': (1, 2), 'n_neighbors': 7, 'weights': 'distance'}. Best is trial 131 with value: 0.8461511835855624.\n",
      "[I 2024-09-18 15:36:53,808] Trial 212 finished with value: 0.8449108705267004 and parameters: {'max_df': 0.7076301875966851, 'min_df': 0.08315578126918705, 'max_features': 401, 'stop_words': None, 'ngram_range': (1, 2), 'n_neighbors': 7, 'weights': 'distance'}. Best is trial 131 with value: 0.8461511835855624.\n",
      "[I 2024-09-18 15:36:55,340] Trial 213 finished with value: 0.8362267561486837 and parameters: {'max_df': 0.7269552729765977, 'min_df': 0.10138270041247152, 'max_features': 398, 'stop_words': None, 'ngram_range': (1, 2), 'n_neighbors': 7, 'weights': 'distance'}. Best is trial 131 with value: 0.8461511835855624.\n",
      "[I 2024-09-18 15:36:56,820] Trial 214 finished with value: 0.8424360133069244 and parameters: {'max_df': 0.7141897532510186, 'min_df': 0.08852911701456372, 'max_features': 412, 'stop_words': None, 'ngram_range': (1, 2), 'n_neighbors': 7, 'weights': 'distance'}. Best is trial 131 with value: 0.8461511835855624.\n",
      "[I 2024-09-18 15:36:58,315] Trial 215 finished with value: 0.8331346268484511 and parameters: {'max_df': 0.7382991131218151, 'min_df': 0.07228076557279098, 'max_features': 425, 'stop_words': None, 'ngram_range': (1, 2), 'n_neighbors': 7, 'weights': 'distance'}. Best is trial 131 with value: 0.8461511835855624.\n",
      "[I 2024-09-18 15:36:59,746] Trial 216 finished with value: 0.8430475164894332 and parameters: {'max_df': 0.7080262543171162, 'min_df': 0.08454560806062669, 'max_features': 407, 'stop_words': None, 'ngram_range': (1, 2), 'n_neighbors': 7, 'weights': 'distance'}. Best is trial 131 with value: 0.8461511835855624.\n",
      "[I 2024-09-18 15:37:01,500] Trial 217 finished with value: 0.8337480529969424 and parameters: {'max_df': 0.7021715804348736, 'min_df': 0.06188539201201911, 'max_features': 392, 'stop_words': None, 'ngram_range': (1, 2), 'n_neighbors': 7, 'weights': 'distance'}. Best is trial 131 with value: 0.8461511835855624.\n",
      "[I 2024-09-18 15:37:03,362] Trial 218 finished with value: 0.8368478741611062 and parameters: {'max_df': 0.6762095002865021, 'min_df': 0.07875038503390319, 'max_features': 370, 'stop_words': 'english', 'ngram_range': (1, 2), 'n_neighbors': 7, 'weights': 'distance'}. Best is trial 131 with value: 0.8461511835855624.\n",
      "[I 2024-09-18 15:37:04,802] Trial 219 finished with value: 0.8430475164894332 and parameters: {'max_df': 0.728856985880028, 'min_df': 0.08484582790668191, 'max_features': 407, 'stop_words': None, 'ngram_range': (1, 2), 'n_neighbors': 7, 'weights': 'distance'}. Best is trial 131 with value: 0.8461511835855624.\n",
      "[I 2024-09-18 15:37:06,407] Trial 220 finished with value: 0.8349960579197354 and parameters: {'max_df': 0.7290148806305066, 'min_df': 0.06899083657323153, 'max_features': 402, 'stop_words': None, 'ngram_range': (1, 2), 'n_neighbors': 7, 'weights': 'distance'}. Best is trial 131 with value: 0.8461511835855624.\n",
      "[I 2024-09-18 15:37:07,904] Trial 221 finished with value: 0.8424263984770108 and parameters: {'max_df': 0.70572088783795, 'min_df': 0.08543599348701038, 'max_features': 433, 'stop_words': None, 'ngram_range': (1, 2), 'n_neighbors': 7, 'weights': 'distance'}. Best is trial 131 with value: 0.8461511835855624.\n",
      "[I 2024-09-18 15:37:08,815] Trial 222 finished with value: 0.8362190642847528 and parameters: {'max_df': 0.7235877761639288, 'min_df': 0.0795889523765457, 'max_features': 55, 'stop_words': None, 'ngram_range': (1, 2), 'n_neighbors': 7, 'weights': 'distance'}. Best is trial 131 with value: 0.8461511835855624.\n",
      "[I 2024-09-18 15:37:10,171] Trial 223 finished with value: 0.826919600792262 and parameters: {'max_df': 0.741765939134696, 'min_df': 0.09268002538688329, 'max_features': 377, 'stop_words': None, 'ngram_range': (1, 2), 'n_neighbors': 3, 'weights': 'distance'}. Best is trial 131 with value: 0.8461511835855624.\n",
      "[I 2024-09-18 15:37:11,574] Trial 224 finished with value: 0.8424263984770108 and parameters: {'max_df': 0.6944214801943965, 'min_df': 0.08546288563013191, 'max_features': 409, 'stop_words': None, 'ngram_range': (1, 2), 'n_neighbors': 7, 'weights': 'distance'}. Best is trial 131 with value: 0.8461511835855624.\n",
      "[I 2024-09-18 15:37:12,872] Trial 225 finished with value: 0.8318750841297617 and parameters: {'max_df': 0.709596132478459, 'min_df': 0.1053422622283748, 'max_features': 359, 'stop_words': None, 'ngram_range': (1, 2), 'n_neighbors': 7, 'weights': 'distance'}. Best is trial 131 with value: 0.8461511835855624.\n",
      "[I 2024-09-18 15:37:14,342] Trial 226 finished with value: 0.8318827759936926 and parameters: {'max_df': 0.6372249451658843, 'min_df': 0.07297600786320943, 'max_features': 390, 'stop_words': None, 'ngram_range': (1, 2), 'n_neighbors': 7, 'weights': 'distance'}. Best is trial 131 with value: 0.8461511835855624.\n",
      "[I 2024-09-18 15:37:15,195] Trial 227 finished with value: 0.7016152914254947 and parameters: {'max_df': 0.7309113465484735, 'min_df': 0.37968944641227, 'max_features': 346, 'stop_words': None, 'ngram_range': (1, 2), 'n_neighbors': 7, 'weights': 'uniform'}. Best is trial 131 with value: 0.8461511835855624.\n",
      "[I 2024-09-18 15:37:16,725] Trial 228 finished with value: 0.8306540007307269 and parameters: {'max_df': 0.6588943380324009, 'min_df': 0.05077229439589907, 'max_features': 374, 'stop_words': None, 'ngram_range': (1, 2), 'n_neighbors': 7, 'weights': 'distance'}. Best is trial 131 with value: 0.8461511835855624.\n",
      "[I 2024-09-18 15:37:18,024] Trial 229 finished with value: 0.8380824183220199 and parameters: {'max_df': 0.5887417991109516, 'min_df': 0.09499347535410042, 'max_features': 425, 'stop_words': None, 'ngram_range': (1, 2), 'n_neighbors': 7, 'weights': 'distance'}. Best is trial 131 with value: 0.8461511835855624.\n",
      "[I 2024-09-18 15:37:19,479] Trial 230 finished with value: 0.840576505201623 and parameters: {'max_df': 0.7155214675396123, 'min_df': 0.07939831615459034, 'max_features': 401, 'stop_words': None, 'ngram_range': (1, 2), 'n_neighbors': 8, 'weights': 'distance'}. Best is trial 131 with value: 0.8461511835855624.\n",
      "[I 2024-09-18 15:37:20,864] Trial 231 finished with value: 0.8424360133069246 and parameters: {'max_df': 0.711700370605658, 'min_df': 0.08815316948482342, 'max_features': 419, 'stop_words': None, 'ngram_range': (1, 2), 'n_neighbors': 7, 'weights': 'distance'}. Best is trial 131 with value: 0.8461511835855624.\n",
      "[I 2024-09-18 15:37:22,268] Trial 232 finished with value: 0.8393304232448127 and parameters: {'max_df': 0.7032366525751363, 'min_df': 0.08918031290774776, 'max_features': 437, 'stop_words': None, 'ngram_range': (1, 2), 'n_neighbors': 7, 'weights': 'distance'}. Best is trial 131 with value: 0.8461511835855624.\n",
      "[I 2024-09-18 15:37:23,077] Trial 233 finished with value: 0.5390938984289368 and parameters: {'max_df': 0.7214999686632567, 'min_df': 0.47097677530953064, 'max_features': 362, 'stop_words': None, 'ngram_range': (1, 2), 'n_neighbors': 7, 'weights': 'distance'}. Best is trial 131 with value: 0.8461511835855624.\n",
      "[I 2024-09-18 15:37:24,357] Trial 234 finished with value: 0.83188085302771 and parameters: {'max_df': 0.6926740510464415, 'min_df': 0.10459379198392998, 'max_features': 390, 'stop_words': None, 'ngram_range': (1, 2), 'n_neighbors': 7, 'weights': 'distance'}. Best is trial 131 with value: 0.8461511835855624.\n",
      "[I 2024-09-18 15:37:25,756] Trial 235 finished with value: 0.8418052804645886 and parameters: {'max_df': 0.6697203437656756, 'min_df': 0.0822136337314106, 'max_features': 332, 'stop_words': None, 'ngram_range': (1, 2), 'n_neighbors': 7, 'weights': 'distance'}. Best is trial 131 with value: 0.8461511835855624.\n",
      "[I 2024-09-18 15:37:28,130] Trial 236 finished with value: 0.8387169970963214 and parameters: {'max_df': 0.7363569372727641, 'min_df': 0.06933845631880402, 'max_features': 413, 'stop_words': None, 'ngram_range': (1, 3), 'n_neighbors': 7, 'weights': 'distance'}. Best is trial 131 with value: 0.8461511835855624.\n",
      "[I 2024-09-18 15:37:29,476] Trial 237 finished with value: 0.8374709151395112 and parameters: {'max_df': 0.7522530248234129, 'min_df': 0.09645877806737074, 'max_features': 351, 'stop_words': None, 'ngram_range': (1, 2), 'n_neighbors': 7, 'weights': 'distance'}. Best is trial 131 with value: 0.8461511835855624.\n",
      "[I 2024-09-18 15:37:31,041] Trial 238 finished with value: 0.8399515412572353 and parameters: {'max_df': 0.7108249153290929, 'min_df': 0.08675204767546363, 'max_features': 385, 'stop_words': None, 'ngram_range': (1, 2), 'n_neighbors': 7, 'weights': 'distance'}. Best is trial 131 with value: 0.8461511835855624.\n",
      "[I 2024-09-18 15:37:31,961] Trial 239 finished with value: 0.806459242735996 and parameters: {'max_df': 0.6880897526814176, 'min_df': 0.24996064916279875, 'max_features': 608, 'stop_words': None, 'ngram_range': (1, 2), 'n_neighbors': 7, 'weights': 'distance'}. Best is trial 131 with value: 0.8461511835855624.\n",
      "[I 2024-09-18 15:37:33,592] Trial 240 finished with value: 0.8368517200930716 and parameters: {'max_df': 0.7231519823752386, 'min_df': 0.07627420026076195, 'max_features': 370, 'stop_words': None, 'ngram_range': (1, 2), 'n_neighbors': 7, 'weights': 'distance'}. Best is trial 131 with value: 0.8461511835855624.\n",
      "[I 2024-09-18 15:37:34,979] Trial 241 finished with value: 0.8393304232448127 and parameters: {'max_df': 0.7147292149389148, 'min_df': 0.08938150779926146, 'max_features': 409, 'stop_words': None, 'ngram_range': (1, 2), 'n_neighbors': 7, 'weights': 'distance'}. Best is trial 131 with value: 0.8461511835855624.\n",
      "[I 2024-09-18 15:37:36,346] Trial 242 finished with value: 0.83932850027883 and parameters: {'max_df': 0.7020080987717738, 'min_df': 0.09025237754247038, 'max_features': 418, 'stop_words': None, 'ngram_range': (1, 2), 'n_neighbors': 7, 'weights': 'distance'}. Best is trial 131 with value: 0.8461511835855624.\n",
      "[I 2024-09-18 15:37:37,780] Trial 243 finished with value: 0.8430532853873813 and parameters: {'max_df': 0.7092197149338189, 'min_df': 0.0812610925845619, 'max_features': 443, 'stop_words': None, 'ngram_range': (1, 2), 'n_neighbors': 7, 'weights': 'distance'}. Best is trial 131 with value: 0.8461511835855624.\n",
      "[I 2024-09-18 15:37:39,406] Trial 244 finished with value: 0.8356152529661751 and parameters: {'max_df': 0.6985815522570387, 'min_df': 0.06330038637136025, 'max_features': 461, 'stop_words': None, 'ngram_range': (1, 2), 'n_neighbors': 7, 'weights': 'distance'}. Best is trial 131 with value: 0.8461511835855624.\n",
      "[I 2024-09-18 15:37:40,855] Trial 245 finished with value: 0.8380920331519335 and parameters: {'max_df': 0.6809743230397711, 'min_df': 0.07704726355056582, 'max_features': 438, 'stop_words': None, 'ngram_range': (1, 2), 'n_neighbors': 7, 'weights': 'distance'}. Best is trial 131 with value: 0.8461511835855624.\n",
      "[I 2024-09-18 15:37:42,176] Trial 246 finished with value: 0.8387073822664076 and parameters: {'max_df': 0.7098090275334276, 'min_df': 0.09923423676459113, 'max_features': 482, 'stop_words': None, 'ngram_range': (1, 2), 'n_neighbors': 7, 'weights': 'distance'}. Best is trial 131 with value: 0.8461511835855624.\n",
      "[I 2024-09-18 15:37:43,592] Trial 247 finished with value: 0.8418110493625367 and parameters: {'max_df': 0.7231447371764461, 'min_df': 0.08143964751232646, 'max_features': 350, 'stop_words': None, 'ngram_range': (1, 2), 'n_neighbors': 7, 'weights': 'distance'}. Best is trial 131 with value: 0.8461511835855624.\n",
      "[I 2024-09-18 15:37:44,825] Trial 248 finished with value: 0.8293963809780205 and parameters: {'max_df': 0.733234060642382, 'min_df': 0.11469764962332606, 'max_features': 378, 'stop_words': None, 'ngram_range': (1, 2), 'n_neighbors': 7, 'weights': 'distance'}. Best is trial 131 with value: 0.8461511835855624.\n",
      "[I 2024-09-18 15:37:46,327] Trial 249 finished with value: 0.834367248043382 and parameters: {'max_df': 0.6980120652823983, 'min_df': 0.07007455867942303, 'max_features': 323, 'stop_words': None, 'ngram_range': (1, 2), 'n_neighbors': 7, 'weights': 'distance'}. Best is trial 131 with value: 0.8461511835855624.\n",
      "[I 2024-09-18 15:37:47,898] Trial 250 finished with value: 0.8424321673749591 and parameters: {'max_df': 0.9723047694919629, 'min_df': 0.09512379676092589, 'max_features': 451, 'stop_words': None, 'ngram_range': (1, 2), 'n_neighbors': 7, 'weights': 'distance'}. Best is trial 131 with value: 0.8461511835855624.\n",
      "[I 2024-09-18 15:37:49,184] Trial 251 finished with value: 0.8331192431205892 and parameters: {'max_df': 0.7461434087354316, 'min_df': 0.10395049983678542, 'max_features': 391, 'stop_words': None, 'ngram_range': (1, 2), 'n_neighbors': 7, 'weights': 'distance'}. Best is trial 131 with value: 0.8461511835855624.\n",
      "[I 2024-09-18 15:37:49,983] Trial 252 finished with value: 0.838713151164356 and parameters: {'max_df': 0.6511928648739881, 'min_df': 0.08307239506025481, 'max_features': 358, 'stop_words': 'english', 'ngram_range': (1, 1), 'n_neighbors': 7, 'weights': 'distance'}. Best is trial 131 with value: 0.8461511835855624.\n",
      "[I 2024-09-18 15:37:53,216] Trial 253 finished with value: 0.8368517200930716 and parameters: {'max_df': 0.7094377544095267, 'min_df': 0.06517959295544774, 'max_features': 340, 'stop_words': None, 'ngram_range': (1, 4), 'n_neighbors': 7, 'weights': 'distance'}. Best is trial 131 with value: 0.8461511835855624.\n",
      "[I 2024-09-18 15:37:54,165] Trial 254 finished with value: 0.8076937868969098 and parameters: {'max_df': 0.68457891490762, 'min_df': 0.20106109526119503, 'max_features': 404, 'stop_words': None, 'ngram_range': (1, 2), 'n_neighbors': 7, 'weights': 'distance'}. Best is trial 131 with value: 0.8461511835855624.\n",
      "[I 2024-09-18 15:37:55,622] Trial 255 finished with value: 0.8380978020498817 and parameters: {'max_df': 0.7184307644126302, 'min_df': 0.07756745629356443, 'max_features': 372, 'stop_words': None, 'ngram_range': (1, 2), 'n_neighbors': 8, 'weights': 'distance'}. Best is trial 131 with value: 0.8461511835855624.\n",
      "[I 2024-09-18 15:37:57,014] Trial 256 finished with value: 0.8349806741918735 and parameters: {'max_df': 0.6686206201514936, 'min_df': 0.08660180811152324, 'max_features': 325, 'stop_words': None, 'ngram_range': (1, 2), 'n_neighbors': 7, 'weights': 'uniform'}. Best is trial 131 with value: 0.8461511835855624.\n",
      "[I 2024-09-18 15:37:58,351] Trial 257 finished with value: 0.8387073822664076 and parameters: {'max_df': 0.7595417038878897, 'min_df': 0.09934628980272542, 'max_features': 429, 'stop_words': None, 'ngram_range': (1, 2), 'n_neighbors': 7, 'weights': 'distance'}. Best is trial 131 with value: 0.8461511835855624.\n",
      "[I 2024-09-18 15:37:59,868] Trial 258 finished with value: 0.8349941349537527 and parameters: {'max_df': 0.7322586306850329, 'min_df': 0.07205958281140139, 'max_features': 393, 'stop_words': None, 'ngram_range': (1, 2), 'n_neighbors': 7, 'weights': 'distance'}. Best is trial 131 with value: 0.8461511835855624.\n",
      "[I 2024-09-18 15:38:01,123] Trial 259 finished with value: 0.8306290021729514 and parameters: {'max_df': 0.694053347319693, 'min_df': 0.11002458695991324, 'max_features': 357, 'stop_words': None, 'ngram_range': (1, 2), 'n_neighbors': 7, 'weights': 'distance'}. Best is trial 131 with value: 0.8461511835855624.\n",
      "[I 2024-09-18 15:38:02,570] Trial 260 finished with value: 0.8411899313501143 and parameters: {'max_df': 0.7092103984566451, 'min_df': 0.0922285169396763, 'max_features': 378, 'stop_words': None, 'ngram_range': (1, 2), 'n_neighbors': 7, 'weights': 'distance'}. Best is trial 131 with value: 0.8461511835855624.\n",
      "[I 2024-09-18 15:38:04,036] Trial 261 finished with value: 0.8294079187739168 and parameters: {'max_df': 0.6766875307789857, 'min_df': 0.05544553541812031, 'max_features': 338, 'stop_words': None, 'ngram_range': (1, 2), 'n_neighbors': 7, 'weights': 'distance'}. Best is trial 131 with value: 0.8461511835855624.\n",
      "[I 2024-09-18 15:38:05,437] Trial 262 finished with value: 0.8368401822971752 and parameters: {'max_df': 0.7240185647607932, 'min_df': 0.08410058125802497, 'max_features': 313, 'stop_words': None, 'ngram_range': (1, 2), 'n_neighbors': 8, 'weights': 'distance'}. Best is trial 131 with value: 0.8461511835855624.\n",
      "[I 2024-09-18 15:38:06,956] Trial 263 finished with value: 0.8368517200930716 and parameters: {'max_df': 0.70255717177932, 'min_df': 0.0761180884682387, 'max_features': 423, 'stop_words': None, 'ngram_range': (1, 2), 'n_neighbors': 7, 'weights': 'distance'}. Best is trial 131 with value: 0.8461511835855624.\n",
      "[I 2024-09-18 15:38:08,260] Trial 264 finished with value: 0.8399457723592869 and parameters: {'max_df': 0.6627301335420057, 'min_df': 0.09761745151992389, 'max_features': 365, 'stop_words': None, 'ngram_range': (1, 2), 'n_neighbors': 7, 'weights': 'distance'}. Best is trial 131 with value: 0.8461511835855624.\n",
      "[I 2024-09-18 15:38:09,852] Trial 265 finished with value: 0.8312655039132357 and parameters: {'max_df': 0.7405661623546667, 'min_df': 0.06242054251655845, 'max_features': 401, 'stop_words': None, 'ngram_range': (1, 2), 'n_neighbors': 7, 'weights': 'distance'}. Best is trial 131 with value: 0.8461511835855624.\n",
      "[I 2024-09-18 15:38:12,030] Trial 266 finished with value: 0.8374670692075457 and parameters: {'max_df': 0.6882682713058518, 'min_df': 0.09022841234914665, 'max_features': 344, 'stop_words': None, 'ngram_range': (1, 3), 'n_neighbors': 7, 'weights': 'distance'}. Best is trial 131 with value: 0.8461511835855624.\n",
      "[I 2024-09-18 15:38:13,583] Trial 267 finished with value: 0.8294002269099859 and parameters: {'max_df': 0.5578782525324344, 'min_df': 0.07227515438865313, 'max_features': 377, 'stop_words': None, 'ngram_range': (1, 2), 'n_neighbors': 7, 'weights': 'distance'}. Best is trial 131 with value: 0.8461511835855624.\n",
      "[I 2024-09-18 15:38:14,890] Trial 268 finished with value: 0.8293906120800723 and parameters: {'max_df': 0.7165353047306109, 'min_df': 0.10957313235797195, 'max_features': 440, 'stop_words': None, 'ngram_range': (1, 2), 'n_neighbors': 7, 'weights': 'distance'}. Best is trial 131 with value: 0.8461511835855624.\n",
      "[I 2024-09-18 15:38:16,372] Trial 269 finished with value: 0.8362248331827009 and parameters: {'max_df': 0.5316568134874274, 'min_df': 0.08334251251017702, 'max_features': 395, 'stop_words': None, 'ngram_range': (1, 2), 'n_neighbors': 7, 'weights': 'distance'}. Best is trial 131 with value: 0.8461511835855624.\n",
      "[I 2024-09-18 15:38:17,241] Trial 270 finished with value: 0.7816299059669634 and parameters: {'max_df': 0.771298741907473, 'min_df': 0.2980526581091051, 'max_features': 357, 'stop_words': None, 'ngram_range': (1, 2), 'n_neighbors': 7, 'weights': 'distance'}. Best is trial 131 with value: 0.8461511835855624.\n",
      "[I 2024-09-18 15:38:18,572] Trial 271 finished with value: 0.8343595561794512 and parameters: {'max_df': 0.7261651923553492, 'min_df': 0.10026063809957605, 'max_features': 332, 'stop_words': 'english', 'ngram_range': (1, 2), 'n_neighbors': 7, 'weights': 'distance'}. Best is trial 131 with value: 0.8461511835855624.\n",
      "[I 2024-09-18 15:38:19,959] Trial 272 finished with value: 0.8411899313501143 and parameters: {'max_df': 0.6982404739366097, 'min_df': 0.09113623808588094, 'max_features': 418, 'stop_words': None, 'ngram_range': (1, 2), 'n_neighbors': 7, 'weights': 'distance'}. Best is trial 131 with value: 0.8461511835855624.\n",
      "[I 2024-09-18 15:38:21,421] Trial 273 finished with value: 0.8374786070034421 and parameters: {'max_df': 0.7522103461470393, 'min_df': 0.0758681734912434, 'max_features': 317, 'stop_words': None, 'ngram_range': (1, 2), 'n_neighbors': 8, 'weights': 'distance'}. Best is trial 131 with value: 0.8461511835855624.\n",
      "[I 2024-09-18 15:38:22,959] Trial 274 finished with value: 0.8356114070342094 and parameters: {'max_df': 0.6758431903151115, 'min_df': 0.06620575601326242, 'max_features': 380, 'stop_words': None, 'ngram_range': (1, 2), 'n_neighbors': 7, 'weights': 'distance'}. Best is trial 131 with value: 0.8461511835855624.\n",
      "[I 2024-09-18 15:38:23,712] Trial 275 finished with value: 0.838088187219968 and parameters: {'max_df': 0.6540703206461268, 'min_df': 0.08395601704111318, 'max_features': 353, 'stop_words': None, 'ngram_range': (1, 1), 'n_neighbors': 6, 'weights': 'distance'}. Best is trial 131 with value: 0.8461511835855624.\n",
      "[I 2024-09-18 15:38:25,010] Trial 276 finished with value: 0.8262907909159086 and parameters: {'max_df': 0.7090819648010204, 'min_df': 0.10283164046253924, 'max_features': 409, 'stop_words': None, 'ngram_range': (1, 2), 'n_neighbors': 7, 'weights': 'uniform'}. Best is trial 131 with value: 0.8461511835855624.\n",
      "[I 2024-09-18 15:38:28,074] Trial 277 finished with value: 0.8281579908851413 and parameters: {'max_df': 0.6869173621994253, 'min_df': 0.11626409484004435, 'max_features': 462, 'stop_words': None, 'ngram_range': (1, 4), 'n_neighbors': 7, 'weights': 'distance'}. Best is trial 131 with value: 0.8461511835855624.\n",
      "[I 2024-09-18 15:38:29,433] Trial 278 finished with value: 0.8411899313501143 and parameters: {'max_df': 0.7297732635132224, 'min_df': 0.09219689773885063, 'max_features': 367, 'stop_words': None, 'ngram_range': (1, 2), 'n_neighbors': 7, 'weights': 'distance'}. Best is trial 131 with value: 0.8461511835855624.\n",
      "[I 2024-09-18 15:38:30,923] Trial 279 finished with value: 0.8343614791454339 and parameters: {'max_df': 0.7406206996417515, 'min_df': 0.05958066475213838, 'max_features': 334, 'stop_words': None, 'ngram_range': (1, 2), 'n_neighbors': 7, 'weights': 'distance'}. Best is trial 131 with value: 0.8461511835855624.\n",
      "[I 2024-09-18 15:38:32,382] Trial 280 finished with value: 0.8356152529661751 and parameters: {'max_df': 0.7162893652433945, 'min_df': 0.07825430840005823, 'max_features': 391, 'stop_words': None, 'ngram_range': (1, 2), 'n_neighbors': 7, 'weights': 'distance'}. Best is trial 131 with value: 0.8461511835855624.\n",
      "[I 2024-09-18 15:38:33,945] Trial 281 finished with value: 0.8349883660558044 and parameters: {'max_df': 0.7047687643223128, 'min_df': 0.08651382486468683, 'max_features': 310, 'stop_words': None, 'ngram_range': (1, 2), 'n_neighbors': 8, 'weights': 'distance'}. Best is trial 131 with value: 0.8461511835855624.\n",
      "[I 2024-09-18 15:38:35,451] Trial 282 finished with value: 0.831888544891641 and parameters: {'max_df': 0.6425361467591141, 'min_df': 0.07217313422461562, 'max_features': 832, 'stop_words': None, 'ngram_range': (1, 2), 'n_neighbors': 7, 'weights': 'distance'}. Best is trial 131 with value: 0.8461511835855624.\n",
      "[I 2024-09-18 15:38:36,749] Trial 283 finished with value: 0.832503894006115 and parameters: {'max_df': 0.6934128148615494, 'min_df': 0.10029522643089693, 'max_features': 440, 'stop_words': None, 'ngram_range': (1, 2), 'n_neighbors': 6, 'weights': 'distance'}. Best is trial 131 with value: 0.8461511835855624.\n",
      "[I 2024-09-18 15:38:38,078] Trial 284 finished with value: 0.8436686345018558 and parameters: {'max_df': 0.6683056316852863, 'min_df': 0.09331186249592947, 'max_features': 350, 'stop_words': None, 'ngram_range': (1, 2), 'n_neighbors': 7, 'weights': 'distance'}. Best is trial 131 with value: 0.8461511835855624.\n",
      "[I 2024-09-18 15:38:39,385] Trial 285 finished with value: 0.8331153971886238 and parameters: {'max_df': 0.9273138328558426, 'min_df': 0.10645154588139173, 'max_features': 375, 'stop_words': None, 'ngram_range': (1, 2), 'n_neighbors': 7, 'weights': 'distance'}. Best is trial 131 with value: 0.8461511835855624.\n",
      "[I 2024-09-18 15:38:40,823] Trial 286 finished with value: 0.8374670692075457 and parameters: {'max_df': 0.6674750896603204, 'min_df': 0.08039414464769094, 'max_features': 343, 'stop_words': None, 'ngram_range': (1, 2), 'n_neighbors': 7, 'weights': 'distance'}. Best is trial 131 with value: 0.8461511835855624.\n",
      "[I 2024-09-18 15:38:42,198] Trial 287 finished with value: 0.8343653250773994 and parameters: {'max_df': 0.658977286382283, 'min_df': 0.09433888939345367, 'max_features': 391, 'stop_words': None, 'ngram_range': (1, 2), 'n_neighbors': 5, 'weights': 'distance'}. Best is trial 131 with value: 0.8461511835855624.\n",
      "[I 2024-09-18 15:38:43,840] Trial 288 finished with value: 0.7965078937753592 and parameters: {'max_df': 0.6788391802813792, 'min_df': 0.047962949983954006, 'max_features': 420, 'stop_words': None, 'ngram_range': (1, 2), 'n_neighbors': 2, 'weights': 'distance'}. Best is trial 131 with value: 0.8461511835855624.\n",
      "[I 2024-09-18 15:38:45,389] Trial 289 finished with value: 0.8349960579197354 and parameters: {'max_df': 0.6666399763961711, 'min_df': 0.06681484275982241, 'max_features': 361, 'stop_words': None, 'ngram_range': (1, 2), 'n_neighbors': 7, 'weights': 'distance'}. Best is trial 131 with value: 0.8461511835855624.\n",
      "[I 2024-09-18 15:38:46,771] Trial 290 finished with value: 0.8325000480741496 and parameters: {'max_df': 0.5006474574160972, 'min_df': 0.08205053158337344, 'max_features': 327, 'stop_words': None, 'ngram_range': (1, 2), 'n_neighbors': 7, 'weights': 'distance'}. Best is trial 131 with value: 0.8461511835855624.\n",
      "[I 2024-09-18 15:38:48,819] Trial 291 finished with value: 0.8293925350460549 and parameters: {'max_df': 0.6729050698772252, 'min_df': 0.113377697445398, 'max_features': 398, 'stop_words': 'english', 'ngram_range': (1, 3), 'n_neighbors': 7, 'weights': 'distance'}. Best is trial 131 with value: 0.8461511835855624.\n",
      "[I 2024-09-18 15:38:50,155] Trial 292 finished with value: 0.8387073822664076 and parameters: {'max_df': 0.6445171430386143, 'min_df': 0.09452453151276069, 'max_features': 513, 'stop_words': None, 'ngram_range': (1, 2), 'n_neighbors': 6, 'weights': 'distance'}. Best is trial 131 with value: 0.8461511835855624.\n",
      "[I 2024-09-18 15:38:51,596] Trial 293 finished with value: 0.8349864430898217 and parameters: {'max_df': 0.6561939917962516, 'min_df': 0.0758402727389007, 'max_features': 308, 'stop_words': None, 'ngram_range': (1, 2), 'n_neighbors': 7, 'weights': 'distance'}. Best is trial 131 with value: 0.8461511835855624.\n",
      "[I 2024-09-18 15:38:53,068] Trial 294 finished with value: 0.8306540007307271 and parameters: {'max_df': 0.6305765662483358, 'min_df': 0.05559392717221885, 'max_features': 348, 'stop_words': None, 'ngram_range': (1, 2), 'n_neighbors': 7, 'weights': 'distance'}. Best is trial 131 with value: 0.8461511835855624.\n",
      "[I 2024-09-18 15:38:54,455] Trial 295 finished with value: 0.8343634021114166 and parameters: {'max_df': 0.6824194619021606, 'min_df': 0.08902159130230419, 'max_features': 375, 'stop_words': None, 'ngram_range': (1, 2), 'n_neighbors': 8, 'weights': 'uniform'}. Best is trial 131 with value: 0.8461511835855624.\n",
      "[I 2024-09-18 15:38:55,655] Trial 296 finished with value: 0.8207084206680385 and parameters: {'max_df': 0.7453627504773394, 'min_df': 0.12209211520403884, 'max_features': 413, 'stop_words': None, 'ngram_range': (1, 2), 'n_neighbors': 7, 'weights': 'distance'}. Best is trial 131 with value: 0.8461511835855624.\n",
      "[I 2024-09-18 15:38:56,939] Trial 297 finished with value: 0.83188085302771 and parameters: {'max_df': 0.7617088414105087, 'min_df': 0.10159558722010945, 'max_features': 477, 'stop_words': None, 'ngram_range': (1, 2), 'n_neighbors': 9, 'weights': 'distance'}. Best is trial 131 with value: 0.8461511835855624.\n",
      "[I 2024-09-18 15:38:58,472] Trial 298 finished with value: 0.8418091263965539 and parameters: {'max_df': 0.7226037187307334, 'min_df': 0.07106530339932193, 'max_features': 440, 'stop_words': None, 'ngram_range': (1, 2), 'n_neighbors': 6, 'weights': 'distance'}. Best is trial 131 with value: 0.8461511835855624.\n",
      "[I 2024-09-18 15:38:59,881] Trial 299 finished with value: 0.8467684556660193 and parameters: {'max_df': 0.693372321103527, 'min_df': 0.08413292078757699, 'max_features': 332, 'stop_words': None, 'ngram_range': (1, 2), 'n_neighbors': 7, 'weights': 'distance'}. Best is trial 299 with value: 0.8467684556660193.\n"
     ]
    },
    {
     "name": "stdout",
     "output_type": "stream",
     "text": [
      "Best trial: {'max_df': 0.693372321103527, 'min_df': 0.08413292078757699, 'max_features': 332, 'stop_words': None, 'ngram_range': (1, 2), 'n_neighbors': 7, 'weights': 'distance'} Accuracy score: 0.8467684556660193\n"
     ]
    }
   ],
   "execution_count": 73
  },
  {
   "metadata": {},
   "cell_type": "markdown",
   "source": [
    "#### Best with Simple preprocessing\n",
    "Best trial: {'max_df': 0.7859256640614342, 'min_df': 0.04713111258556, 'max_features': 820, 'stop_words': None, 'ngram_range': (1, 2), 'n_neighbors': 10, 'weights': 'distance'} Accuracy score: 0.8393381151087438"
   ],
   "id": "449b0613669cb18d"
  },
  {
   "metadata": {},
   "cell_type": "markdown",
   "source": [
    "#### Best with Improved preprocessing<br>\n",
    "Best trial: {'max_df': 0.693372321103527, 'min_df': 0.08413292078757699, 'max_features': 332, 'stop_words': None, 'ngram_range': (1, 2), 'n_neighbors': 7, 'weights': 'distance'} Accuracy score: 0.8467684556660193\n"
   ],
   "id": "227c9ede270a452c"
  },
  {
   "metadata": {},
   "cell_type": "markdown",
   "source": "### Step 7 - Revectorise, Retrain and predict the test set",
   "id": "218800ec2e70f1be"
  },
  {
   "metadata": {
    "ExecuteTime": {
     "end_time": "2024-09-25T16:01:46.807633Z",
     "start_time": "2024-09-25T16:01:46.683119Z"
    }
   },
   "cell_type": "code",
   "source": [
    "vectorizer = TfidfVectorizer(max_df=0.693372321103527, min_df=0.08413292078757699, ngram_range=(1,2), max_features=332, stop_words=None)\n",
    "\n",
    "# Fit and transform the training data\n",
    "X_train_tfidf2 = vectorizer.fit_transform(X_train)\n",
    "\n",
    "# Transform the test data (use only transform, no fit)\n",
    "X_test_tfidf2 = vectorizer.transform(X_test)\n",
    "\n",
    "# Retrain KNN\n",
    "knn = KNeighborsClassifier(n_neighbors=7, weights = 'distance')  \n",
    "knn.fit(X_train_tfidf2, y_train)\n",
    "\n",
    "y_pred2 = knn.predict(X_test_tfidf2)\n",
    "\n",
    "accuracy2 = accuracy_score(y_test, y_pred2)\n",
    "print(f\"Accuracy: {accuracy2:.3f}\")\n"
   ],
   "id": "9676ca9823914f00",
   "outputs": [
    {
     "ename": "NameError",
     "evalue": "name 'TfidfVectorizer' is not defined",
     "output_type": "error",
     "traceback": [
      "\u001B[0;31m---------------------------------------------------------------------------\u001B[0m",
      "\u001B[0;31mNameError\u001B[0m                                 Traceback (most recent call last)",
      "Cell \u001B[0;32mIn[1], line 1\u001B[0m\n\u001B[0;32m----> 1\u001B[0m vectorizer \u001B[38;5;241m=\u001B[39m \u001B[43mTfidfVectorizer\u001B[49m(max_df\u001B[38;5;241m=\u001B[39m\u001B[38;5;241m0.693372321103527\u001B[39m, min_df\u001B[38;5;241m=\u001B[39m\u001B[38;5;241m0.08413292078757699\u001B[39m, ngram_range\u001B[38;5;241m=\u001B[39m(\u001B[38;5;241m1\u001B[39m,\u001B[38;5;241m2\u001B[39m), max_features\u001B[38;5;241m=\u001B[39m\u001B[38;5;241m332\u001B[39m, stop_words\u001B[38;5;241m=\u001B[39m\u001B[38;5;28;01mNone\u001B[39;00m)\n\u001B[1;32m      3\u001B[0m \u001B[38;5;66;03m# Fit and transform the training data\u001B[39;00m\n\u001B[1;32m      4\u001B[0m X_train_tfidf2 \u001B[38;5;241m=\u001B[39m vectorizer\u001B[38;5;241m.\u001B[39mfit_transform(X_train)\n",
      "\u001B[0;31mNameError\u001B[0m: name 'TfidfVectorizer' is not defined"
     ]
    }
   ],
   "execution_count": 1
  },
  {
   "metadata": {},
   "cell_type": "markdown",
   "source": "Best with simple preprocessing = 0.83",
   "id": "1e41ce73b7747736"
  },
  {
   "metadata": {},
   "cell_type": "markdown",
   "source": "",
   "id": "5bcea571a6a30d0b"
  },
  {
   "metadata": {},
   "cell_type": "markdown",
   "source": "",
   "id": "fe66d7e0818a928f"
  }
 ],
 "metadata": {
  "kernelspec": {
   "display_name": "Python 3",
   "language": "python",
   "name": "python3"
  },
  "language_info": {
   "codemirror_mode": {
    "name": "ipython",
    "version": 2
   },
   "file_extension": ".py",
   "mimetype": "text/x-python",
   "name": "python",
   "nbconvert_exporter": "python",
   "pygments_lexer": "ipython2",
   "version": "2.7.6"
  }
 },
 "nbformat": 4,
 "nbformat_minor": 5
}
